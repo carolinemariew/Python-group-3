{
 "cells": [
  {
   "cell_type": "markdown",
   "metadata": {},
   "source": [
    "# Project Group - \n",
    "\n",
    "**Members & student numbers:** <br>\n",
    "Emma van den Brink - 5136008 <br>\n",
    "Caroline Aalders - 5230578 <br>\n",
    "Pangiotis Papadopoulos - 5054443 <br>\n",
    "Vendankur Kedar - 5693136 <br>\n",
    "Thieme Brandwagt - 5232910 <br>\n"
   ]
  },
  {
   "cell_type": "markdown",
   "metadata": {},
   "source": [
    "# Research Objective\n",
    "\n",
    "*Requires data modeling and quantitative research in Transport, Infrastructure & Logistics*"
   ]
  },
  {
   "cell_type": "markdown",
   "metadata": {},
   "source": [
    "Our research question: <br>\n",
    "What is the effect of **EU sustainable transport policy** on the modal shift from airplanes to high speed train within Europe?\n",
    "\n"
   ]
  },
  {
   "cell_type": "markdown",
   "metadata": {},
   "source": [
    "# Contribution Statement\n",
    "\n",
    "*Be specific. Some of the tasks can be coding (expect everyone to do this), background research, conceptualisation, visualisation, data analysis, data modelling*"
   ]
  },
  {
   "cell_type": "markdown",
   "metadata": {},
   "source": [
    "**Caroline Aalders**: Manager of background research.\n",
    "\n",
    "**Emma van den Brink**: Manager of data analysis.\n",
    "\n",
    "**Vedankur Kedar**: Manager of data visualisation in graphs (and possibly maps).\n",
    "\n",
    "**Panagiotis Papapoulos**: Manager of data modelling and coding logic.\n",
    "\n",
    "**Thieme Brandwagt**: Manager of conceptualisation of theory and relevant policy."
   ]
  },
  {
   "cell_type": "markdown",
   "metadata": {},
   "source": [
    "# Data Used"
   ]
  },
  {
   "cell_type": "markdown",
   "metadata": {},
   "source": [
    "1. **Data on W.I.P. EU transport policy:** https://www.consilium.europa.eu/en/policies/?filters=1650 (Relevant: Clean and sustainable mobility, European Green Deal, Rail Transport Policy)\n",
    "2. **Data on historal EU rail policy directives:** https://www.europarl.europa.eu/factsheets/en/sheet/130/rail-transport#:~:text=The%20directive%20was%20amended%20by%20Directive%202001%2F13%2FEC%20of,Directive%202012%2F34%2FEU%20of%2021%20November%202012%20establishing%20\n",
    "3. **Emission Trading Scheme and aviation:** https://climate.ec.europa.eu/eu-action/aviation-and-eu-ets_en\n",
    "4. **Total amount of aviation passengers, excluding international flights.** https://ec.europa.eu/eurostat/databrowser/view/TTR00012/default/line?lang=en\n",
    "5. **International flights:** https://ec.europa.eu/eurostat/statistics-explained/index.php?title=Air_transport_statistics#Intra-EU_passenger_transport_was_almost_at_the_same_level_as_extra-EU_traffic_in_2021 \n",
    "6. **Passenger flight per region:**\n",
    "https://ec.europa.eu/eurostat/databrowser/view/TRAN_R_AVPA_NM/default/line?lang=en \n",
    "7. **Specific airports:** https://www.eurocontrol.int/Economics/DailyOperatedSchedules-Airports.html\n",
    "8. **Rail fares:** https://data.europa.eu/data/datasets/fares?locale=nl\n",
    "9. **Plane fares:** https://old.datahub.io/dataset/european-flight-price-data\n",
    "10. **Other EU airline data:** https://ec.europa.eu/eurostat/web/main/data/database \n",
    "11. **Passengers Transported:** https://ec.europa.eu/eurostat/databrowser/view/RAIL_PA_TOTAL/default/table?lang=en\n",
    "Passengers transported (detailed reporting only) - (quarterly data): https://ec.europa.eu/eurostat/databrowser/view/RAIL_PA_QUARTAL/default/table?lang=en\n",
    "Passenger transport by type of transport (detailed reporting only): https://ec.europa.eu/eurostat/databrowser/view/RAIL_PA_TYPEPAS/default/table?lang=en\n",
    "International transport of passengers from the reporting country to the country of disembarkation: https://ec.europa.eu/eurostat/databrowser/view/RAIL_PA_INTGONG/default/table?lang=en\n",
    "International transport of passengers from the country of embarkation to the reporting country: https://ec.europa.eu/eurostat/databrowser/view/RAIL_PA_INTCMNG/default/table?lang=en\n",
    "Railway transport - national and international railway passengers transport by loading/unloading NUTS 2 region: https://ec.europa.eu/eurostat/databrowser/view/TRAN_R_RAPA/default/table?lang=en\n",
    "Passengers by speed of train: https://ec.europa.eu/eurostat/databrowser/view/RAIL_PA_SPEED/default/table?lang=en\n",
    "Passenger cars in accompanied passenger car railway transport, by type of transport: https://ec.europa.eu/eurostat/databrowser/view/RAIL_PA_NBCAR/default/table?lang=en\n",
    "Passengers in accompanied passenger car railway transport, by type of transport: https://ec.europa.eu/eurostat/databrowser/view/RAIL_PA_NBPASS/default/table?lang=en"
   ]
  },
  {
   "cell_type": "markdown",
   "metadata": {},
   "source": [
    "# Data Pipeline"
   ]
  },
  {
   "cell_type": "markdown",
   "metadata": {},
   "source": []
  }
 ],
 "metadata": {
  "kernelspec": {
   "display_name": "Python 3 (ipykernel)",
   "language": "python",
   "name": "python3"
  },
  "language_info": {
   "codemirror_mode": {
    "name": "ipython",
    "version": 3
   },
   "file_extension": ".py",
   "mimetype": "text/x-python",
   "name": "python",
   "nbconvert_exporter": "python",
   "pygments_lexer": "ipython3",
   "version": "3.11.4"
  },
  "vscode": {
   "interpreter": {
    "hash": "31f2aee4e71d21fbe5cf8b01ff0e069b9275f58929596ceb00d14d90e3e16cd6"
   }
  }
 },
 "nbformat": 4,
 "nbformat_minor": 4
}
