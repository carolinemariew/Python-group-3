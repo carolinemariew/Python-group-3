{
 "cells": [
  {
   "cell_type": "markdown",
   "metadata": {},
   "source": [
    "# Project Group - 3\n",
    "\n",
    "**Members & student numbers:** <br>\n",
    "Caroline Aalders - 5230578 <br>\n",
    "Pangiotis Papadopoulos - 5054443 <br>\n",
    "Vendankur Kedar - 5693136 <br>\n",
    "Thieme Brandwagt - 5232910 <br>\n"
   ]
  },
  {
   "cell_type": "markdown",
   "metadata": {},
   "source": [
    "# Introduction"
   ]
  },
  {
   "cell_type": "markdown",
   "metadata": {},
   "source": [
    "The European Union has a big focus on sustainable with the European Green Deal that has been presented. The European union thrives to become climate neutral by the year 2050. When focusing on transport one of the goals is to have high-speed rail traffic doubles across Europe (European Commission, 2020). Therefore, in the project the focus is going to be the modal shift from air travel to international train travel in the last ten years. To focus more on high speed railway, a case study of France is going to be provided. France has multiple domestic flights and high speed train. Therefore, a thorough analysis can be made\n",
    "\n",
    "References: <br>\n",
    "1. European Commission. (2020). The Transport and Mobility Sector. In European Commission.\n"
   ]
  },
  {
   "cell_type": "markdown",
   "metadata": {},
   "source": [
    "# Research Objective\n"
   ]
  },
  {
   "cell_type": "markdown",
   "metadata": {},
   "source": [
    "**Our main research question:** <br>\n",
    "What is the trend in the modal shift from air travel to international train travel from the last ten years within the European Union?\n",
    "\n",
    "**Our sub research questions:** <br>\n",
    "What is the trend of air travel in the last ten years within the European Union?<br>\n",
    "What is the trend of train travel in the last ten years within the European Union?<br>\n",
    "What is the correlation between air travel and train travel in the last ten years within the European Union?<br>\n",
    "What is the trend of the modal shift of highspeed train in France - a case study?<br>\n",
    "\n",
    "\n",
    "\n",
    "\n",
    "\n"
   ]
  },
  {
   "cell_type": "markdown",
   "metadata": {},
   "source": [
    "# Contribution Statement\n"
   ]
  },
  {
   "cell_type": "markdown",
   "metadata": {},
   "source": [
    "**Caroline Aalders**: Manager of background research.\n",
    "\n",
    "**Vedankur Kedar**: Manager of data visualisation in graphs (and possibly maps).\n",
    "\n",
    "**Panagiotis Papapoulos**: Manager of data modelling and coding logic.\n",
    "\n",
    "**Thieme Brandwagt**: Manager of conceptualisation of theory and relevant policy."
   ]
  },
  {
   "cell_type": "markdown",
   "metadata": {},
   "source": [
    "# Data Considered"
   ]
  },
  {
   "cell_type": "markdown",
   "metadata": {},
   "source": [
    "1. **Data on W.I.P. EU transport policy:** https    ://www.consilium.europa.eu/en/policies/?filters=1650 (Relevant: Clean and sustainable mobility, European Green Deal, Rail Transport Policy)\n",
    "2. **Data on historal EU rail policy directives:** https://www.europarl.europa.eu/factsheets/en/sheet/130/rail-transport#:~:text=The%20directive%20was%20amended%20by%20Directive%202001%2F13%2FEC%20of,Directive%202012%2F34%2FEU%20of%2021%20November%202012%20establishing%20\n",
    "3. **Emission Trading Scheme and aviation:** https://climate.ec.europa.eu/eu-action/aviation-and-eu-ets_en\n",
    "4. **Total amount of aviation passengers, excluding international flights.** https://ec.europa.eu/eurostat/databrowser/view/TTR00012/default/line?lang=en\n",
    "5. **International flights:** https://ec.europa.eu/eurostat/statistics-explained/index.php?title=Air_transport_statistics#Intra-EU_passenger_transport_was_almost_at_the_same_level_as_extra-EU_traffic_in_2021 \n",
    "6. **Passenger flight per region:**\n",
    "https://ec.europa.eu/eurostat/databrowser/view/TRAN_R_AVPA_NM/default/line?lang=en \n",
    "7. **Specific airports:** https://www.eurocontrol.int/Economics/DailyOperatedSchedules-Airports.html\n",
    "8. **Rail fares:** https://data.europa.eu/data/datasets/fares?locale=nl\n",
    "9. **Plane fares:** https://old.datahub.io/dataset/european-flight-price-data\n",
    "10. **Other EU airline data:** https://ec.europa.eu/eurostat/web/main/data/database \n",
    "11. **Passengers Transported:** https://ec.europa.eu/eurostat/databrowser/view/RAIL_PA_TOTAL/default/table?lang=en\n",
    "12. **Passengers transported (detailed reporting only) - (quarterly data):** https://ec.europa.eu/eurostat/databrowser/view/RAIL_PA_QUARTAL/default/table?lang=en\n",
    "13. **Passenger transport by type of transport (detailed reporting only):** https://ec.europa.eu/eurostat/databrowser/view/RAIL_PA_TYPEPAS/default/table?lang=en\n",
    "14. **International transport of passengers from the reporting country to the country of disembarkation:** https://ec.europa.eu/eurostat/databrowser/view/RAIL_PA_INTGONG/default/table?lang=en\n",
    "15. **International transport of passengers from the country of embarkation to the reporting country:** https://ec.europa.eu/eurostat/databrowser/view/RAIL_PA_INTCMNG/default/table?lang=en\n",
    "16. **Railway transport - national and international railway passengers transport by loading/unloading NUTS 2 region:** https://ec.europa.eu/eurostat/databrowser/view/TRAN_R_RAPA/default/table?lang=en\n",
    "17. **Passengers by speed of train:** https://ec.europa.eu/eurostat/databrowser/view/RAIL_PA_SPEED/default/table?lang=en\n",
    "18. **Passenger cars in accompanied passenger car railway transport, by type of transport:** https://ec.europa.eu/eurostat/databrowser/view/RAIL_PA_NBCAR/default/table?lang=en\n",
    "19. **Passengers in accompanied passenger car railway transport, by type of transport:** https://ec.europa.eu/eurostat/databrowser/view/RAIL_PA_NBPASS/default/table?lang=en"
   ]
  },
  {
   "cell_type": "markdown",
   "metadata": {},
   "source": [
    "# Data Used"
   ]
  },
  {
   "attachments": {
    "image.png": {
     "image/png": "[encoded data removed]"
    }
   },
   "cell_type": "markdown",
   "metadata": {},
   "source": [
    "After collecting a lot of datasets we narrowed it down to three datasets. \n",
    "1. **Air travel within Europe**\n",
    "https://ec.europa.eu/eurostat/databrowser/view/TTR00012/default/line?lang=en  \n",
    "2. **International train travel within Europe**\n",
    "https://ec.europa.eu/eurostat/databrowser/view/rail_pa_typepas__custom_7854806/default/table?lang=en \n",
    "3. **High speed train travel France** https://ec.europa.eu/eurostat/databrowser/view/RAIL_PA_SPEED/default/table?lang=en \n",
    "\n",
    "The data collected for air travel within Europe accounts for flights from the EU to outside the EU, flights within the EU and domestic flights. In order to make a distinction between the different catagorie the following distrubition has been used:<br>\n",
    "![image.png](attachment:image.png) <br>\n",
    "https://ec.europa.eu/eurostat/statistics-explained/index.php?title=Air_transport_statistics\n",
    "\n",
    "**Note** <br>\n",
    "Not all the datasets are complete. The datasets for international train travel lacks data of the following countries: Hungary, The Netherlands and Belgium. Therefore, the analysis will not represent the reality one hunderd procent. \n"
   ]
  },
  {
   "cell_type": "markdown",
   "metadata": {},
   "source": [
    "# Data Pipeline"
   ]
  },
  {
   "cell_type": "markdown",
   "metadata": {},
   "source": [
    "All the data needs to be combined in a graph over time with stamps for places when policies have changed. The passenger number difference is the greatest indicator of our main question. We could try to find other influencing factors. Like ticket price and the covid pandemic. \n",
    "\n",
    "Steps:\n",
    "1. Data collection\n",
    "2. Data cleaning and transformation\n",
    "3. Data integration into a single dataset\n",
    "4. Data aggregation for the most interesting time periods\n",
    "5. Data analysis\n",
    "6. Data enrichment with external factors, such as COVID events\n",
    "7. Data presentation in graphs"
   ]
  },
  {
   "cell_type": "markdown",
   "metadata": {},
   "source": [
    "# Part 1\n",
    "Comparison passengers between air travel and train travel in Europe"
   ]
  },
  {
   "cell_type": "code",
   "execution_count": 69,
   "metadata": {},
   "outputs": [],
   "source": [
    "import pandas as pd \n",
    "import matplotlib.pyplot as plt\n",
    "import plotly.express as px\n",
    "import plotly.graph_objects as go"
   ]
  },
  {
   "cell_type": "code",
   "execution_count": 70,
   "metadata": {},
   "outputs": [
    {
     "data": {
      "text/html": [
       "<div>\n",
       "<style scoped>\n",
       "    .dataframe tbody tr th:only-of-type {\n",
       "        vertical-align: middle;\n",
       "    }\n",
       "\n",
       "    .dataframe tbody tr th {\n",
       "        vertical-align: top;\n",
       "    }\n",
       "\n",
       "    .dataframe thead th {\n",
       "        text-align: right;\n",
       "    }\n",
       "</style>\n",
       "<table border=\"1\" class=\"dataframe\">\n",
       "  <thead>\n",
       "    <tr style=\"text-align: right;\">\n",
       "      <th></th>\n",
       "      <th>DATAFLOW</th>\n",
       "      <th>LAST UPDATE</th>\n",
       "      <th>freq</th>\n",
       "      <th>unit</th>\n",
       "      <th>tra_meas</th>\n",
       "      <th>tra_cov</th>\n",
       "      <th>schedule</th>\n",
       "      <th>geo</th>\n",
       "      <th>TIME_PERIOD</th>\n",
       "      <th>OBS_VALUE</th>\n",
       "      <th>OBS_FLAG</th>\n",
       "    </tr>\n",
       "  </thead>\n",
       "  <tbody>\n",
       "    <tr>\n",
       "      <th>0</th>\n",
       "      <td>ESTAT:TTR00012(1.0)</td>\n",
       "      <td>05/10/23 23:00:00</td>\n",
       "      <td>A</td>\n",
       "      <td>PAS</td>\n",
       "      <td>PAS_CRD</td>\n",
       "      <td>TOTAL</td>\n",
       "      <td>TOT</td>\n",
       "      <td>AT</td>\n",
       "      <td>2011</td>\n",
       "      <td>25137612</td>\n",
       "      <td>NaN</td>\n",
       "    </tr>\n",
       "    <tr>\n",
       "      <th>1</th>\n",
       "      <td>ESTAT:TTR00012(1.0)</td>\n",
       "      <td>05/10/23 23:00:00</td>\n",
       "      <td>A</td>\n",
       "      <td>PAS</td>\n",
       "      <td>PAS_CRD</td>\n",
       "      <td>TOTAL</td>\n",
       "      <td>TOT</td>\n",
       "      <td>AT</td>\n",
       "      <td>2012</td>\n",
       "      <td>25965977</td>\n",
       "      <td>NaN</td>\n",
       "    </tr>\n",
       "    <tr>\n",
       "      <th>2</th>\n",
       "      <td>ESTAT:TTR00012(1.0)</td>\n",
       "      <td>05/10/23 23:00:00</td>\n",
       "      <td>A</td>\n",
       "      <td>PAS</td>\n",
       "      <td>PAS_CRD</td>\n",
       "      <td>TOTAL</td>\n",
       "      <td>TOT</td>\n",
       "      <td>AT</td>\n",
       "      <td>2013</td>\n",
       "      <td>25749724</td>\n",
       "      <td>NaN</td>\n",
       "    </tr>\n",
       "    <tr>\n",
       "      <th>3</th>\n",
       "      <td>ESTAT:TTR00012(1.0)</td>\n",
       "      <td>05/10/23 23:00:00</td>\n",
       "      <td>A</td>\n",
       "      <td>PAS</td>\n",
       "      <td>PAS_CRD</td>\n",
       "      <td>TOTAL</td>\n",
       "      <td>TOT</td>\n",
       "      <td>AT</td>\n",
       "      <td>2014</td>\n",
       "      <td>26378676</td>\n",
       "      <td>NaN</td>\n",
       "    </tr>\n",
       "    <tr>\n",
       "      <th>4</th>\n",
       "      <td>ESTAT:TTR00012(1.0)</td>\n",
       "      <td>05/10/23 23:00:00</td>\n",
       "      <td>A</td>\n",
       "      <td>PAS</td>\n",
       "      <td>PAS_CRD</td>\n",
       "      <td>TOTAL</td>\n",
       "      <td>TOT</td>\n",
       "      <td>AT</td>\n",
       "      <td>2015</td>\n",
       "      <td>26754007</td>\n",
       "      <td>NaN</td>\n",
       "    </tr>\n",
       "    <tr>\n",
       "      <th>...</th>\n",
       "      <td>...</td>\n",
       "      <td>...</td>\n",
       "      <td>...</td>\n",
       "      <td>...</td>\n",
       "      <td>...</td>\n",
       "      <td>...</td>\n",
       "      <td>...</td>\n",
       "      <td>...</td>\n",
       "      <td>...</td>\n",
       "      <td>...</td>\n",
       "      <td>...</td>\n",
       "    </tr>\n",
       "    <tr>\n",
       "      <th>398</th>\n",
       "      <td>ESTAT:TTR00012(1.0)</td>\n",
       "      <td>05/10/23 23:00:00</td>\n",
       "      <td>A</td>\n",
       "      <td>PAS</td>\n",
       "      <td>PAS_CRD</td>\n",
       "      <td>TOTAL</td>\n",
       "      <td>TOT</td>\n",
       "      <td>UK</td>\n",
       "      <td>2015</td>\n",
       "      <td>232270437</td>\n",
       "      <td>NaN</td>\n",
       "    </tr>\n",
       "    <tr>\n",
       "      <th>399</th>\n",
       "      <td>ESTAT:TTR00012(1.0)</td>\n",
       "      <td>05/10/23 23:00:00</td>\n",
       "      <td>A</td>\n",
       "      <td>PAS</td>\n",
       "      <td>PAS_CRD</td>\n",
       "      <td>TOTAL</td>\n",
       "      <td>TOT</td>\n",
       "      <td>UK</td>\n",
       "      <td>2016</td>\n",
       "      <td>248868873</td>\n",
       "      <td>NaN</td>\n",
       "    </tr>\n",
       "    <tr>\n",
       "      <th>400</th>\n",
       "      <td>ESTAT:TTR00012(1.0)</td>\n",
       "      <td>05/10/23 23:00:00</td>\n",
       "      <td>A</td>\n",
       "      <td>PAS</td>\n",
       "      <td>PAS_CRD</td>\n",
       "      <td>TOTAL</td>\n",
       "      <td>TOT</td>\n",
       "      <td>UK</td>\n",
       "      <td>2017</td>\n",
       "      <td>264629454</td>\n",
       "      <td>NaN</td>\n",
       "    </tr>\n",
       "    <tr>\n",
       "      <th>401</th>\n",
       "      <td>ESTAT:TTR00012(1.0)</td>\n",
       "      <td>05/10/23 23:00:00</td>\n",
       "      <td>A</td>\n",
       "      <td>PAS</td>\n",
       "      <td>PAS_CRD</td>\n",
       "      <td>TOTAL</td>\n",
       "      <td>TOT</td>\n",
       "      <td>UK</td>\n",
       "      <td>2018</td>\n",
       "      <td>272190155</td>\n",
       "      <td>NaN</td>\n",
       "    </tr>\n",
       "    <tr>\n",
       "      <th>402</th>\n",
       "      <td>ESTAT:TTR00012(1.0)</td>\n",
       "      <td>05/10/23 23:00:00</td>\n",
       "      <td>A</td>\n",
       "      <td>PAS</td>\n",
       "      <td>PAS_CRD</td>\n",
       "      <td>TOTAL</td>\n",
       "      <td>TOT</td>\n",
       "      <td>UK</td>\n",
       "      <td>2019</td>\n",
       "      <td>277432380</td>\n",
       "      <td>NaN</td>\n",
       "    </tr>\n",
       "  </tbody>\n",
       "</table>\n",
       "<p>403 rows × 11 columns</p>\n",
       "</div>"
      ],
      "text/plain": [
       "                DATAFLOW        LAST UPDATE freq unit tra_meas tra_cov  \\\n",
       "0    ESTAT:TTR00012(1.0)  05/10/23 23:00:00    A  PAS  PAS_CRD   TOTAL   \n",
       "1    ESTAT:TTR00012(1.0)  05/10/23 23:00:00    A  PAS  PAS_CRD   TOTAL   \n",
       "2    ESTAT:TTR00012(1.0)  05/10/23 23:00:00    A  PAS  PAS_CRD   TOTAL   \n",
       "3    ESTAT:TTR00012(1.0)  05/10/23 23:00:00    A  PAS  PAS_CRD   TOTAL   \n",
       "4    ESTAT:TTR00012(1.0)  05/10/23 23:00:00    A  PAS  PAS_CRD   TOTAL   \n",
       "..                   ...                ...  ...  ...      ...     ...   \n",
       "398  ESTAT:TTR00012(1.0)  05/10/23 23:00:00    A  PAS  PAS_CRD   TOTAL   \n",
       "399  ESTAT:TTR00012(1.0)  05/10/23 23:00:00    A  PAS  PAS_CRD   TOTAL   \n",
       "400  ESTAT:TTR00012(1.0)  05/10/23 23:00:00    A  PAS  PAS_CRD   TOTAL   \n",
       "401  ESTAT:TTR00012(1.0)  05/10/23 23:00:00    A  PAS  PAS_CRD   TOTAL   \n",
       "402  ESTAT:TTR00012(1.0)  05/10/23 23:00:00    A  PAS  PAS_CRD   TOTAL   \n",
       "\n",
       "    schedule geo  TIME_PERIOD  OBS_VALUE  OBS_FLAG  \n",
       "0        TOT  AT         2011   25137612       NaN  \n",
       "1        TOT  AT         2012   25965977       NaN  \n",
       "2        TOT  AT         2013   25749724       NaN  \n",
       "3        TOT  AT         2014   26378676       NaN  \n",
       "4        TOT  AT         2015   26754007       NaN  \n",
       "..       ...  ..          ...        ...       ...  \n",
       "398      TOT  UK         2015  232270437       NaN  \n",
       "399      TOT  UK         2016  248868873       NaN  \n",
       "400      TOT  UK         2017  264629454       NaN  \n",
       "401      TOT  UK         2018  272190155       NaN  \n",
       "402      TOT  UK         2019  277432380       NaN  \n",
       "\n",
       "[403 rows x 11 columns]"
      ]
     },
     "execution_count": 70,
     "metadata": {},
     "output_type": "execute_result"
    }
   ],
   "source": [
    "df_air_pas = pd.read_csv('Datasets/Air_transport_of_passengers_by_country.csv')\n",
    "df_air_pas\n",
    "\n",
    "#https://ec.europa.eu/eurostat/databrowser/view/TTR00012/default/table?lang=en "
   ]
  },
  {
   "cell_type": "code",
   "execution_count": 71,
   "metadata": {},
   "outputs": [
    {
     "data": {
      "text/html": [
       "<div>\n",
       "<style scoped>\n",
       "    .dataframe tbody tr th:only-of-type {\n",
       "        vertical-align: middle;\n",
       "    }\n",
       "\n",
       "    .dataframe tbody tr th {\n",
       "        vertical-align: top;\n",
       "    }\n",
       "\n",
       "    .dataframe thead th {\n",
       "        text-align: right;\n",
       "    }\n",
       "</style>\n",
       "<table border=\"1\" class=\"dataframe\">\n",
       "  <thead>\n",
       "    <tr style=\"text-align: right;\">\n",
       "      <th></th>\n",
       "      <th>DATAFLOW</th>\n",
       "      <th>LAST UPDATE</th>\n",
       "      <th>freq</th>\n",
       "      <th>unit</th>\n",
       "      <th>tra_cov</th>\n",
       "      <th>geo</th>\n",
       "      <th>TIME_PERIOD</th>\n",
       "      <th>OBS_VALUE</th>\n",
       "      <th>OBS_FLAG</th>\n",
       "    </tr>\n",
       "  </thead>\n",
       "  <tbody>\n",
       "    <tr>\n",
       "      <th>0</th>\n",
       "      <td>ESTAT:RAIL_PA_TYPEPAS(1.0)</td>\n",
       "      <td>13/10/23 23:00:00</td>\n",
       "      <td>A</td>\n",
       "      <td>THS_PAS</td>\n",
       "      <td>INTL</td>\n",
       "      <td>AT</td>\n",
       "      <td>2013</td>\n",
       "      <td>10371000.0</td>\n",
       "      <td>NaN</td>\n",
       "    </tr>\n",
       "    <tr>\n",
       "      <th>1</th>\n",
       "      <td>ESTAT:RAIL_PA_TYPEPAS(1.0)</td>\n",
       "      <td>13/10/23 23:00:00</td>\n",
       "      <td>A</td>\n",
       "      <td>THS_PAS</td>\n",
       "      <td>INTL</td>\n",
       "      <td>AT</td>\n",
       "      <td>2014</td>\n",
       "      <td>10234000.0</td>\n",
       "      <td>NaN</td>\n",
       "    </tr>\n",
       "    <tr>\n",
       "      <th>2</th>\n",
       "      <td>ESTAT:RAIL_PA_TYPEPAS(1.0)</td>\n",
       "      <td>13/10/23 23:00:00</td>\n",
       "      <td>A</td>\n",
       "      <td>THS_PAS</td>\n",
       "      <td>INTL</td>\n",
       "      <td>AT</td>\n",
       "      <td>2015</td>\n",
       "      <td>9667000.0</td>\n",
       "      <td>NaN</td>\n",
       "    </tr>\n",
       "    <tr>\n",
       "      <th>3</th>\n",
       "      <td>ESTAT:RAIL_PA_TYPEPAS(1.0)</td>\n",
       "      <td>13/10/23 23:00:00</td>\n",
       "      <td>A</td>\n",
       "      <td>THS_PAS</td>\n",
       "      <td>INTL</td>\n",
       "      <td>AT</td>\n",
       "      <td>2016</td>\n",
       "      <td>9298000.0</td>\n",
       "      <td>NaN</td>\n",
       "    </tr>\n",
       "    <tr>\n",
       "      <th>4</th>\n",
       "      <td>ESTAT:RAIL_PA_TYPEPAS(1.0)</td>\n",
       "      <td>13/10/23 23:00:00</td>\n",
       "      <td>A</td>\n",
       "      <td>THS_PAS</td>\n",
       "      <td>INTL</td>\n",
       "      <td>AT</td>\n",
       "      <td>2017</td>\n",
       "      <td>9269000.0</td>\n",
       "      <td>NaN</td>\n",
       "    </tr>\n",
       "    <tr>\n",
       "      <th>...</th>\n",
       "      <td>...</td>\n",
       "      <td>...</td>\n",
       "      <td>...</td>\n",
       "      <td>...</td>\n",
       "      <td>...</td>\n",
       "      <td>...</td>\n",
       "      <td>...</td>\n",
       "      <td>...</td>\n",
       "      <td>...</td>\n",
       "    </tr>\n",
       "    <tr>\n",
       "      <th>289</th>\n",
       "      <td>ESTAT:RAIL_PA_TYPEPAS(1.0)</td>\n",
       "      <td>13/10/23 23:00:00</td>\n",
       "      <td>A</td>\n",
       "      <td>THS_PAS</td>\n",
       "      <td>INTL</td>\n",
       "      <td>UK</td>\n",
       "      <td>2015</td>\n",
       "      <td>19847000.0</td>\n",
       "      <td>NaN</td>\n",
       "    </tr>\n",
       "    <tr>\n",
       "      <th>290</th>\n",
       "      <td>ESTAT:RAIL_PA_TYPEPAS(1.0)</td>\n",
       "      <td>13/10/23 23:00:00</td>\n",
       "      <td>A</td>\n",
       "      <td>THS_PAS</td>\n",
       "      <td>INTL</td>\n",
       "      <td>UK</td>\n",
       "      <td>2016</td>\n",
       "      <td>19428000.0</td>\n",
       "      <td>NaN</td>\n",
       "    </tr>\n",
       "    <tr>\n",
       "      <th>291</th>\n",
       "      <td>ESTAT:RAIL_PA_TYPEPAS(1.0)</td>\n",
       "      <td>13/10/23 23:00:00</td>\n",
       "      <td>A</td>\n",
       "      <td>THS_PAS</td>\n",
       "      <td>INTL</td>\n",
       "      <td>UK</td>\n",
       "      <td>2017</td>\n",
       "      <td>19649000.0</td>\n",
       "      <td>NaN</td>\n",
       "    </tr>\n",
       "    <tr>\n",
       "      <th>292</th>\n",
       "      <td>ESTAT:RAIL_PA_TYPEPAS(1.0)</td>\n",
       "      <td>13/10/23 23:00:00</td>\n",
       "      <td>A</td>\n",
       "      <td>THS_PAS</td>\n",
       "      <td>INTL</td>\n",
       "      <td>UK</td>\n",
       "      <td>2018</td>\n",
       "      <td>20521000.0</td>\n",
       "      <td>NaN</td>\n",
       "    </tr>\n",
       "    <tr>\n",
       "      <th>293</th>\n",
       "      <td>ESTAT:RAIL_PA_TYPEPAS(1.0)</td>\n",
       "      <td>13/10/23 23:00:00</td>\n",
       "      <td>A</td>\n",
       "      <td>THS_PAS</td>\n",
       "      <td>INTL</td>\n",
       "      <td>UK</td>\n",
       "      <td>2019</td>\n",
       "      <td>20541000.0</td>\n",
       "      <td>NaN</td>\n",
       "    </tr>\n",
       "  </tbody>\n",
       "</table>\n",
       "<p>294 rows × 9 columns</p>\n",
       "</div>"
      ],
      "text/plain": [
       "                       DATAFLOW        LAST UPDATE freq     unit tra_cov geo  \\\n",
       "0    ESTAT:RAIL_PA_TYPEPAS(1.0)  13/10/23 23:00:00    A  THS_PAS    INTL  AT   \n",
       "1    ESTAT:RAIL_PA_TYPEPAS(1.0)  13/10/23 23:00:00    A  THS_PAS    INTL  AT   \n",
       "2    ESTAT:RAIL_PA_TYPEPAS(1.0)  13/10/23 23:00:00    A  THS_PAS    INTL  AT   \n",
       "3    ESTAT:RAIL_PA_TYPEPAS(1.0)  13/10/23 23:00:00    A  THS_PAS    INTL  AT   \n",
       "4    ESTAT:RAIL_PA_TYPEPAS(1.0)  13/10/23 23:00:00    A  THS_PAS    INTL  AT   \n",
       "..                          ...                ...  ...      ...     ...  ..   \n",
       "289  ESTAT:RAIL_PA_TYPEPAS(1.0)  13/10/23 23:00:00    A  THS_PAS    INTL  UK   \n",
       "290  ESTAT:RAIL_PA_TYPEPAS(1.0)  13/10/23 23:00:00    A  THS_PAS    INTL  UK   \n",
       "291  ESTAT:RAIL_PA_TYPEPAS(1.0)  13/10/23 23:00:00    A  THS_PAS    INTL  UK   \n",
       "292  ESTAT:RAIL_PA_TYPEPAS(1.0)  13/10/23 23:00:00    A  THS_PAS    INTL  UK   \n",
       "293  ESTAT:RAIL_PA_TYPEPAS(1.0)  13/10/23 23:00:00    A  THS_PAS    INTL  UK   \n",
       "\n",
       "     TIME_PERIOD   OBS_VALUE OBS_FLAG  \n",
       "0           2013  10371000.0      NaN  \n",
       "1           2014  10234000.0      NaN  \n",
       "2           2015   9667000.0      NaN  \n",
       "3           2016   9298000.0      NaN  \n",
       "4           2017   9269000.0      NaN  \n",
       "..           ...         ...      ...  \n",
       "289         2015  19847000.0      NaN  \n",
       "290         2016  19428000.0      NaN  \n",
       "291         2017  19649000.0      NaN  \n",
       "292         2018  20521000.0      NaN  \n",
       "293         2019  20541000.0      NaN  \n",
       "\n",
       "[294 rows x 9 columns]"
      ]
     },
     "execution_count": 71,
     "metadata": {},
     "output_type": "execute_result"
    }
   ],
   "source": [
    "df_train_pas = pd.read_csv('Datasets/rail_int_per_thousand_pas.csv')\n",
    "\n",
    "# Normalize values as they are per 1000 passengers\n",
    "df_train_pas['OBS_VALUE'] = df_train_pas['OBS_VALUE'] * 1000\n",
    "\n",
    "df_train_pas"
   ]
  },
  {
   "cell_type": "code",
   "execution_count": 72,
   "metadata": {},
   "outputs": [
    {
     "data": {
      "text/html": [
       "<div>\n",
       "<style scoped>\n",
       "    .dataframe tbody tr th:only-of-type {\n",
       "        vertical-align: middle;\n",
       "    }\n",
       "\n",
       "    .dataframe tbody tr th {\n",
       "        vertical-align: top;\n",
       "    }\n",
       "\n",
       "    .dataframe thead th {\n",
       "        text-align: right;\n",
       "    }\n",
       "</style>\n",
       "<table border=\"1\" class=\"dataframe\">\n",
       "  <thead>\n",
       "    <tr style=\"text-align: right;\">\n",
       "      <th></th>\n",
       "      <th>DATAFLOW</th>\n",
       "      <th>LAST UPDATE</th>\n",
       "      <th>freq</th>\n",
       "      <th>unit</th>\n",
       "      <th>age</th>\n",
       "      <th>sex</th>\n",
       "      <th>geo</th>\n",
       "      <th>TIME_PERIOD</th>\n",
       "      <th>OBS_VALUE</th>\n",
       "      <th>OBS_FLAG</th>\n",
       "    </tr>\n",
       "  </thead>\n",
       "  <tbody>\n",
       "    <tr>\n",
       "      <th>0</th>\n",
       "      <td>ESTAT:DEMO_PJAN(1.0)</td>\n",
       "      <td>28/09/23 23:00:00</td>\n",
       "      <td>A</td>\n",
       "      <td>NR</td>\n",
       "      <td>TOTAL</td>\n",
       "      <td>T</td>\n",
       "      <td>AT</td>\n",
       "      <td>2013</td>\n",
       "      <td>8451860</td>\n",
       "      <td>NaN</td>\n",
       "    </tr>\n",
       "    <tr>\n",
       "      <th>1</th>\n",
       "      <td>ESTAT:DEMO_PJAN(1.0)</td>\n",
       "      <td>28/09/23 23:00:00</td>\n",
       "      <td>A</td>\n",
       "      <td>NR</td>\n",
       "      <td>TOTAL</td>\n",
       "      <td>T</td>\n",
       "      <td>AT</td>\n",
       "      <td>2014</td>\n",
       "      <td>8507786</td>\n",
       "      <td>NaN</td>\n",
       "    </tr>\n",
       "    <tr>\n",
       "      <th>2</th>\n",
       "      <td>ESTAT:DEMO_PJAN(1.0)</td>\n",
       "      <td>28/09/23 23:00:00</td>\n",
       "      <td>A</td>\n",
       "      <td>NR</td>\n",
       "      <td>TOTAL</td>\n",
       "      <td>T</td>\n",
       "      <td>AT</td>\n",
       "      <td>2015</td>\n",
       "      <td>8584926</td>\n",
       "      <td>NaN</td>\n",
       "    </tr>\n",
       "    <tr>\n",
       "      <th>3</th>\n",
       "      <td>ESTAT:DEMO_PJAN(1.0)</td>\n",
       "      <td>28/09/23 23:00:00</td>\n",
       "      <td>A</td>\n",
       "      <td>NR</td>\n",
       "      <td>TOTAL</td>\n",
       "      <td>T</td>\n",
       "      <td>AT</td>\n",
       "      <td>2016</td>\n",
       "      <td>8700471</td>\n",
       "      <td>NaN</td>\n",
       "    </tr>\n",
       "    <tr>\n",
       "      <th>4</th>\n",
       "      <td>ESTAT:DEMO_PJAN(1.0)</td>\n",
       "      <td>28/09/23 23:00:00</td>\n",
       "      <td>A</td>\n",
       "      <td>NR</td>\n",
       "      <td>TOTAL</td>\n",
       "      <td>T</td>\n",
       "      <td>AT</td>\n",
       "      <td>2017</td>\n",
       "      <td>8772865</td>\n",
       "      <td>NaN</td>\n",
       "    </tr>\n",
       "    <tr>\n",
       "      <th>...</th>\n",
       "      <td>...</td>\n",
       "      <td>...</td>\n",
       "      <td>...</td>\n",
       "      <td>...</td>\n",
       "      <td>...</td>\n",
       "      <td>...</td>\n",
       "      <td>...</td>\n",
       "      <td>...</td>\n",
       "      <td>...</td>\n",
       "      <td>...</td>\n",
       "    </tr>\n",
       "    <tr>\n",
       "      <th>290</th>\n",
       "      <td>ESTAT:DEMO_PJAN(1.0)</td>\n",
       "      <td>28/09/23 23:00:00</td>\n",
       "      <td>A</td>\n",
       "      <td>NR</td>\n",
       "      <td>TOTAL</td>\n",
       "      <td>T</td>\n",
       "      <td>SK</td>\n",
       "      <td>2018</td>\n",
       "      <td>5443120</td>\n",
       "      <td>NaN</td>\n",
       "    </tr>\n",
       "    <tr>\n",
       "      <th>291</th>\n",
       "      <td>ESTAT:DEMO_PJAN(1.0)</td>\n",
       "      <td>28/09/23 23:00:00</td>\n",
       "      <td>A</td>\n",
       "      <td>NR</td>\n",
       "      <td>TOTAL</td>\n",
       "      <td>T</td>\n",
       "      <td>SK</td>\n",
       "      <td>2019</td>\n",
       "      <td>5450421</td>\n",
       "      <td>NaN</td>\n",
       "    </tr>\n",
       "    <tr>\n",
       "      <th>292</th>\n",
       "      <td>ESTAT:DEMO_PJAN(1.0)</td>\n",
       "      <td>28/09/23 23:00:00</td>\n",
       "      <td>A</td>\n",
       "      <td>NR</td>\n",
       "      <td>TOTAL</td>\n",
       "      <td>T</td>\n",
       "      <td>SK</td>\n",
       "      <td>2020</td>\n",
       "      <td>5457873</td>\n",
       "      <td>NaN</td>\n",
       "    </tr>\n",
       "    <tr>\n",
       "      <th>293</th>\n",
       "      <td>ESTAT:DEMO_PJAN(1.0)</td>\n",
       "      <td>28/09/23 23:00:00</td>\n",
       "      <td>A</td>\n",
       "      <td>NR</td>\n",
       "      <td>TOTAL</td>\n",
       "      <td>T</td>\n",
       "      <td>SK</td>\n",
       "      <td>2021</td>\n",
       "      <td>5459781</td>\n",
       "      <td>NaN</td>\n",
       "    </tr>\n",
       "    <tr>\n",
       "      <th>294</th>\n",
       "      <td>ESTAT:DEMO_PJAN(1.0)</td>\n",
       "      <td>28/09/23 23:00:00</td>\n",
       "      <td>A</td>\n",
       "      <td>NR</td>\n",
       "      <td>TOTAL</td>\n",
       "      <td>T</td>\n",
       "      <td>SK</td>\n",
       "      <td>2022</td>\n",
       "      <td>5434712</td>\n",
       "      <td>NaN</td>\n",
       "    </tr>\n",
       "  </tbody>\n",
       "</table>\n",
       "<p>295 rows × 10 columns</p>\n",
       "</div>"
      ],
      "text/plain": [
       "                 DATAFLOW        LAST UPDATE freq unit    age sex geo  \\\n",
       "0    ESTAT:DEMO_PJAN(1.0)  28/09/23 23:00:00    A   NR  TOTAL   T  AT   \n",
       "1    ESTAT:DEMO_PJAN(1.0)  28/09/23 23:00:00    A   NR  TOTAL   T  AT   \n",
       "2    ESTAT:DEMO_PJAN(1.0)  28/09/23 23:00:00    A   NR  TOTAL   T  AT   \n",
       "3    ESTAT:DEMO_PJAN(1.0)  28/09/23 23:00:00    A   NR  TOTAL   T  AT   \n",
       "4    ESTAT:DEMO_PJAN(1.0)  28/09/23 23:00:00    A   NR  TOTAL   T  AT   \n",
       "..                    ...                ...  ...  ...    ...  ..  ..   \n",
       "290  ESTAT:DEMO_PJAN(1.0)  28/09/23 23:00:00    A   NR  TOTAL   T  SK   \n",
       "291  ESTAT:DEMO_PJAN(1.0)  28/09/23 23:00:00    A   NR  TOTAL   T  SK   \n",
       "292  ESTAT:DEMO_PJAN(1.0)  28/09/23 23:00:00    A   NR  TOTAL   T  SK   \n",
       "293  ESTAT:DEMO_PJAN(1.0)  28/09/23 23:00:00    A   NR  TOTAL   T  SK   \n",
       "294  ESTAT:DEMO_PJAN(1.0)  28/09/23 23:00:00    A   NR  TOTAL   T  SK   \n",
       "\n",
       "     TIME_PERIOD  OBS_VALUE OBS_FLAG  \n",
       "0           2013    8451860      NaN  \n",
       "1           2014    8507786      NaN  \n",
       "2           2015    8584926      NaN  \n",
       "3           2016    8700471      NaN  \n",
       "4           2017    8772865      NaN  \n",
       "..           ...        ...      ...  \n",
       "290         2018    5443120      NaN  \n",
       "291         2019    5450421      NaN  \n",
       "292         2020    5457873      NaN  \n",
       "293         2021    5459781      NaN  \n",
       "294         2022    5434712      NaN  \n",
       "\n",
       "[295 rows x 10 columns]"
      ]
     },
     "execution_count": 72,
     "metadata": {},
     "output_type": "execute_result"
    }
   ],
   "source": [
    "df_population_eu = pd.read_csv('Datasets/eu_population.csv')\n",
    "df_population_eu"
   ]
  },
  {
   "cell_type": "code",
   "execution_count": 73,
   "metadata": {},
   "outputs": [],
   "source": [
    "df_air_pas['Inter_EU'] = df_air_pas['OBS_VALUE'] * 0.378 #amount of international flights within Europe\n",
    "year_pas_data_air = df_air_pas.groupby('TIME_PERIOD')['Inter_EU'].sum().reset_index() #passenger data of air travel is grouped per year\n",
    "#Domestic flights and flights from the EU to outside the EU are excluded\n",
    "\n",
    "df_train_pas['Total_Passengers'] = df_train_pas['OBS_VALUE'] * 1000 #the dataset is per thousand passengers\n",
    "year_pas_data_train = df_train_pas.groupby('TIME_PERIOD')['Total_Passengers'].sum().reset_index() #passenger data of train travel is grouped per year\n"
   ]
  },
  {
   "cell_type": "code",
   "execution_count": 74,
   "metadata": {},
   "outputs": [
    {
     "data": {
      "image/png": "[encoded data removed]",
      "text/plain": [
       "<Figure size 1000x600 with 1 Axes>"
      ]
     },
     "metadata": {},
     "output_type": "display_data"
    }
   ],
   "source": [
    "fig, ax = plt.subplots(figsize=(10, 6)) #plotting the comparison of flight within the EU and international train travel\n",
    "\n",
    "ax.plot(year_pas_data_air['TIME_PERIOD'], year_pas_data_air['Inter_EU'], label='Air travel', marker='o')\n",
    "ax.plot(year_pas_data_train['TIME_PERIOD'], year_pas_data_train['Total_Passengers'], label='Railway travel', marker='s')\n",
    "\n",
    "ax.set_xlabel('Year')\n",
    "ax.set_ylabel('Total Passengers')\n",
    "ax.set_title('Comparison inter EU air and railway passengers from 2013 until 2022')\n",
    "ax.grid(True)\n",
    "ax.legend()\n",
    "\n",
    "plt.show()"
   ]
  },
  {
   "cell_type": "markdown",
   "metadata": {},
   "source": [
    "When looking at the comparison between inter EU air passengers and railway passengers, a few things stand out. First of all the increase over the last ten years. Air travel shows a significant increase in the amount of passengers, where on the other hand the railway travel stays almost constant until COVID-19. Moreover, there is a difference in the recovery after COVID-19. When looking at air travel passengers the amount of passengers is going back to the amount before COVID-19. This is not the case for railway passengers. This is still not even half way back to the level before COVID-19. This raises questions about the goals of the EU concerning of having doubled the amount of highspeed trains in the EU by 2030.   "
   ]
  },
  {
   "cell_type": "code",
   "execution_count": 78,
   "metadata": {},
   "outputs": [],
   "source": [
    "# Calculate per capita values for air passengers\n",
    "df_air_pas = df_air_pas.merge(df_population_eu, on=['geo', 'TIME_PERIOD'], how='left', suffixes=('_air', '_pop'))\n",
    "df_air_pas['per_capita'] = df_air_pas['OBS_VALUE_air'] / df_air_pas['OBS_VALUE_pop']\n",
    "\n",
    "# # Calculate per capita values for train passengers\n",
    "df_train_pas = df_train_pas.merge(df_population_eu, on=['geo', 'TIME_PERIOD'], how='left', suffixes=('_rail', '_pop'))\n",
    "df_train_pas['per_capita'] = df_train_pas['OBS_VALUE_rail'] / df_train_pas['OBS_VALUE_pop']"
   ]
  },
  {
   "cell_type": "code",
   "execution_count": 79,
   "metadata": {},
   "outputs": [
    {
     "data": {
      "application/vnd.plotly.v1+json": {
       "config": {
        "plotlyServerURL": "https://plot.ly"
       },
       "data": [
        {
         "hovertemplate": "geo=AT<br>TIME_PERIOD=%{x}<br>per_capita=%{y}<extra></extra>",
         "legendgroup": "AT",
         "line": {
          "color": "#636efa",
          "dash": "solid"
         },
         "marker": {
          "symbol": "circle"
         },
         "mode": "lines",
         "name": "AT",
         "orientation": "v",
         "showlegend": true,
         "type": "scatter",
         "x": [
          2011,
          2012,
          2013,
          2014,
          2015,
          2016,
          2017,
          2018,
          2019,
          2020,
          2021,
          2022
         ],
         "xaxis": "x",
         "y": [
          null,
          null,
          3.046633995357235,
          3.100533558319403,
          3.1163934319294073,
          3.1241424745855713,
          3.2289655659810106,
          3.529525574322337,
          4.023602360371496,
          1.0300376449377289,
          1.2432533004711697,
          2.938121016437484
         ],
         "yaxis": "y"
        },
        {
         "hovertemplate": "geo=BA<br>TIME_PERIOD=%{x}<br>per_capita=%{y}<extra></extra>",
         "legendgroup": "BA",
         "line": {
          "color": "#EF553B",
          "dash": "solid"
         },
         "marker": {
          "symbol": "circle"
         },
         "mode": "lines",
         "name": "BA",
         "orientation": "v",
         "showlegend": true,
         "type": "scatter",
         "x": [
          2021
         ],
         "xaxis": "x",
         "y": [
          null
         ],
         "yaxis": "y"
        },
        {
         "hovertemplate": "geo=BE<br>TIME_PERIOD=%{x}<br>per_capita=%{y}<extra></extra>",
         "legendgroup": "BE",
         "line": {
          "color": "#00cc96",
          "dash": "solid"
         },
         "marker": {
          "symbol": "circle"
         },
         "mode": "lines",
         "name": "BE",
         "orientation": "v",
         "showlegend": true,
         "type": "scatter",
         "x": [
          2011,
          2012,
          2013,
          2014,
          2015,
          2016,
          2017,
          2018,
          2019,
          2020,
          2021,
          2022
         ],
         "xaxis": "x",
         "y": [
          null,
          null,
          2.369365110746353,
          2.5737116352617515,
          2.7550134489912765,
          2.66249849594872,
          2.929994088124212,
          3.0272438983456635,
          3.088920545633943,
          0.8215124574308914,
          1.1683506902389291,
          2.399276685084376
         ],
         "yaxis": "y"
        },
        {
         "hovertemplate": "geo=BG<br>TIME_PERIOD=%{x}<br>per_capita=%{y}<extra></extra>",
         "legendgroup": "BG",
         "line": {
          "color": "#ab63fa",
          "dash": "solid"
         },
         "marker": {
          "symbol": "circle"
         },
         "mode": "lines",
         "name": "BG",
         "orientation": "v",
         "showlegend": true,
         "type": "scatter",
         "x": [
          2011,
          2012,
          2013,
          2014,
          2015,
          2016,
          2017,
          2018,
          2019,
          2020,
          2021,
          2022
         ],
         "xaxis": "x",
         "y": [
          null,
          null,
          0.9718225636936905,
          1.0379564256038463,
          1.0567536465951088,
          1.3033964961760098,
          1.561936247959865,
          1.7216532572750713,
          1.6732861059774096,
          0.5364348206612634,
          0.7298260635218609,
          1.287846634645121
         ],
         "yaxis": "y"
        },
        {
         "hovertemplate": "geo=CH<br>TIME_PERIOD=%{x}<br>per_capita=%{y}<extra></extra>",
         "legendgroup": "CH",
         "line": {
          "color": "#FFA15A",
          "dash": "solid"
         },
         "marker": {
          "symbol": "circle"
         },
         "mode": "lines",
         "name": "CH",
         "orientation": "v",
         "showlegend": true,
         "type": "scatter",
         "x": [
          2011,
          2012,
          2013,
          2014,
          2015,
          2016,
          2017,
          2018,
          2019,
          2020,
          2021,
          2022
         ],
         "xaxis": "x",
         "y": [
          null,
          null,
          null,
          null,
          null,
          null,
          null,
          null,
          null,
          null,
          null,
          null
         ],
         "yaxis": "y"
        },
        {
         "hovertemplate": "geo=CY<br>TIME_PERIOD=%{x}<br>per_capita=%{y}<extra></extra>",
         "legendgroup": "CY",
         "line": {
          "color": "#19d3f3",
          "dash": "solid"
         },
         "marker": {
          "symbol": "circle"
         },
         "mode": "lines",
         "name": "CY",
         "orientation": "v",
         "showlegend": true,
         "type": "scatter",
         "x": [
          2011,
          2012,
          2013,
          2014,
          2015,
          2016,
          2017,
          2018,
          2019,
          2020,
          2021,
          2022
         ],
         "xaxis": "x",
         "y": [
          null,
          null,
          8.097488329764701,
          8.541428904428905,
          8.961883476897503,
          10.564206389341745,
          11.97811072037735,
          12.643654048199798,
          12.856973235498613,
          2.5569416838869152,
          5.691589463028748,
          9.520750963021095
         ],
         "yaxis": "y"
        },
        {
         "hovertemplate": "geo=CZ<br>TIME_PERIOD=%{x}<br>per_capita=%{y}<extra></extra>",
         "legendgroup": "CZ",
         "line": {
          "color": "#FF6692",
          "dash": "solid"
         },
         "marker": {
          "symbol": "circle"
         },
         "mode": "lines",
         "name": "CZ",
         "orientation": "v",
         "showlegend": true,
         "type": "scatter",
         "x": [
          2011,
          2012,
          2013,
          2014,
          2015,
          2016,
          2017,
          2018,
          2019,
          2020,
          2021,
          2022
         ],
         "xaxis": "x",
         "y": [
          null,
          null,
          1.1308169121230491,
          1.1491049776459634,
          1.2024742189779636,
          1.2954865824704802,
          1.535667872220153,
          1.6812562234597277,
          1.7622009803000995,
          0.35733998482691925,
          0.4530952174955378,
          1.0966027673871679
         ],
         "yaxis": "y"
        },
        {
         "hovertemplate": "geo=DE<br>TIME_PERIOD=%{x}<br>per_capita=%{y}<extra></extra>",
         "legendgroup": "DE",
         "line": {
          "color": "#B6E880",
          "dash": "solid"
         },
         "marker": {
          "symbol": "circle"
         },
         "mode": "lines",
         "name": "DE",
         "orientation": "v",
         "showlegend": true,
         "type": "scatter",
         "x": [
          2011,
          2012,
          2013,
          2014,
          2015,
          2016,
          2017,
          2018,
          2019,
          2020,
          2021,
          2022
         ],
         "xaxis": "x",
         "y": [
          null,
          null,
          2.2450916280025024,
          2.3084272685400555,
          2.3884521275565294,
          2.4421736848579196,
          2.5737407732246953,
          2.6865085761364598,
          2.731465136871389,
          0.6949412487888333,
          0.8850621437444958,
          1.8657857880817699
         ],
         "yaxis": "y"
        },
        {
         "hovertemplate": "geo=DK<br>TIME_PERIOD=%{x}<br>per_capita=%{y}<extra></extra>",
         "legendgroup": "DK",
         "line": {
          "color": "#FF97FF",
          "dash": "solid"
         },
         "marker": {
          "symbol": "circle"
         },
         "mode": "lines",
         "name": "DK",
         "orientation": "v",
         "showlegend": true,
         "type": "scatter",
         "x": [
          2011,
          2012,
          2013,
          2014,
          2015,
          2016,
          2017,
          2018,
          2019,
          2020,
          2021,
          2022
         ],
         "xaxis": "x",
         "y": [
          null,
          null,
          4.901204042103099,
          5.156197137670632,
          5.3174947855148185,
          5.7406169800487135,
          5.785797620325325,
          6.00242147377962,
          5.990293108208445,
          1.4870352786125762,
          1.8523516513999465,
          4.537317780781895
         ],
         "yaxis": "y"
        },
        {
         "hovertemplate": "geo=EE<br>TIME_PERIOD=%{x}<br>per_capita=%{y}<extra></extra>",
         "legendgroup": "EE",
         "line": {
          "color": "#FECB52",
          "dash": "solid"
         },
         "marker": {
          "symbol": "circle"
         },
         "mode": "lines",
         "name": "EE",
         "orientation": "v",
         "showlegend": true,
         "type": "scatter",
         "x": [
          2011,
          2012,
          2013,
          2014,
          2015,
          2016,
          2017,
          2018,
          2019,
          2020,
          2021,
          2022
         ],
         "xaxis": "x",
         "y": [
          null,
          null,
          1.4835658026896454,
          1.5350181141935175,
          1.643491752036323,
          1.683193965700668,
          2.002945345783595,
          2.270830916973497,
          2.45920426925922,
          0.6454872021767135,
          0.9720863895680522,
          2.0508884243532792
         ],
         "yaxis": "y"
        },
        {
         "hovertemplate": "geo=EL<br>TIME_PERIOD=%{x}<br>per_capita=%{y}<extra></extra>",
         "legendgroup": "EL",
         "line": {
          "color": "#636efa",
          "dash": "solid"
         },
         "marker": {
          "symbol": "circle"
         },
         "mode": "lines",
         "name": "EL",
         "orientation": "v",
         "showlegend": true,
         "type": "scatter",
         "x": [
          2011,
          2012,
          2013,
          2014,
          2015,
          2016,
          2017,
          2018,
          2019,
          2020,
          2021,
          2022
         ],
         "xaxis": "x",
         "y": [
          null,
          null,
          3.092068742863141,
          3.5799875480549805,
          3.876987678598433,
          4.223334132066142,
          4.659159433713716,
          5.051484266371478,
          5.22989502917545,
          1.6178650780211716,
          3.0196338819429305,
          5.534907802093772
         ],
         "yaxis": "y"
        },
        {
         "hovertemplate": "geo=ES<br>TIME_PERIOD=%{x}<br>per_capita=%{y}<extra></extra>",
         "legendgroup": "ES",
         "line": {
          "color": "#EF553B",
          "dash": "solid"
         },
         "marker": {
          "symbol": "circle"
         },
         "mode": "lines",
         "name": "ES",
         "orientation": "v",
         "showlegend": true,
         "type": "scatter",
         "x": [
          2011,
          2012,
          2013,
          2014,
          2015,
          2016,
          2017,
          2018,
          2019,
          2020,
          2021,
          2022
         ],
         "xaxis": "x",
         "y": [
          null,
          null,
          3.3755423795082553,
          3.555075562004712,
          3.760046041335371,
          4.174668899822974,
          4.5096281974063634,
          4.728220572793604,
          4.863158706574294,
          1.2210883810473683,
          1.938834835009698,
          4.2074431976982725
         ],
         "yaxis": "y"
        },
        {
         "hovertemplate": "geo=EU27_2020<br>TIME_PERIOD=%{x}<br>per_capita=%{y}<extra></extra>",
         "legendgroup": "EU27_2020",
         "line": {
          "color": "#00cc96",
          "dash": "solid"
         },
         "marker": {
          "symbol": "circle"
         },
         "mode": "lines",
         "name": "EU27_2020",
         "orientation": "v",
         "showlegend": true,
         "type": "scatter",
         "x": [
          2011,
          2012,
          2013,
          2014,
          2015,
          2016,
          2017,
          2018,
          2019,
          2020,
          2021,
          2022
         ],
         "xaxis": "x",
         "y": [
          null,
          null,
          1.6908495407573738,
          1.7638993428453644,
          1.8475552505378743,
          1.9597352426916888,
          2.1072545975851966,
          2.232802117687761,
          2.3185756005260063,
          0.618702852479298,
          0.8361251900904906,
          1.835176093128492
         ],
         "yaxis": "y"
        },
        {
         "hovertemplate": "geo=FI<br>TIME_PERIOD=%{x}<br>per_capita=%{y}<extra></extra>",
         "legendgroup": "FI",
         "line": {
          "color": "#ab63fa",
          "dash": "solid"
         },
         "marker": {
          "symbol": "circle"
         },
         "mode": "lines",
         "name": "FI",
         "orientation": "v",
         "showlegend": true,
         "type": "scatter",
         "x": [
          2011,
          2012,
          2013,
          2014,
          2015,
          2016,
          2017,
          2018,
          2019,
          2020,
          2021,
          2022
         ],
         "xaxis": "x",
         "y": [
          null,
          null,
          3.0525863539987843,
          3.15007897242294,
          3.1944508460085825,
          3.2985124946512934,
          3.644169486037188,
          4.021949418932621,
          4.220418784690388,
          0.9825040920914225,
          0.8230334961932981,
          2.489541640314471
         ],
         "yaxis": "y"
        },
        {
         "hovertemplate": "geo=FR<br>TIME_PERIOD=%{x}<br>per_capita=%{y}<extra></extra>",
         "legendgroup": "FR",
         "line": {
          "color": "#FFA15A",
          "dash": "solid"
         },
         "marker": {
          "symbol": "circle"
         },
         "mode": "lines",
         "name": "FR",
         "orientation": "v",
         "showlegend": true,
         "type": "scatter",
         "x": [
          2011,
          2012,
          2013,
          2014,
          2015,
          2016,
          2017,
          2018,
          2019,
          2020,
          2021,
          2022
         ],
         "xaxis": "x",
         "y": [
          null,
          null,
          2.0238135162388615,
          2.0608879517842853,
          2.1196431534893847,
          2.1801337010072768,
          2.306494677368966,
          2.416832835458551,
          2.5116511691480183,
          0.7534736816649549,
          0.9760131157481238,
          2.0120386743119485
         ],
         "yaxis": "y"
        },
        {
         "hovertemplate": "geo=HR<br>TIME_PERIOD=%{x}<br>per_capita=%{y}<extra></extra>",
         "legendgroup": "HR",
         "line": {
          "color": "#19d3f3",
          "dash": "solid"
         },
         "marker": {
          "symbol": "circle"
         },
         "mode": "lines",
         "name": "HR",
         "orientation": "v",
         "showlegend": true,
         "type": "scatter",
         "x": [
          2011,
          2012,
          2013,
          2014,
          2015,
          2016,
          2017,
          2018,
          2019,
          2020,
          2021,
          2022
         ],
         "xaxis": "x",
         "y": [
          null,
          null,
          1.3426229546659658,
          1.4459790868861773,
          1.5553151527601723,
          1.783835230126741,
          2.1286951343130456,
          2.3703107032456274,
          2.606132946833925,
          0.47892261650277895,
          1.1045609219208914,
          2.4377466305742295
         ],
         "yaxis": "y"
        },
        {
         "hovertemplate": "geo=HU<br>TIME_PERIOD=%{x}<br>per_capita=%{y}<extra></extra>",
         "legendgroup": "HU",
         "line": {
          "color": "#FF6692",
          "dash": "solid"
         },
         "marker": {
          "symbol": "circle"
         },
         "mode": "lines",
         "name": "HU",
         "orientation": "v",
         "showlegend": true,
         "type": "scatter",
         "x": [
          2011,
          2012,
          2013,
          2014,
          2015,
          2016,
          2017,
          2018,
          2019,
          2020,
          2021,
          2022
         ],
         "xaxis": "x",
         "y": [
          null,
          null,
          0.8519014112508904,
          0.9167270825771853,
          1.0378243939392249,
          1.1861435117392478,
          1.362586974452111,
          1.552047166138409,
          1.708908930090959,
          0.40561712001175904,
          0.4794448991303054,
          1.2791308915978
         ],
         "yaxis": "y"
        },
        {
         "hovertemplate": "geo=IE<br>TIME_PERIOD=%{x}<br>per_capita=%{y}<extra></extra>",
         "legendgroup": "IE",
         "line": {
          "color": "#B6E880",
          "dash": "solid"
         },
         "marker": {
          "symbol": "circle"
         },
         "mode": "lines",
         "name": "IE",
         "orientation": "v",
         "showlegend": true,
         "type": "scatter",
         "x": [
          2011,
          2012,
          2013,
          2014,
          2015,
          2016,
          2017,
          2018,
          2019,
          2020,
          2021,
          2022
         ],
         "xaxis": "x",
         "y": [
          null,
          null,
          5.337271049219496,
          5.67306287479635,
          6.316241119695948,
          6.896685685123583,
          7.163258250854917,
          7.524235093135299,
          7.737694321648206,
          1.6655044677748145,
          1.8171734390343095,
          6.404321024252154
         ],
         "yaxis": "y"
        },
        {
         "hovertemplate": "geo=IS<br>TIME_PERIOD=%{x}<br>per_capita=%{y}<extra></extra>",
         "legendgroup": "IS",
         "line": {
          "color": "#FF97FF",
          "dash": "solid"
         },
         "marker": {
          "symbol": "circle"
         },
         "mode": "lines",
         "name": "IS",
         "orientation": "v",
         "showlegend": true,
         "type": "scatter",
         "x": [
          2011,
          2012,
          2013,
          2014,
          2015,
          2016,
          2017,
          2018,
          2019,
          2020,
          2021,
          2022
         ],
         "xaxis": "x",
         "y": [
          null,
          null,
          null,
          null,
          null,
          null,
          null,
          null,
          null,
          null,
          null,
          null
         ],
         "yaxis": "y"
        },
        {
         "hovertemplate": "geo=IT<br>TIME_PERIOD=%{x}<br>per_capita=%{y}<extra></extra>",
         "legendgroup": "IT",
         "line": {
          "color": "#FECB52",
          "dash": "solid"
         },
         "marker": {
          "symbol": "circle"
         },
         "mode": "lines",
         "name": "IT",
         "orientation": "v",
         "showlegend": true,
         "type": "scatter",
         "x": [
          2011,
          2012,
          2013,
          2014,
          2015,
          2016,
          2017,
          2018,
          2019,
          2020,
          2021,
          2022
         ],
         "xaxis": "x",
         "y": [
          null,
          null,
          1.9314512282913827,
          1.9934068540722827,
          2.0999084769473164,
          2.216707485274468,
          2.3817073254260706,
          2.535422797044103,
          2.686005940183266,
          0.677470605696491,
          1.007983798694221,
          2.2433579643129042
         ],
         "yaxis": "y"
        },
        {
         "hovertemplate": "geo=LT<br>TIME_PERIOD=%{x}<br>per_capita=%{y}<extra></extra>",
         "legendgroup": "LT",
         "line": {
          "color": "#636efa",
          "dash": "solid"
         },
         "marker": {
          "symbol": "circle"
         },
         "mode": "lines",
         "name": "LT",
         "orientation": "v",
         "showlegend": true,
         "type": "scatter",
         "x": [
          2011,
          2012,
          2013,
          2014,
          2015,
          2016,
          2017,
          2018,
          2019,
          2020,
          2021,
          2022
         ],
         "xaxis": "x",
         "y": [
          null,
          null,
          1.1717595279795283,
          1.2903503073920866,
          1.447110529627264,
          1.6574224924685603,
          1.8420919384923087,
          2.226556934544863,
          2.327937243932397,
          0.645827442924172,
          0.8815755022033995,
          1.9008887390511326
         ],
         "yaxis": "y"
        },
        {
         "hovertemplate": "geo=LU<br>TIME_PERIOD=%{x}<br>per_capita=%{y}<extra></extra>",
         "legendgroup": "LU",
         "line": {
          "color": "#EF553B",
          "dash": "solid"
         },
         "marker": {
          "symbol": "circle"
         },
         "mode": "lines",
         "name": "LU",
         "orientation": "v",
         "showlegend": true,
         "type": "scatter",
         "x": [
          2011,
          2012,
          2013,
          2014,
          2015,
          2016,
          2017,
          2018,
          2019,
          2020,
          2021,
          2022
         ],
         "xaxis": "x",
         "y": [
          null,
          null,
          4.03942171797579,
          4.42796900014554,
          4.710388696847722,
          5.178736969608624,
          6.018162517966976,
          6.6258652336774615,
          7.111274910652328,
          2.2780574597353813,
          3.1555196697808516,
          6.286436100570657
         ],
         "yaxis": "y"
        },
        {
         "hovertemplate": "geo=LV<br>TIME_PERIOD=%{x}<br>per_capita=%{y}<extra></extra>",
         "legendgroup": "LV",
         "line": {
          "color": "#00cc96",
          "dash": "solid"
         },
         "marker": {
          "symbol": "circle"
         },
         "mode": "lines",
         "name": "LV",
         "orientation": "v",
         "showlegend": true,
         "type": "scatter",
         "x": [
          2011,
          2012,
          2013,
          2014,
          2015,
          2016,
          2017,
          2018,
          2019,
          2020,
          2021,
          2022
         ],
         "xaxis": "x",
         "y": [
          null,
          null,
          2.362979506627302,
          2.399379855186293,
          2.5909402163843036,
          2.734523912914299,
          3.1166628036486035,
          3.637896193041798,
          4.055133210553509,
          1.0458453352903403,
          1.233945499288779,
          2.861974658764435
         ],
         "yaxis": "y"
        },
        {
         "hovertemplate": "geo=ME<br>TIME_PERIOD=%{x}<br>per_capita=%{y}<extra></extra>",
         "legendgroup": "ME",
         "line": {
          "color": "#ab63fa",
          "dash": "solid"
         },
         "marker": {
          "symbol": "circle"
         },
         "mode": "lines",
         "name": "ME",
         "orientation": "v",
         "showlegend": true,
         "type": "scatter",
         "x": [
          2016,
          2017,
          2018,
          2019,
          2020,
          2021,
          2022
         ],
         "xaxis": "x",
         "y": [
          null,
          null,
          null,
          null,
          null,
          null,
          null
         ],
         "yaxis": "y"
        },
        {
         "hovertemplate": "geo=MK<br>TIME_PERIOD=%{x}<br>per_capita=%{y}<extra></extra>",
         "legendgroup": "MK",
         "line": {
          "color": "#FFA15A",
          "dash": "solid"
         },
         "marker": {
          "symbol": "circle"
         },
         "mode": "lines",
         "name": "MK",
         "orientation": "v",
         "showlegend": true,
         "type": "scatter",
         "x": [
          2015,
          2016,
          2017,
          2018,
          2019,
          2020,
          2021,
          2022
         ],
         "xaxis": "x",
         "y": [
          null,
          null,
          null,
          null,
          null,
          null,
          null,
          null
         ],
         "yaxis": "y"
        },
        {
         "hovertemplate": "geo=MT<br>TIME_PERIOD=%{x}<br>per_capita=%{y}<extra></extra>",
         "legendgroup": "MT",
         "line": {
          "color": "#19d3f3",
          "dash": "solid"
         },
         "marker": {
          "symbol": "circle"
         },
         "mode": "lines",
         "name": "MT",
         "orientation": "v",
         "showlegend": true,
         "type": "scatter",
         "x": [
          2011,
          2012,
          2013,
          2014,
          2015,
          2016,
          2017,
          2018,
          2019,
          2020,
          2021,
          2022
         ],
         "xaxis": "x",
         "y": [
          null,
          null,
          9.543060621193868,
          9.990200827154514,
          10.506371519999272,
          11.279477814904032,
          13.051857822232167,
          14.306921784902702,
          14.827724750232495,
          3.4056890882378092,
          4.9368571982174,
          11.251292298419681
         ],
         "yaxis": "y"
        },
        {
         "hovertemplate": "geo=NL<br>TIME_PERIOD=%{x}<br>per_capita=%{y}<extra></extra>",
         "legendgroup": "NL",
         "line": {
          "color": "#FF6692",
          "dash": "solid"
         },
         "marker": {
          "symbol": "circle"
         },
         "mode": "lines",
         "name": "NL",
         "orientation": "v",
         "showlegend": true,
         "type": "scatter",
         "x": [
          2011,
          2012,
          2013,
          2014,
          2015,
          2016,
          2017,
          2018,
          2019,
          2020,
          2021,
          2022
         ],
         "xaxis": "x",
         "y": [
          null,
          null,
          3.4611884389205327,
          3.622434851525813,
          3.820601434518257,
          4.141439308986567,
          4.463324225432803,
          4.635572644892488,
          4.698052379207394,
          1.3554311525694116,
          1.6641998487589564,
          3.4842199888668266
         ],
         "yaxis": "y"
        },
        {
         "hovertemplate": "geo=NO<br>TIME_PERIOD=%{x}<br>per_capita=%{y}<extra></extra>",
         "legendgroup": "NO",
         "line": {
          "color": "#B6E880",
          "dash": "solid"
         },
         "marker": {
          "symbol": "circle"
         },
         "mode": "lines",
         "name": "NO",
         "orientation": "v",
         "showlegend": true,
         "type": "scatter",
         "x": [
          2011,
          2012,
          2013,
          2014,
          2015,
          2016,
          2017,
          2018,
          2019,
          2020,
          2021,
          2022
         ],
         "xaxis": "x",
         "y": [
          null,
          null,
          null,
          null,
          null,
          null,
          null,
          null,
          null,
          null,
          null,
          null
         ],
         "yaxis": "y"
        },
        {
         "hovertemplate": "geo=PL<br>TIME_PERIOD=%{x}<br>per_capita=%{y}<extra></extra>",
         "legendgroup": "PL",
         "line": {
          "color": "#FF97FF",
          "dash": "solid"
         },
         "marker": {
          "symbol": "circle"
         },
         "mode": "lines",
         "name": "PL",
         "orientation": "v",
         "showlegend": true,
         "type": "scatter",
         "x": [
          2011,
          2012,
          2013,
          2014,
          2015,
          2016,
          2017,
          2018,
          2019,
          2020,
          2021,
          2022
         ],
         "xaxis": "x",
         "y": [
          null,
          null,
          0.6114801339427339,
          0.6763774895670077,
          0.7606097088709052,
          0.8498612842466245,
          0.9924078615511815,
          1.1524846282668102,
          1.2362205622275222,
          0.36422914106060733,
          0.49930791492315235,
          1.0449695621319954
         ],
         "yaxis": "y"
        },
        {
         "hovertemplate": "geo=PT<br>TIME_PERIOD=%{x}<br>per_capita=%{y}<extra></extra>",
         "legendgroup": "PT",
         "line": {
          "color": "#FECB52",
          "dash": "solid"
         },
         "marker": {
          "symbol": "circle"
         },
         "mode": "lines",
         "name": "PT",
         "orientation": "v",
         "showlegend": true,
         "type": "scatter",
         "x": [
          2011,
          2012,
          2013,
          2014,
          2015,
          2016,
          2017,
          2018,
          2019,
          2020,
          2021,
          2022
         ],
         "xaxis": "x",
         "y": [
          null,
          null,
          2.8314415670246142,
          3.122631733753538,
          3.4704994456772367,
          3.9579090890630124,
          4.624154366044064,
          4.957580812877082,
          5.352723955753143,
          1.6073367587067835,
          2.170047110907754,
          5.514054425204225
         ],
         "yaxis": "y"
        },
        {
         "hovertemplate": "geo=RO<br>TIME_PERIOD=%{x}<br>per_capita=%{y}<extra></extra>",
         "legendgroup": "RO",
         "line": {
          "color": "#636efa",
          "dash": "solid"
         },
         "marker": {
          "symbol": "circle"
         },
         "mode": "lines",
         "name": "RO",
         "orientation": "v",
         "showlegend": true,
         "type": "scatter",
         "x": [
          2011,
          2012,
          2013,
          2014,
          2015,
          2016,
          2017,
          2018,
          2019,
          2020,
          2021,
          2022
         ],
         "xaxis": "x",
         "y": [
          null,
          null,
          0.500344454271248,
          0.5468149065305093,
          0.6331304159346195,
          0.7668659100932488,
          0.9129922909085133,
          1.014137828275462,
          1.110814682542258,
          0.3431891249748174,
          0.5408184458199504,
          1.0259155660338963
         ],
         "yaxis": "y"
        },
        {
         "hovertemplate": "geo=RS<br>TIME_PERIOD=%{x}<br>per_capita=%{y}<extra></extra>",
         "legendgroup": "RS",
         "line": {
          "color": "#EF553B",
          "dash": "solid"
         },
         "marker": {
          "symbol": "circle"
         },
         "mode": "lines",
         "name": "RS",
         "orientation": "v",
         "showlegend": true,
         "type": "scatter",
         "x": [
          2016,
          2017,
          2018,
          2019,
          2020,
          2021
         ],
         "xaxis": "x",
         "y": [
          null,
          null,
          null,
          null,
          null,
          null
         ],
         "yaxis": "y"
        },
        {
         "hovertemplate": "geo=SE<br>TIME_PERIOD=%{x}<br>per_capita=%{y}<extra></extra>",
         "legendgroup": "SE",
         "line": {
          "color": "#00cc96",
          "dash": "solid"
         },
         "marker": {
          "symbol": "circle"
         },
         "mode": "lines",
         "name": "SE",
         "orientation": "v",
         "showlegend": true,
         "type": "scatter",
         "x": [
          2011,
          2012,
          2013,
          2014,
          2015,
          2016,
          2017,
          2018,
          2019,
          2020,
          2021,
          2022
         ],
         "xaxis": "x",
         "y": [
          null,
          null,
          3.2904538592049954,
          3.3972529835568444,
          3.4892812460405924,
          3.6496290687550332,
          3.847486176549774,
          3.8482376211952243,
          3.676840936894103,
          0.902212220102872,
          1.0403412755876,
          2.3955253596185195
         ],
         "yaxis": "y"
        },
        {
         "hovertemplate": "geo=SI<br>TIME_PERIOD=%{x}<br>per_capita=%{y}<extra></extra>",
         "legendgroup": "SI",
         "line": {
          "color": "#ab63fa",
          "dash": "solid"
         },
         "marker": {
          "symbol": "circle"
         },
         "mode": "lines",
         "name": "SI",
         "orientation": "v",
         "showlegend": true,
         "type": "scatter",
         "x": [
          2011,
          2012,
          2013,
          2014,
          2015,
          2016,
          2017,
          2018,
          2019,
          2020,
          2021,
          2022
         ],
         "xaxis": "x",
         "y": [
          null,
          null,
          0.6148013838988431,
          0.6341941259094118,
          0.6961176494541111,
          0.6802442413191047,
          0.8142393490472652,
          0.8759903816380245,
          0.8261004330801747,
          0.13731206411112187,
          0.1988385838252385,
          0.4597666075038677
         ],
         "yaxis": "y"
        },
        {
         "hovertemplate": "geo=SK<br>TIME_PERIOD=%{x}<br>per_capita=%{y}<extra></extra>",
         "legendgroup": "SK",
         "line": {
          "color": "#FFA15A",
          "dash": "solid"
         },
         "marker": {
          "symbol": "circle"
         },
         "mode": "lines",
         "name": "SK",
         "orientation": "v",
         "showlegend": true,
         "type": "scatter",
         "x": [
          2011,
          2012,
          2013,
          2014,
          2015,
          2016,
          2017,
          2018,
          2019,
          2020,
          2021,
          2022
         ],
         "xaxis": "x",
         "y": [
          null,
          null,
          0.28778344048867865,
          0.30858673152202876,
          0.3585188852442446,
          0.3977443362379779,
          0.4420422041442463,
          0.5133258131365834,
          0.5210215871397824,
          0.09172144533227504,
          0.11760142027674736,
          0.3574371558235285
         ],
         "yaxis": "y"
        },
        {
         "hovertemplate": "geo=UK<br>TIME_PERIOD=%{x}<br>per_capita=%{y}<extra></extra>",
         "legendgroup": "UK",
         "line": {
          "color": "#19d3f3",
          "dash": "solid"
         },
         "marker": {
          "symbol": "circle"
         },
         "mode": "lines",
         "name": "UK",
         "orientation": "v",
         "showlegend": true,
         "type": "scatter",
         "x": [
          2011,
          2012,
          2013,
          2014,
          2015,
          2016,
          2017,
          2018,
          2019
         ],
         "xaxis": "x",
         "y": [
          null,
          null,
          null,
          null,
          null,
          null,
          null,
          null,
          null
         ],
         "yaxis": "y"
        }
       ],
       "layout": {
        "legend": {
         "title": {
          "text": "geo"
         },
         "tracegroupgap": 0
        },
        "template": {
         "data": {
          "bar": [
           {
            "error_x": {
             "color": "#2a3f5f"
            },
            "error_y": {
             "color": "#2a3f5f"
            },
            "marker": {
             "line": {
              "color": "#E5ECF6",
              "width": 0.5
             },
             "pattern": {
              "fillmode": "overlay",
              "size": 10,
              "solidity": 0.2
             }
            },
            "type": "bar"
           }
          ],
          "barpolar": [
           {
            "marker": {
             "line": {
              "color": "#E5ECF6",
              "width": 0.5
             },
             "pattern": {
              "fillmode": "overlay",
              "size": 10,
              "solidity": 0.2
             }
            },
            "type": "barpolar"
           }
          ],
          "carpet": [
           {
            "aaxis": {
             "endlinecolor": "#2a3f5f",
             "gridcolor": "white",
             "linecolor": "white",
             "minorgridcolor": "white",
             "startlinecolor": "#2a3f5f"
            },
            "baxis": {
             "endlinecolor": "#2a3f5f",
             "gridcolor": "white",
             "linecolor": "white",
             "minorgridcolor": "white",
             "startlinecolor": "#2a3f5f"
            },
            "type": "carpet"
           }
          ],
          "choropleth": [
           {
            "colorbar": {
             "outlinewidth": 0,
             "ticks": ""
            },
            "type": "choropleth"
           }
          ],
          "contour": [
           {
            "colorbar": {
             "outlinewidth": 0,
             "ticks": ""
            },
            "colorscale": [
             [
              0,
              "#0d0887"
             ],
             [
              0.1111111111111111,
              "#46039f"
             ],
             [
              0.2222222222222222,
              "#7201a8"
             ],
             [
              0.3333333333333333,
              "#9c179e"
             ],
             [
              0.4444444444444444,
              "#bd3786"
             ],
             [
              0.5555555555555556,
              "#d8576b"
             ],
             [
              0.6666666666666666,
              "#ed7953"
             ],
             [
              0.7777777777777778,
              "#fb9f3a"
             ],
             [
              0.8888888888888888,
              "#fdca26"
             ],
             [
              1,
              "#f0f921"
             ]
            ],
            "type": "contour"
           }
          ],
          "contourcarpet": [
           {
            "colorbar": {
             "outlinewidth": 0,
             "ticks": ""
            },
            "type": "contourcarpet"
           }
          ],
          "heatmap": [
           {
            "colorbar": {
             "outlinewidth": 0,
             "ticks": ""
            },
            "colorscale": [
             [
              0,
              "#0d0887"
             ],
             [
              0.1111111111111111,
              "#46039f"
             ],
             [
              0.2222222222222222,
              "#7201a8"
             ],
             [
              0.3333333333333333,
              "#9c179e"
             ],
             [
              0.4444444444444444,
              "#bd3786"
             ],
             [
              0.5555555555555556,
              "#d8576b"
             ],
             [
              0.6666666666666666,
              "#ed7953"
             ],
             [
              0.7777777777777778,
              "#fb9f3a"
             ],
             [
              0.8888888888888888,
              "#fdca26"
             ],
             [
              1,
              "#f0f921"
             ]
            ],
            "type": "heatmap"
           }
          ],
          "heatmapgl": [
           {
            "colorbar": {
             "outlinewidth": 0,
             "ticks": ""
            },
            "colorscale": [
             [
              0,
              "#0d0887"
             ],
             [
              0.1111111111111111,
              "#46039f"
             ],
             [
              0.2222222222222222,
              "#7201a8"
             ],
             [
              0.3333333333333333,
              "#9c179e"
             ],
             [
              0.4444444444444444,
              "#bd3786"
             ],
             [
              0.5555555555555556,
              "#d8576b"
             ],
             [
              0.6666666666666666,
              "#ed7953"
             ],
             [
              0.7777777777777778,
              "#fb9f3a"
             ],
             [
              0.8888888888888888,
              "#fdca26"
             ],
             [
              1,
              "#f0f921"
             ]
            ],
            "type": "heatmapgl"
           }
          ],
          "histogram": [
           {
            "marker": {
             "pattern": {
              "fillmode": "overlay",
              "size": 10,
              "solidity": 0.2
             }
            },
            "type": "histogram"
           }
          ],
          "histogram2d": [
           {
            "colorbar": {
             "outlinewidth": 0,
             "ticks": ""
            },
            "colorscale": [
             [
              0,
              "#0d0887"
             ],
             [
              0.1111111111111111,
              "#46039f"
             ],
             [
              0.2222222222222222,
              "#7201a8"
             ],
             [
              0.3333333333333333,
              "#9c179e"
             ],
             [
              0.4444444444444444,
              "#bd3786"
             ],
             [
              0.5555555555555556,
              "#d8576b"
             ],
             [
              0.6666666666666666,
              "#ed7953"
             ],
             [
              0.7777777777777778,
              "#fb9f3a"
             ],
             [
              0.8888888888888888,
              "#fdca26"
             ],
             [
              1,
              "#f0f921"
             ]
            ],
            "type": "histogram2d"
           }
          ],
          "histogram2dcontour": [
           {
            "colorbar": {
             "outlinewidth": 0,
             "ticks": ""
            },
            "colorscale": [
             [
              0,
              "#0d0887"
             ],
             [
              0.1111111111111111,
              "#46039f"
             ],
             [
              0.2222222222222222,
              "#7201a8"
             ],
             [
              0.3333333333333333,
              "#9c179e"
             ],
             [
              0.4444444444444444,
              "#bd3786"
             ],
             [
              0.5555555555555556,
              "#d8576b"
             ],
             [
              0.6666666666666666,
              "#ed7953"
             ],
             [
              0.7777777777777778,
              "#fb9f3a"
             ],
             [
              0.8888888888888888,
              "#fdca26"
             ],
             [
              1,
              "#f0f921"
             ]
            ],
            "type": "histogram2dcontour"
           }
          ],
          "mesh3d": [
           {
            "colorbar": {
             "outlinewidth": 0,
             "ticks": ""
            },
            "type": "mesh3d"
           }
          ],
          "parcoords": [
           {
            "line": {
             "colorbar": {
              "outlinewidth": 0,
              "ticks": ""
             }
            },
            "type": "parcoords"
           }
          ],
          "pie": [
           {
            "automargin": true,
            "type": "pie"
           }
          ],
          "scatter": [
           {
            "fillpattern": {
             "fillmode": "overlay",
             "size": 10,
             "solidity": 0.2
            },
            "type": "scatter"
           }
          ],
          "scatter3d": [
           {
            "line": {
             "colorbar": {
              "outlinewidth": 0,
              "ticks": ""
             }
            },
            "marker": {
             "colorbar": {
              "outlinewidth": 0,
              "ticks": ""
             }
            },
            "type": "scatter3d"
           }
          ],
          "scattercarpet": [
           {
            "marker": {
             "colorbar": {
              "outlinewidth": 0,
              "ticks": ""
             }
            },
            "type": "scattercarpet"
           }
          ],
          "scattergeo": [
           {
            "marker": {
             "colorbar": {
              "outlinewidth": 0,
              "ticks": ""
             }
            },
            "type": "scattergeo"
           }
          ],
          "scattergl": [
           {
            "marker": {
             "colorbar": {
              "outlinewidth": 0,
              "ticks": ""
             }
            },
            "type": "scattergl"
           }
          ],
          "scattermapbox": [
           {
            "marker": {
             "colorbar": {
              "outlinewidth": 0,
              "ticks": ""
             }
            },
            "type": "scattermapbox"
           }
          ],
          "scatterpolar": [
           {
            "marker": {
             "colorbar": {
              "outlinewidth": 0,
              "ticks": ""
             }
            },
            "type": "scatterpolar"
           }
          ],
          "scatterpolargl": [
           {
            "marker": {
             "colorbar": {
              "outlinewidth": 0,
              "ticks": ""
             }
            },
            "type": "scatterpolargl"
           }
          ],
          "scatterternary": [
           {
            "marker": {
             "colorbar": {
              "outlinewidth": 0,
              "ticks": ""
             }
            },
            "type": "scatterternary"
           }
          ],
          "surface": [
           {
            "colorbar": {
             "outlinewidth": 0,
             "ticks": ""
            },
            "colorscale": [
             [
              0,
              "#0d0887"
             ],
             [
              0.1111111111111111,
              "#46039f"
             ],
             [
              0.2222222222222222,
              "#7201a8"
             ],
             [
              0.3333333333333333,
              "#9c179e"
             ],
             [
              0.4444444444444444,
              "#bd3786"
             ],
             [
              0.5555555555555556,
              "#d8576b"
             ],
             [
              0.6666666666666666,
              "#ed7953"
             ],
             [
              0.7777777777777778,
              "#fb9f3a"
             ],
             [
              0.8888888888888888,
              "#fdca26"
             ],
             [
              1,
              "#f0f921"
             ]
            ],
            "type": "surface"
           }
          ],
          "table": [
           {
            "cells": {
             "fill": {
              "color": "#EBF0F8"
             },
             "line": {
              "color": "white"
             }
            },
            "header": {
             "fill": {
              "color": "#C8D4E3"
             },
             "line": {
              "color": "white"
             }
            },
            "type": "table"
           }
          ]
         },
         "layout": {
          "annotationdefaults": {
           "arrowcolor": "#2a3f5f",
           "arrowhead": 0,
           "arrowwidth": 1
          },
          "autotypenumbers": "strict",
          "coloraxis": {
           "colorbar": {
            "outlinewidth": 0,
            "ticks": ""
           }
          },
          "colorscale": {
           "diverging": [
            [
             0,
             "#8e0152"
            ],
            [
             0.1,
             "#c51b7d"
            ],
            [
             0.2,
             "#de77ae"
            ],
            [
             0.3,
             "#f1b6da"
            ],
            [
             0.4,
             "#fde0ef"
            ],
            [
             0.5,
             "#f7f7f7"
            ],
            [
             0.6,
             "#e6f5d0"
            ],
            [
             0.7,
             "#b8e186"
            ],
            [
             0.8,
             "#7fbc41"
            ],
            [
             0.9,
             "#4d9221"
            ],
            [
             1,
             "#276419"
            ]
           ],
           "sequential": [
            [
             0,
             "#0d0887"
            ],
            [
             0.1111111111111111,
             "#46039f"
            ],
            [
             0.2222222222222222,
             "#7201a8"
            ],
            [
             0.3333333333333333,
             "#9c179e"
            ],
            [
             0.4444444444444444,
             "#bd3786"
            ],
            [
             0.5555555555555556,
             "#d8576b"
            ],
            [
             0.6666666666666666,
             "#ed7953"
            ],
            [
             0.7777777777777778,
             "#fb9f3a"
            ],
            [
             0.8888888888888888,
             "#fdca26"
            ],
            [
             1,
             "#f0f921"
            ]
           ],
           "sequentialminus": [
            [
             0,
             "#0d0887"
            ],
            [
             0.1111111111111111,
             "#46039f"
            ],
            [
             0.2222222222222222,
             "#7201a8"
            ],
            [
             0.3333333333333333,
             "#9c179e"
            ],
            [
             0.4444444444444444,
             "#bd3786"
            ],
            [
             0.5555555555555556,
             "#d8576b"
            ],
            [
             0.6666666666666666,
             "#ed7953"
            ],
            [
             0.7777777777777778,
             "#fb9f3a"
            ],
            [
             0.8888888888888888,
             "#fdca26"
            ],
            [
             1,
             "#f0f921"
            ]
           ]
          },
          "colorway": [
           "#636efa",
           "#EF553B",
           "#00cc96",
           "#ab63fa",
           "#FFA15A",
           "#19d3f3",
           "#FF6692",
           "#B6E880",
           "#FF97FF",
           "#FECB52"
          ],
          "font": {
           "color": "#2a3f5f"
          },
          "geo": {
           "bgcolor": "white",
           "lakecolor": "white",
           "landcolor": "#E5ECF6",
           "showlakes": true,
           "showland": true,
           "subunitcolor": "white"
          },
          "hoverlabel": {
           "align": "left"
          },
          "hovermode": "closest",
          "mapbox": {
           "style": "light"
          },
          "paper_bgcolor": "white",
          "plot_bgcolor": "#E5ECF6",
          "polar": {
           "angularaxis": {
            "gridcolor": "white",
            "linecolor": "white",
            "ticks": ""
           },
           "bgcolor": "#E5ECF6",
           "radialaxis": {
            "gridcolor": "white",
            "linecolor": "white",
            "ticks": ""
           }
          },
          "scene": {
           "xaxis": {
            "backgroundcolor": "#E5ECF6",
            "gridcolor": "white",
            "gridwidth": 2,
            "linecolor": "white",
            "showbackground": true,
            "ticks": "",
            "zerolinecolor": "white"
           },
           "yaxis": {
            "backgroundcolor": "#E5ECF6",
            "gridcolor": "white",
            "gridwidth": 2,
            "linecolor": "white",
            "showbackground": true,
            "ticks": "",
            "zerolinecolor": "white"
           },
           "zaxis": {
            "backgroundcolor": "#E5ECF6",
            "gridcolor": "white",
            "gridwidth": 2,
            "linecolor": "white",
            "showbackground": true,
            "ticks": "",
            "zerolinecolor": "white"
           }
          },
          "shapedefaults": {
           "line": {
            "color": "#2a3f5f"
           }
          },
          "ternary": {
           "aaxis": {
            "gridcolor": "white",
            "linecolor": "white",
            "ticks": ""
           },
           "baxis": {
            "gridcolor": "white",
            "linecolor": "white",
            "ticks": ""
           },
           "bgcolor": "#E5ECF6",
           "caxis": {
            "gridcolor": "white",
            "linecolor": "white",
            "ticks": ""
           }
          },
          "title": {
           "x": 0.05
          },
          "xaxis": {
           "automargin": true,
           "gridcolor": "white",
           "linecolor": "white",
           "ticks": "",
           "title": {
            "standoff": 15
           },
           "zerolinecolor": "white",
           "zerolinewidth": 2
          },
          "yaxis": {
           "automargin": true,
           "gridcolor": "white",
           "linecolor": "white",
           "ticks": "",
           "title": {
            "standoff": 15
           },
           "zerolinecolor": "white",
           "zerolinewidth": 2
          }
         }
        },
        "title": {
         "text": "Per Capita Air Passengers Over Time"
        },
        "xaxis": {
         "anchor": "y",
         "domain": [
          0,
          1
         ],
         "title": {
          "text": "TIME_PERIOD"
         }
        },
        "yaxis": {
         "anchor": "x",
         "domain": [
          0,
          1
         ],
         "title": {
          "text": "per_capita"
         }
        }
       }
      }
     },
     "metadata": {},
     "output_type": "display_data"
    },
    {
     "data": {
      "application/vnd.plotly.v1+json": {
       "config": {
        "plotlyServerURL": "https://plot.ly"
       },
       "data": [
        {
         "hovertemplate": "geo=AT<br>TIME_PERIOD=%{x}<br>per_capita=%{y}<extra></extra>",
         "legendgroup": "AT",
         "line": {
          "color": "#636efa",
          "dash": "solid"
         },
         "marker": {
          "symbol": "circle"
         },
         "mode": "lines",
         "name": "AT",
         "orientation": "v",
         "showlegend": true,
         "type": "scatter",
         "x": [
          2013,
          2014,
          2015,
          2016,
          2017,
          2018,
          2019,
          2020,
          2021,
          2022
         ],
         "xaxis": "x",
         "y": [
          1.2270671781122735,
          1.2028981452989063,
          1.1260434859892794,
          1.0686777761801631,
          1.0565533608462,
          1.1242008431619672,
          1.2182271250821926,
          0.5182526493461905,
          0.6220988497944174,
          1.3245454998029276
         ],
         "yaxis": "y"
        },
        {
         "hovertemplate": "geo=BE<br>TIME_PERIOD=%{x}<br>per_capita=%{y}<extra></extra>",
         "legendgroup": "BE",
         "line": {
          "color": "#EF553B",
          "dash": "solid"
         },
         "marker": {
          "symbol": "circle"
         },
         "mode": "lines",
         "name": "BE",
         "orientation": "v",
         "showlegend": true,
         "type": "scatter",
         "x": [
          2013,
          2014,
          2015,
          2016,
          2017,
          2018,
          2019,
          2020,
          2021,
          2022
         ],
         "xaxis": "x",
         "y": [
          null,
          null,
          null,
          null,
          null,
          null,
          null,
          null,
          null,
          null
         ],
         "yaxis": "y"
        },
        {
         "hovertemplate": "geo=BG<br>TIME_PERIOD=%{x}<br>per_capita=%{y}<extra></extra>",
         "legendgroup": "BG",
         "line": {
          "color": "#00cc96",
          "dash": "solid"
         },
         "marker": {
          "symbol": "circle"
         },
         "mode": "lines",
         "name": "BG",
         "orientation": "v",
         "showlegend": true,
         "type": "scatter",
         "x": [
          2013,
          2014,
          2015,
          2016,
          2017,
          2018,
          2019,
          2020,
          2021,
          2022
         ],
         "xaxis": "x",
         "y": [
          0.04557589814720246,
          0.03988585193626489,
          0.032490081500119825,
          0.07198987277222796,
          0.11039363073809266,
          0.1127654136136081,
          0.14914202620871111,
          0.04301241087871622,
          0.03961513749344326,
          0.23980334955564
         ],
         "yaxis": "y"
        },
        {
         "hovertemplate": "geo=CH<br>TIME_PERIOD=%{x}<br>per_capita=%{y}<extra></extra>",
         "legendgroup": "CH",
         "line": {
          "color": "#ab63fa",
          "dash": "solid"
         },
         "marker": {
          "symbol": "circle"
         },
         "mode": "lines",
         "name": "CH",
         "orientation": "v",
         "showlegend": true,
         "type": "scatter",
         "x": [
          2013,
          2014,
          2015,
          2016,
          2017,
          2018,
          2019,
          2020,
          2021,
          2022
         ],
         "xaxis": "x",
         "y": [
          null,
          null,
          null,
          null,
          null,
          null,
          null,
          null,
          null,
          null
         ],
         "yaxis": "y"
        },
        {
         "hovertemplate": "geo=CZ<br>TIME_PERIOD=%{x}<br>per_capita=%{y}<extra></extra>",
         "legendgroup": "CZ",
         "line": {
          "color": "#FFA15A",
          "dash": "solid"
         },
         "marker": {
          "symbol": "circle"
         },
         "mode": "lines",
         "name": "CZ",
         "orientation": "v",
         "showlegend": true,
         "type": "scatter",
         "x": [
          2013,
          2014,
          2015,
          2016,
          2017,
          2018,
          2019,
          2020,
          2021,
          2022
         ],
         "xaxis": "x",
         "y": [
          0.32321791534429267,
          0.32818326590673375,
          0.39570043484346346,
          0.4800147207041075,
          0.5474145509612603,
          0.6385452290303868,
          0.696632800615974,
          0.24593370132371242,
          0.28957098519691016,
          0.7199972386793699
         ],
         "yaxis": "y"
        },
        {
         "hovertemplate": "geo=DE<br>TIME_PERIOD=%{x}<br>per_capita=%{y}<extra></extra>",
         "legendgroup": "DE",
         "line": {
          "color": "#19d3f3",
          "dash": "solid"
         },
         "marker": {
          "symbol": "circle"
         },
         "mode": "lines",
         "name": "DE",
         "orientation": "v",
         "showlegend": true,
         "type": "scatter",
         "x": [
          2013,
          2014,
          2015,
          2016,
          2017,
          2018,
          2019,
          2020,
          2021
         ],
         "xaxis": "x",
         "y": [
          0.18811842161441422,
          0.1863993177549727,
          0.17260375767309297,
          0.16952703429885657,
          0.19208291913396355,
          0.18585050205906098,
          0.20504892042279418,
          0.1734708494123328,
          0.1120317061754207
         ],
         "yaxis": "y"
        },
        {
         "hovertemplate": "geo=DK<br>TIME_PERIOD=%{x}<br>per_capita=%{y}<extra></extra>",
         "legendgroup": "DK",
         "line": {
          "color": "#FF6692",
          "dash": "solid"
         },
         "marker": {
          "symbol": "circle"
         },
         "mode": "lines",
         "name": "DK",
         "orientation": "v",
         "showlegend": true,
         "type": "scatter",
         "x": [
          2013,
          2014,
          2015,
          2016,
          2017,
          2018,
          2019,
          2020,
          2021
         ],
         "xaxis": "x",
         "y": [
          2.2041441980442036,
          2.204102014577319,
          2.3041796274194017,
          2.2282181036018915,
          2.1983836887514525,
          2.265277563961745,
          2.3334156033992635,
          0.9249904212141212,
          1.103758618298318
         ],
         "yaxis": "y"
        },
        {
         "hovertemplate": "geo=EE<br>TIME_PERIOD=%{x}<br>per_capita=%{y}<extra></extra>",
         "legendgroup": "EE",
         "line": {
          "color": "#B6E880",
          "dash": "solid"
         },
         "marker": {
          "symbol": "circle"
         },
         "mode": "lines",
         "name": "EE",
         "orientation": "v",
         "showlegend": true,
         "type": "scatter",
         "x": [
          2013,
          2014,
          2015,
          2016,
          2017,
          2018,
          2019,
          2020,
          2021,
          2022
         ],
         "xaxis": "x",
         "y": [
          0.09241206083440516,
          0.07371834576032114,
          0.041829230266109955,
          0.078270807876323,
          0.08132954808894564,
          0.08111388313384625,
          0.08453978653703899,
          0.006019672289040584,
          0,
          0
         ],
         "yaxis": "y"
        },
        {
         "hovertemplate": "geo=EL<br>TIME_PERIOD=%{x}<br>per_capita=%{y}<extra></extra>",
         "legendgroup": "EL",
         "line": {
          "color": "#FF97FF",
          "dash": "solid"
         },
         "marker": {
          "symbol": "circle"
         },
         "mode": "lines",
         "name": "EL",
         "orientation": "v",
         "showlegend": true,
         "type": "scatter",
         "x": [
          2013,
          2014,
          2015,
          2016,
          2017,
          2018,
          2019,
          2020,
          2021,
          2022
         ],
         "xaxis": "x",
         "y": [
          0.0004543961234557916,
          0.003935275877024276,
          0.002947130866793553,
          0.0019473748830184088,
          0.0020430540202984846,
          0.0015826961041935396,
          0.0007459486364012305,
          0,
          0,
          0
         ],
         "yaxis": "y"
        },
        {
         "hovertemplate": "geo=ES<br>TIME_PERIOD=%{x}<br>per_capita=%{y}<extra></extra>",
         "legendgroup": "ES",
         "line": {
          "color": "#FECB52",
          "dash": "solid"
         },
         "marker": {
          "symbol": "circle"
         },
         "mode": "lines",
         "name": "ES",
         "orientation": "v",
         "showlegend": true,
         "type": "scatter",
         "x": [
          2013,
          2014,
          2015,
          2016,
          2017,
          2018,
          2019,
          2020,
          2021,
          2022
         ],
         "xaxis": "x",
         "y": [
          0.008260591265730166,
          0.021908230999785668,
          0.022368347260087365,
          0.022932767649784726,
          0.022996893227187124,
          0.02205388447669508,
          0.02258343407107305,
          0.00587332869467129,
          0.00820697700643446,
          0.01692918034748587
         ],
         "yaxis": "y"
        },
        {
         "hovertemplate": "geo=FI<br>TIME_PERIOD=%{x}<br>per_capita=%{y}<extra></extra>",
         "legendgroup": "FI",
         "line": {
          "color": "#636efa",
          "dash": "solid"
         },
         "marker": {
          "symbol": "circle"
         },
         "mode": "lines",
         "name": "FI",
         "orientation": "v",
         "showlegend": true,
         "type": "scatter",
         "x": [
          2013,
          2014,
          2015,
          2016,
          2017,
          2018,
          2019,
          2020,
          2021,
          2022
         ],
         "xaxis": "x",
         "y": [
          0.1101964112824909,
          0.09502372841558022,
          0.07821990502860783,
          0.08237190257955267,
          0.09957667194774332,
          0.1001246116090134,
          0.11580452703274549,
          0.02135633736642335,
          0.0007228315189961027,
          0.0055873564252165685
         ],
         "yaxis": "y"
        },
        {
         "hovertemplate": "geo=FR<br>TIME_PERIOD=%{x}<br>per_capita=%{y}<extra></extra>",
         "legendgroup": "FR",
         "line": {
          "color": "#EF553B",
          "dash": "solid"
         },
         "marker": {
          "symbol": "circle"
         },
         "mode": "lines",
         "name": "FR",
         "orientation": "v",
         "showlegend": true,
         "type": "scatter",
         "x": [
          2013,
          2014,
          2015,
          2016,
          2017,
          2018,
          2019,
          2020,
          2021,
          2022
         ],
         "xaxis": "x",
         "y": [
          0.6487312948787621,
          0.6497901187286881,
          0.6097069835810814,
          0.5713373241559809,
          0.5855876028756014,
          0.5874715544172681,
          0.5929503086414056,
          0.24477045647031198,
          0.24596240176247483,
          0.43176910040491706
         ],
         "yaxis": "y"
        },
        {
         "hovertemplate": "geo=HR<br>TIME_PERIOD=%{x}<br>per_capita=%{y}<extra></extra>",
         "legendgroup": "HR",
         "line": {
          "color": "#00cc96",
          "dash": "solid"
         },
         "marker": {
          "symbol": "circle"
         },
         "mode": "lines",
         "name": "HR",
         "orientation": "v",
         "showlegend": true,
         "type": "scatter",
         "x": [
          2013,
          2014,
          2015,
          2016,
          2017,
          2018,
          2019,
          2020,
          2021,
          2022
         ],
         "xaxis": "x",
         "y": [
          0.09525731205450783,
          0.08500500022487473,
          0.07526064322763079,
          0.07111036447879801,
          0.06980864967684614,
          0.07331640804161645,
          0.0740877758604363,
          0.03375910048014312,
          0.05252263490203414,
          0.09165511268530062
         ],
         "yaxis": "y"
        },
        {
         "hovertemplate": "geo=HU<br>TIME_PERIOD=%{x}<br>per_capita=%{y}<extra></extra>",
         "legendgroup": "HU",
         "line": {
          "color": "#ab63fa",
          "dash": "solid"
         },
         "marker": {
          "symbol": "circle"
         },
         "mode": "lines",
         "name": "HU",
         "orientation": "v",
         "showlegend": true,
         "type": "scatter",
         "x": [
          2013,
          2014,
          2015,
          2016,
          2017,
          2018,
          2019,
          2020,
          2021,
          2022
         ],
         "xaxis": "x",
         "y": [
          0.2829808418740598,
          0.26353182250529367,
          null,
          null,
          null,
          null,
          null,
          null,
          null,
          null
         ],
         "yaxis": "y"
        },
        {
         "hovertemplate": "geo=IE<br>TIME_PERIOD=%{x}<br>per_capita=%{y}<extra></extra>",
         "legendgroup": "IE",
         "line": {
          "color": "#FFA15A",
          "dash": "solid"
         },
         "marker": {
          "symbol": "circle"
         },
         "mode": "lines",
         "name": "IE",
         "orientation": "v",
         "showlegend": true,
         "type": "scatter",
         "x": [
          2013,
          2014,
          2015,
          2016,
          2017,
          2018,
          2019,
          2020,
          2021,
          2022
         ],
         "xaxis": "x",
         "y": [
          0.16681927701957078,
          0.15373496178834511,
          0.06691427084716246,
          0.07236125786717097,
          0.07838001263694817,
          0.08570732975708804,
          0.08319331843466062,
          0.02799912981121738,
          0.053931787075706644,
          0.10691691152813318
         ],
         "yaxis": "y"
        },
        {
         "hovertemplate": "geo=IT<br>TIME_PERIOD=%{x}<br>per_capita=%{y}<extra></extra>",
         "legendgroup": "IT",
         "line": {
          "color": "#19d3f3",
          "dash": "solid"
         },
         "marker": {
          "symbol": "circle"
         },
         "mode": "lines",
         "name": "IT",
         "orientation": "v",
         "showlegend": true,
         "type": "scatter",
         "x": [
          2013,
          2014,
          2015,
          2016,
          2017,
          2018,
          2019,
          2020,
          2021
         ],
         "xaxis": "x",
         "y": [
          0.05237476938807655,
          0.05174172347946293,
          0.0571422819133723,
          0.04898991191887468,
          0.04416610846988283,
          0.04292046092937711,
          0.04786290939317203,
          0.017152489555592575,
          0.03091014612969941
         ],
         "yaxis": "y"
        },
        {
         "hovertemplate": "geo=LT<br>TIME_PERIOD=%{x}<br>per_capita=%{y}<extra></extra>",
         "legendgroup": "LT",
         "line": {
          "color": "#FF6692",
          "dash": "solid"
         },
         "marker": {
          "symbol": "circle"
         },
         "mode": "lines",
         "name": "LT",
         "orientation": "v",
         "showlegend": true,
         "type": "scatter",
         "x": [
          2013,
          2014,
          2015,
          2016,
          2017,
          2018,
          2019,
          2020,
          2021,
          2022
         ],
         "xaxis": "x",
         "y": [
          0.18102866679789562,
          0.1542396190621144,
          0.12323441033361608,
          0.1163210155378566,
          0.11306560895311078,
          0.1303000710954213,
          0.1528174236199191,
          0.023979184636142716,
          0,
          0.0014255177658715366
         ],
         "yaxis": "y"
        },
        {
         "hovertemplate": "geo=LU<br>TIME_PERIOD=%{x}<br>per_capita=%{y}<extra></extra>",
         "legendgroup": "LU",
         "line": {
          "color": "#B6E880",
          "dash": "solid"
         },
         "marker": {
          "symbol": "circle"
         },
         "mode": "lines",
         "name": "LU",
         "orientation": "v",
         "showlegend": true,
         "type": "scatter",
         "x": [
          2013,
          2014,
          2015,
          2016,
          2017,
          2018,
          2019,
          2020,
          2021,
          2022
         ],
         "xaxis": "x",
         "y": [
          10.63423699209927,
          10.982753602095764,
          11.302797011499969,
          11.068132005435151,
          10.847059341388633,
          10.259051004559764,
          11.734924921892054,
          6.337564765184282,
          6.58390181652041,
          9.485634423463388
         ],
         "yaxis": "y"
        },
        {
         "hovertemplate": "geo=LV<br>TIME_PERIOD=%{x}<br>per_capita=%{y}<extra></extra>",
         "legendgroup": "LV",
         "line": {
          "color": "#FF97FF",
          "dash": "solid"
         },
         "marker": {
          "symbol": "circle"
         },
         "mode": "lines",
         "name": "LV",
         "orientation": "v",
         "showlegend": true,
         "type": "scatter",
         "x": [
          2013,
          2014,
          2015,
          2016,
          2017,
          2018,
          2019,
          2020,
          2021,
          2022
         ],
         "xaxis": "x",
         "y": [
          0.15317529924771164,
          0.12590758383346623,
          0.09012655984403574,
          0.07973764790190949,
          0.08563593140100384,
          0.08581565453305687,
          0.0937515625260421,
          0.013629155909680632,
          0.0026409989737077987,
          0.007996771436811911
         ],
         "yaxis": "y"
        },
        {
         "hovertemplate": "geo=MK<br>TIME_PERIOD=%{x}<br>per_capita=%{y}<extra></extra>",
         "legendgroup": "MK",
         "line": {
          "color": "#FECB52",
          "dash": "solid"
         },
         "marker": {
          "symbol": "circle"
         },
         "mode": "lines",
         "name": "MK",
         "orientation": "v",
         "showlegend": true,
         "type": "scatter",
         "x": [
          2013,
          2014,
          2015,
          2016,
          2017,
          2018,
          2019,
          2020,
          2021,
          2022
         ],
         "xaxis": "x",
         "y": [
          null,
          null,
          null,
          null,
          null,
          null,
          null,
          null,
          null,
          null
         ],
         "yaxis": "y"
        },
        {
         "hovertemplate": "geo=NL<br>TIME_PERIOD=%{x}<br>per_capita=%{y}<extra></extra>",
         "legendgroup": "NL",
         "line": {
          "color": "#636efa",
          "dash": "solid"
         },
         "marker": {
          "symbol": "circle"
         },
         "mode": "lines",
         "name": "NL",
         "orientation": "v",
         "showlegend": true,
         "type": "scatter",
         "x": [
          2013,
          2014,
          2015,
          2016,
          2017,
          2018,
          2019,
          2020,
          2021,
          2022
         ],
         "xaxis": "x",
         "y": [
          null,
          null,
          null,
          null,
          null,
          null,
          null,
          null,
          null,
          null
         ],
         "yaxis": "y"
        },
        {
         "hovertemplate": "geo=NO<br>TIME_PERIOD=%{x}<br>per_capita=%{y}<extra></extra>",
         "legendgroup": "NO",
         "line": {
          "color": "#EF553B",
          "dash": "solid"
         },
         "marker": {
          "symbol": "circle"
         },
         "mode": "lines",
         "name": "NO",
         "orientation": "v",
         "showlegend": true,
         "type": "scatter",
         "x": [
          2013,
          2014,
          2015,
          2016,
          2017,
          2018,
          2019,
          2020,
          2021,
          2022
         ],
         "xaxis": "x",
         "y": [
          null,
          null,
          null,
          null,
          null,
          null,
          null,
          null,
          null,
          null
         ],
         "yaxis": "y"
        },
        {
         "hovertemplate": "geo=PL<br>TIME_PERIOD=%{x}<br>per_capita=%{y}<extra></extra>",
         "legendgroup": "PL",
         "line": {
          "color": "#00cc96",
          "dash": "solid"
         },
         "marker": {
          "symbol": "circle"
         },
         "mode": "lines",
         "name": "PL",
         "orientation": "v",
         "showlegend": true,
         "type": "scatter",
         "x": [
          2013,
          2014,
          2015,
          2016,
          2017,
          2018,
          2019,
          2020,
          2021,
          2022
         ],
         "xaxis": "x",
         "y": [
          0.04839404416968024,
          0.03750869065314993,
          0.030100816158370708,
          0.030104925542459547,
          0.04076584593185826,
          0.0480031341333171,
          null,
          null,
          null,
          0.06296766470990643
         ],
         "yaxis": "y"
        },
        {
         "hovertemplate": "geo=PT<br>TIME_PERIOD=%{x}<br>per_capita=%{y}<extra></extra>",
         "legendgroup": "PT",
         "line": {
          "color": "#ab63fa",
          "dash": "solid"
         },
         "marker": {
          "symbol": "circle"
         },
         "mode": "lines",
         "name": "PT",
         "orientation": "v",
         "showlegend": true,
         "type": "scatter",
         "x": [
          2013,
          2014,
          2015,
          2016,
          2017,
          2018,
          2019,
          2020,
          2021,
          2022
         ],
         "xaxis": "x",
         "y": [
          0.012777372684208473,
          0.014960726654001836,
          0.021783506261601405,
          0.022627650408603147,
          0.024346304158280853,
          0.016810761452671342,
          0.017320875147920762,
          0.0023310229334777533,
          0.0025247003083630117,
          0.010722522184512003
         ],
         "yaxis": "y"
        },
        {
         "hovertemplate": "geo=RO<br>TIME_PERIOD=%{x}<br>per_capita=%{y}<extra></extra>",
         "legendgroup": "RO",
         "line": {
          "color": "#FFA15A",
          "dash": "solid"
         },
         "marker": {
          "symbol": "circle"
         },
         "mode": "lines",
         "name": "RO",
         "orientation": "v",
         "showlegend": true,
         "type": "scatter",
         "x": [
          2013,
          2014,
          2015,
          2016,
          2017,
          2018,
          2019,
          2020,
          2021,
          2022
         ],
         "xaxis": "x",
         "y": [
          0.011638318619601505,
          0.01127971584741422,
          0.010920630817909453,
          0.010272975218091975,
          0.009570377117146863,
          0.009010170793418745,
          0.010507633022770968,
          0.0040354210635942,
          0.00531204017652222,
          0.01585929965437755
         ],
         "yaxis": "y"
        },
        {
         "hovertemplate": "geo=SE<br>TIME_PERIOD=%{x}<br>per_capita=%{y}<extra></extra>",
         "legendgroup": "SE",
         "line": {
          "color": "#19d3f3",
          "dash": "solid"
         },
         "marker": {
          "symbol": "circle"
         },
         "mode": "lines",
         "name": "SE",
         "orientation": "v",
         "showlegend": true,
         "type": "scatter",
         "x": [
          2013,
          2014,
          2015,
          2016,
          2017,
          2018,
          2019,
          2020,
          2021,
          2022
         ],
         "xaxis": "x",
         "y": [
          1.2825593589212436,
          1.270935494787692,
          1.3017890494395659,
          1.2182498517665739,
          1.2154891475898368,
          1.1027404285391595,
          1.219137288328608,
          0.4630315943053117,
          0.536067237707378,
          null
         ],
         "yaxis": "y"
        },
        {
         "hovertemplate": "geo=SI<br>TIME_PERIOD=%{x}<br>per_capita=%{y}<extra></extra>",
         "legendgroup": "SI",
         "line": {
          "color": "#FF6692",
          "dash": "solid"
         },
         "marker": {
          "symbol": "circle"
         },
         "mode": "lines",
         "name": "SI",
         "orientation": "v",
         "showlegend": true,
         "type": "scatter",
         "x": [
          2013,
          2014,
          2015,
          2016,
          2017,
          2018,
          2019,
          2020,
          2021,
          2022
         ],
         "xaxis": "x",
         "y": [
          0.2098288292182759,
          0.18485409383892465,
          0.1662728794875499,
          0.20298538698994473,
          0.19846119962534398,
          0.20707539866852454,
          0.203276646540837,
          0.06632119210195714,
          0.068279549753269,
          0.17369185356732694
         ],
         "yaxis": "y"
        },
        {
         "hovertemplate": "geo=SK<br>TIME_PERIOD=%{x}<br>per_capita=%{y}<extra></extra>",
         "legendgroup": "SK",
         "line": {
          "color": "#B6E880",
          "dash": "solid"
         },
         "marker": {
          "symbol": "circle"
         },
         "mode": "lines",
         "name": "SK",
         "orientation": "v",
         "showlegend": true,
         "type": "scatter",
         "x": [
          2013,
          2014,
          2015,
          2016,
          2017,
          2018,
          2019,
          2020,
          2021,
          2022
         ],
         "xaxis": "x",
         "y": [
          0.6170950293078555,
          0.6262983643309787,
          0.6088890421922661,
          0.6160790173401457,
          0.6332627030161666,
          0.7137450579814518,
          0.7676471230387524,
          0.26402226654962474,
          0.4190644276757621,
          0.8401549152926595
         ],
         "yaxis": "y"
        },
        {
         "hovertemplate": "geo=TR<br>TIME_PERIOD=%{x}<br>per_capita=%{y}<extra></extra>",
         "legendgroup": "TR",
         "line": {
          "color": "#FF97FF",
          "dash": "solid"
         },
         "marker": {
          "symbol": "circle"
         },
         "mode": "lines",
         "name": "TR",
         "orientation": "v",
         "showlegend": true,
         "type": "scatter",
         "x": [
          2013,
          2014,
          2015,
          2016,
          2017,
          2018,
          2019,
          2020,
          2021,
          2022
         ],
         "xaxis": "x",
         "y": [
          null,
          null,
          null,
          null,
          null,
          null,
          null,
          null,
          null,
          null
         ],
         "yaxis": "y"
        },
        {
         "hovertemplate": "geo=UK<br>TIME_PERIOD=%{x}<br>per_capita=%{y}<extra></extra>",
         "legendgroup": "UK",
         "line": {
          "color": "#FECB52",
          "dash": "solid"
         },
         "marker": {
          "symbol": "circle"
         },
         "mode": "lines",
         "name": "UK",
         "orientation": "v",
         "showlegend": true,
         "type": "scatter",
         "x": [
          2013,
          2014,
          2015,
          2016,
          2017,
          2018,
          2019
         ],
         "xaxis": "x",
         "y": [
          null,
          null,
          null,
          null,
          null,
          null,
          null
         ],
         "yaxis": "y"
        }
       ],
       "layout": {
        "legend": {
         "title": {
          "text": "geo"
         },
         "tracegroupgap": 0
        },
        "template": {
         "data": {
          "bar": [
           {
            "error_x": {
             "color": "#2a3f5f"
            },
            "error_y": {
             "color": "#2a3f5f"
            },
            "marker": {
             "line": {
              "color": "#E5ECF6",
              "width": 0.5
             },
             "pattern": {
              "fillmode": "overlay",
              "size": 10,
              "solidity": 0.2
             }
            },
            "type": "bar"
           }
          ],
          "barpolar": [
           {
            "marker": {
             "line": {
              "color": "#E5ECF6",
              "width": 0.5
             },
             "pattern": {
              "fillmode": "overlay",
              "size": 10,
              "solidity": 0.2
             }
            },
            "type": "barpolar"
           }
          ],
          "carpet": [
           {
            "aaxis": {
             "endlinecolor": "#2a3f5f",
             "gridcolor": "white",
             "linecolor": "white",
             "minorgridcolor": "white",
             "startlinecolor": "#2a3f5f"
            },
            "baxis": {
             "endlinecolor": "#2a3f5f",
             "gridcolor": "white",
             "linecolor": "white",
             "minorgridcolor": "white",
             "startlinecolor": "#2a3f5f"
            },
            "type": "carpet"
           }
          ],
          "choropleth": [
           {
            "colorbar": {
             "outlinewidth": 0,
             "ticks": ""
            },
            "type": "choropleth"
           }
          ],
          "contour": [
           {
            "colorbar": {
             "outlinewidth": 0,
             "ticks": ""
            },
            "colorscale": [
             [
              0,
              "#0d0887"
             ],
             [
              0.1111111111111111,
              "#46039f"
             ],
             [
              0.2222222222222222,
              "#7201a8"
             ],
             [
              0.3333333333333333,
              "#9c179e"
             ],
             [
              0.4444444444444444,
              "#bd3786"
             ],
             [
              0.5555555555555556,
              "#d8576b"
             ],
             [
              0.6666666666666666,
              "#ed7953"
             ],
             [
              0.7777777777777778,
              "#fb9f3a"
             ],
             [
              0.8888888888888888,
              "#fdca26"
             ],
             [
              1,
              "#f0f921"
             ]
            ],
            "type": "contour"
           }
          ],
          "contourcarpet": [
           {
            "colorbar": {
             "outlinewidth": 0,
             "ticks": ""
            },
            "type": "contourcarpet"
           }
          ],
          "heatmap": [
           {
            "colorbar": {
             "outlinewidth": 0,
             "ticks": ""
            },
            "colorscale": [
             [
              0,
              "#0d0887"
             ],
             [
              0.1111111111111111,
              "#46039f"
             ],
             [
              0.2222222222222222,
              "#7201a8"
             ],
             [
              0.3333333333333333,
              "#9c179e"
             ],
             [
              0.4444444444444444,
              "#bd3786"
             ],
             [
              0.5555555555555556,
              "#d8576b"
             ],
             [
              0.6666666666666666,
              "#ed7953"
             ],
             [
              0.7777777777777778,
              "#fb9f3a"
             ],
             [
              0.8888888888888888,
              "#fdca26"
             ],
             [
              1,
              "#f0f921"
             ]
            ],
            "type": "heatmap"
           }
          ],
          "heatmapgl": [
           {
            "colorbar": {
             "outlinewidth": 0,
             "ticks": ""
            },
            "colorscale": [
             [
              0,
              "#0d0887"
             ],
             [
              0.1111111111111111,
              "#46039f"
             ],
             [
              0.2222222222222222,
              "#7201a8"
             ],
             [
              0.3333333333333333,
              "#9c179e"
             ],
             [
              0.4444444444444444,
              "#bd3786"
             ],
             [
              0.5555555555555556,
              "#d8576b"
             ],
             [
              0.6666666666666666,
              "#ed7953"
             ],
             [
              0.7777777777777778,
              "#fb9f3a"
             ],
             [
              0.8888888888888888,
              "#fdca26"
             ],
             [
              1,
              "#f0f921"
             ]
            ],
            "type": "heatmapgl"
           }
          ],
          "histogram": [
           {
            "marker": {
             "pattern": {
              "fillmode": "overlay",
              "size": 10,
              "solidity": 0.2
             }
            },
            "type": "histogram"
           }
          ],
          "histogram2d": [
           {
            "colorbar": {
             "outlinewidth": 0,
             "ticks": ""
            },
            "colorscale": [
             [
              0,
              "#0d0887"
             ],
             [
              0.1111111111111111,
              "#46039f"
             ],
             [
              0.2222222222222222,
              "#7201a8"
             ],
             [
              0.3333333333333333,
              "#9c179e"
             ],
             [
              0.4444444444444444,
              "#bd3786"
             ],
             [
              0.5555555555555556,
              "#d8576b"
             ],
             [
              0.6666666666666666,
              "#ed7953"
             ],
             [
              0.7777777777777778,
              "#fb9f3a"
             ],
             [
              0.8888888888888888,
              "#fdca26"
             ],
             [
              1,
              "#f0f921"
             ]
            ],
            "type": "histogram2d"
           }
          ],
          "histogram2dcontour": [
           {
            "colorbar": {
             "outlinewidth": 0,
             "ticks": ""
            },
            "colorscale": [
             [
              0,
              "#0d0887"
             ],
             [
              0.1111111111111111,
              "#46039f"
             ],
             [
              0.2222222222222222,
              "#7201a8"
             ],
             [
              0.3333333333333333,
              "#9c179e"
             ],
             [
              0.4444444444444444,
              "#bd3786"
             ],
             [
              0.5555555555555556,
              "#d8576b"
             ],
             [
              0.6666666666666666,
              "#ed7953"
             ],
             [
              0.7777777777777778,
              "#fb9f3a"
             ],
             [
              0.8888888888888888,
              "#fdca26"
             ],
             [
              1,
              "#f0f921"
             ]
            ],
            "type": "histogram2dcontour"
           }
          ],
          "mesh3d": [
           {
            "colorbar": {
             "outlinewidth": 0,
             "ticks": ""
            },
            "type": "mesh3d"
           }
          ],
          "parcoords": [
           {
            "line": {
             "colorbar": {
              "outlinewidth": 0,
              "ticks": ""
             }
            },
            "type": "parcoords"
           }
          ],
          "pie": [
           {
            "automargin": true,
            "type": "pie"
           }
          ],
          "scatter": [
           {
            "fillpattern": {
             "fillmode": "overlay",
             "size": 10,
             "solidity": 0.2
            },
            "type": "scatter"
           }
          ],
          "scatter3d": [
           {
            "line": {
             "colorbar": {
              "outlinewidth": 0,
              "ticks": ""
             }
            },
            "marker": {
             "colorbar": {
              "outlinewidth": 0,
              "ticks": ""
             }
            },
            "type": "scatter3d"
           }
          ],
          "scattercarpet": [
           {
            "marker": {
             "colorbar": {
              "outlinewidth": 0,
              "ticks": ""
             }
            },
            "type": "scattercarpet"
           }
          ],
          "scattergeo": [
           {
            "marker": {
             "colorbar": {
              "outlinewidth": 0,
              "ticks": ""
             }
            },
            "type": "scattergeo"
           }
          ],
          "scattergl": [
           {
            "marker": {
             "colorbar": {
              "outlinewidth": 0,
              "ticks": ""
             }
            },
            "type": "scattergl"
           }
          ],
          "scattermapbox": [
           {
            "marker": {
             "colorbar": {
              "outlinewidth": 0,
              "ticks": ""
             }
            },
            "type": "scattermapbox"
           }
          ],
          "scatterpolar": [
           {
            "marker": {
             "colorbar": {
              "outlinewidth": 0,
              "ticks": ""
             }
            },
            "type": "scatterpolar"
           }
          ],
          "scatterpolargl": [
           {
            "marker": {
             "colorbar": {
              "outlinewidth": 0,
              "ticks": ""
             }
            },
            "type": "scatterpolargl"
           }
          ],
          "scatterternary": [
           {
            "marker": {
             "colorbar": {
              "outlinewidth": 0,
              "ticks": ""
             }
            },
            "type": "scatterternary"
           }
          ],
          "surface": [
           {
            "colorbar": {
             "outlinewidth": 0,
             "ticks": ""
            },
            "colorscale": [
             [
              0,
              "#0d0887"
             ],
             [
              0.1111111111111111,
              "#46039f"
             ],
             [
              0.2222222222222222,
              "#7201a8"
             ],
             [
              0.3333333333333333,
              "#9c179e"
             ],
             [
              0.4444444444444444,
              "#bd3786"
             ],
             [
              0.5555555555555556,
              "#d8576b"
             ],
             [
              0.6666666666666666,
              "#ed7953"
             ],
             [
              0.7777777777777778,
              "#fb9f3a"
             ],
             [
              0.8888888888888888,
              "#fdca26"
             ],
             [
              1,
              "#f0f921"
             ]
            ],
            "type": "surface"
           }
          ],
          "table": [
           {
            "cells": {
             "fill": {
              "color": "#EBF0F8"
             },
             "line": {
              "color": "white"
             }
            },
            "header": {
             "fill": {
              "color": "#C8D4E3"
             },
             "line": {
              "color": "white"
             }
            },
            "type": "table"
           }
          ]
         },
         "layout": {
          "annotationdefaults": {
           "arrowcolor": "#2a3f5f",
           "arrowhead": 0,
           "arrowwidth": 1
          },
          "autotypenumbers": "strict",
          "coloraxis": {
           "colorbar": {
            "outlinewidth": 0,
            "ticks": ""
           }
          },
          "colorscale": {
           "diverging": [
            [
             0,
             "#8e0152"
            ],
            [
             0.1,
             "#c51b7d"
            ],
            [
             0.2,
             "#de77ae"
            ],
            [
             0.3,
             "#f1b6da"
            ],
            [
             0.4,
             "#fde0ef"
            ],
            [
             0.5,
             "#f7f7f7"
            ],
            [
             0.6,
             "#e6f5d0"
            ],
            [
             0.7,
             "#b8e186"
            ],
            [
             0.8,
             "#7fbc41"
            ],
            [
             0.9,
             "#4d9221"
            ],
            [
             1,
             "#276419"
            ]
           ],
           "sequential": [
            [
             0,
             "#0d0887"
            ],
            [
             0.1111111111111111,
             "#46039f"
            ],
            [
             0.2222222222222222,
             "#7201a8"
            ],
            [
             0.3333333333333333,
             "#9c179e"
            ],
            [
             0.4444444444444444,
             "#bd3786"
            ],
            [
             0.5555555555555556,
             "#d8576b"
            ],
            [
             0.6666666666666666,
             "#ed7953"
            ],
            [
             0.7777777777777778,
             "#fb9f3a"
            ],
            [
             0.8888888888888888,
             "#fdca26"
            ],
            [
             1,
             "#f0f921"
            ]
           ],
           "sequentialminus": [
            [
             0,
             "#0d0887"
            ],
            [
             0.1111111111111111,
             "#46039f"
            ],
            [
             0.2222222222222222,
             "#7201a8"
            ],
            [
             0.3333333333333333,
             "#9c179e"
            ],
            [
             0.4444444444444444,
             "#bd3786"
            ],
            [
             0.5555555555555556,
             "#d8576b"
            ],
            [
             0.6666666666666666,
             "#ed7953"
            ],
            [
             0.7777777777777778,
             "#fb9f3a"
            ],
            [
             0.8888888888888888,
             "#fdca26"
            ],
            [
             1,
             "#f0f921"
            ]
           ]
          },
          "colorway": [
           "#636efa",
           "#EF553B",
           "#00cc96",
           "#ab63fa",
           "#FFA15A",
           "#19d3f3",
           "#FF6692",
           "#B6E880",
           "#FF97FF",
           "#FECB52"
          ],
          "font": {
           "color": "#2a3f5f"
          },
          "geo": {
           "bgcolor": "white",
           "lakecolor": "white",
           "landcolor": "#E5ECF6",
           "showlakes": true,
           "showland": true,
           "subunitcolor": "white"
          },
          "hoverlabel": {
           "align": "left"
          },
          "hovermode": "closest",
          "mapbox": {
           "style": "light"
          },
          "paper_bgcolor": "white",
          "plot_bgcolor": "#E5ECF6",
          "polar": {
           "angularaxis": {
            "gridcolor": "white",
            "linecolor": "white",
            "ticks": ""
           },
           "bgcolor": "#E5ECF6",
           "radialaxis": {
            "gridcolor": "white",
            "linecolor": "white",
            "ticks": ""
           }
          },
          "scene": {
           "xaxis": {
            "backgroundcolor": "#E5ECF6",
            "gridcolor": "white",
            "gridwidth": 2,
            "linecolor": "white",
            "showbackground": true,
            "ticks": "",
            "zerolinecolor": "white"
           },
           "yaxis": {
            "backgroundcolor": "#E5ECF6",
            "gridcolor": "white",
            "gridwidth": 2,
            "linecolor": "white",
            "showbackground": true,
            "ticks": "",
            "zerolinecolor": "white"
           },
           "zaxis": {
            "backgroundcolor": "#E5ECF6",
            "gridcolor": "white",
            "gridwidth": 2,
            "linecolor": "white",
            "showbackground": true,
            "ticks": "",
            "zerolinecolor": "white"
           }
          },
          "shapedefaults": {
           "line": {
            "color": "#2a3f5f"
           }
          },
          "ternary": {
           "aaxis": {
            "gridcolor": "white",
            "linecolor": "white",
            "ticks": ""
           },
           "baxis": {
            "gridcolor": "white",
            "linecolor": "white",
            "ticks": ""
           },
           "bgcolor": "#E5ECF6",
           "caxis": {
            "gridcolor": "white",
            "linecolor": "white",
            "ticks": ""
           }
          },
          "title": {
           "x": 0.05
          },
          "xaxis": {
           "automargin": true,
           "gridcolor": "white",
           "linecolor": "white",
           "ticks": "",
           "title": {
            "standoff": 15
           },
           "zerolinecolor": "white",
           "zerolinewidth": 2
          },
          "yaxis": {
           "automargin": true,
           "gridcolor": "white",
           "linecolor": "white",
           "ticks": "",
           "title": {
            "standoff": 15
           },
           "zerolinecolor": "white",
           "zerolinewidth": 2
          }
         }
        },
        "title": {
         "text": "Per Capita Train Passengers Over Time"
        },
        "xaxis": {
         "anchor": "y",
         "domain": [
          0,
          1
         ],
         "title": {
          "text": "TIME_PERIOD"
         }
        },
        "yaxis": {
         "anchor": "x",
         "domain": [
          0,
          1
         ],
         "title": {
          "text": "per_capita"
         }
        }
       }
      }
     },
     "metadata": {},
     "output_type": "display_data"
    }
   ],
   "source": [
    "fig2 = px.line(df_air_pas, x='TIME_PERIOD', y='per_capita', color='geo', title='Per Capita Air Passengers Over Time')\n",
    "fig2.show()\n",
    "\n",
    "fig2 = px.line(df_train_pas, x='TIME_PERIOD', y='per_capita', color='geo', title='Per Capita Train Passengers Over Time')\n",
    "fig2.show()\n"
   ]
  },
  {
   "cell_type": "code",
   "execution_count": 77,
   "metadata": {},
   "outputs": [
    {
     "data": {
      "application/vnd.plotly.v1+json": {
       "config": {
        "plotlyServerURL": "https://plot.ly"
       },
       "data": [
        {
         "mode": "lines",
         "name": "Air Passengers",
         "type": "scatter",
         "x": [
          2011,
          2012,
          2013,
          2014,
          2015,
          2016,
          2017,
          2018,
          2019,
          2020,
          2021,
          2022,
          2021,
          2011,
          2012,
          2013,
          2014,
          2015,
          2016,
          2017,
          2018,
          2019,
          2020,
          2021,
          2022,
          2011,
          2012,
          2013,
          2014,
          2015,
          2016,
          2017,
          2018,
          2019,
          2020,
          2021,
          2022,
          2011,
          2012,
          2013,
          2014,
          2015,
          2016,
          2017,
          2018,
          2019,
          2020,
          2021,
          2022,
          2011,
          2012,
          2013,
          2014,
          2015,
          2016,
          2017,
          2018,
          2019,
          2020,
          2021,
          2022,
          2011,
          2012,
          2013,
          2014,
          2015,
          2016,
          2017,
          2018,
          2019,
          2020,
          2021,
          2022,
          2011,
          2012,
          2013,
          2014,
          2015,
          2016,
          2017,
          2018,
          2019,
          2020,
          2021,
          2022,
          2011,
          2012,
          2013,
          2014,
          2015,
          2016,
          2017,
          2018,
          2019,
          2020,
          2021,
          2022,
          2011,
          2012,
          2013,
          2014,
          2015,
          2016,
          2017,
          2018,
          2019,
          2020,
          2021,
          2022,
          2011,
          2012,
          2013,
          2014,
          2015,
          2016,
          2017,
          2018,
          2019,
          2020,
          2021,
          2022,
          2011,
          2012,
          2013,
          2014,
          2015,
          2016,
          2017,
          2018,
          2019,
          2020,
          2021,
          2022,
          2011,
          2012,
          2013,
          2014,
          2015,
          2016,
          2017,
          2018,
          2019,
          2020,
          2021,
          2022,
          2011,
          2012,
          2013,
          2014,
          2015,
          2016,
          2017,
          2018,
          2019,
          2020,
          2021,
          2022,
          2011,
          2012,
          2013,
          2014,
          2015,
          2016,
          2017,
          2018,
          2019,
          2020,
          2021,
          2022,
          2011,
          2012,
          2013,
          2014,
          2015,
          2016,
          2017,
          2018,
          2019,
          2020,
          2021,
          2022,
          2011,
          2012,
          2013,
          2014,
          2015,
          2016,
          2017,
          2018,
          2019,
          2020,
          2021,
          2022,
          2011,
          2012,
          2013,
          2014,
          2015,
          2016,
          2017,
          2018,
          2019,
          2020,
          2021,
          2022,
          2011,
          2012,
          2013,
          2014,
          2015,
          2016,
          2017,
          2018,
          2019,
          2020,
          2021,
          2022,
          2011,
          2012,
          2013,
          2014,
          2015,
          2016,
          2017,
          2018,
          2019,
          2020,
          2021,
          2022,
          2011,
          2012,
          2013,
          2014,
          2015,
          2016,
          2017,
          2018,
          2019,
          2020,
          2021,
          2022,
          2011,
          2012,
          2013,
          2014,
          2015,
          2016,
          2017,
          2018,
          2019,
          2020,
          2021,
          2022,
          2011,
          2012,
          2013,
          2014,
          2015,
          2016,
          2017,
          2018,
          2019,
          2020,
          2021,
          2022,
          2016,
          2017,
          2018,
          2019,
          2020,
          2021,
          2022,
          2015,
          2016,
          2017,
          2018,
          2019,
          2020,
          2021,
          2022,
          2011,
          2012,
          2013,
          2014,
          2015,
          2016,
          2017,
          2018,
          2019,
          2020,
          2021,
          2022,
          2011,
          2012,
          2013,
          2014,
          2015,
          2016,
          2017,
          2018,
          2019,
          2020,
          2021,
          2022,
          2011,
          2012,
          2013,
          2014,
          2015,
          2016,
          2017,
          2018,
          2019,
          2020,
          2021,
          2022,
          2011,
          2012,
          2013,
          2014,
          2015,
          2016,
          2017,
          2018,
          2019,
          2020,
          2021,
          2022,
          2011,
          2012,
          2013,
          2014,
          2015,
          2016,
          2017,
          2018,
          2019,
          2020,
          2021,
          2022,
          2011,
          2012,
          2013,
          2014,
          2015,
          2016,
          2017,
          2018,
          2019,
          2020,
          2021,
          2022,
          2016,
          2017,
          2018,
          2019,
          2020,
          2021,
          2011,
          2012,
          2013,
          2014,
          2015,
          2016,
          2017,
          2018,
          2019,
          2020,
          2021,
          2022,
          2011,
          2012,
          2013,
          2014,
          2015,
          2016,
          2017,
          2018,
          2019,
          2020,
          2021,
          2022,
          2011,
          2012,
          2013,
          2014,
          2015,
          2016,
          2017,
          2018,
          2019,
          2020,
          2021,
          2022,
          2011,
          2012,
          2013,
          2014,
          2015,
          2016,
          2017,
          2018,
          2019
         ],
         "xaxis": "x",
         "y": [
          null,
          null,
          3.046633995357235,
          3.100533558319403,
          3.1163934319294073,
          3.1241424745855713,
          3.2289655659810106,
          3.529525574322337,
          4.023602360371496,
          1.0300376449377289,
          1.2432533004711697,
          2.938121016437484,
          null,
          null,
          null,
          2.369365110746353,
          2.5737116352617515,
          2.7550134489912765,
          2.66249849594872,
          2.929994088124212,
          3.0272438983456635,
          3.088920545633943,
          0.8215124574308914,
          1.1683506902389291,
          2.399276685084376,
          null,
          null,
          0.9718225636936905,
          1.0379564256038463,
          1.0567536465951088,
          1.3033964961760098,
          1.561936247959865,
          1.7216532572750713,
          1.6732861059774096,
          0.5364348206612634,
          0.7298260635218609,
          1.287846634645121,
          null,
          null,
          null,
          null,
          null,
          null,
          null,
          null,
          null,
          null,
          null,
          null,
          null,
          null,
          8.097488329764701,
          8.541428904428905,
          8.961883476897503,
          10.564206389341745,
          11.97811072037735,
          12.643654048199798,
          12.856973235498613,
          2.5569416838869152,
          5.691589463028748,
          9.520750963021095,
          null,
          null,
          1.1308169121230491,
          1.1491049776459634,
          1.2024742189779636,
          1.2954865824704802,
          1.535667872220153,
          1.6812562234597277,
          1.7622009803000995,
          0.35733998482691925,
          0.4530952174955378,
          1.0966027673871679,
          null,
          null,
          2.2450916280025024,
          2.3084272685400555,
          2.3884521275565294,
          2.4421736848579196,
          2.5737407732246953,
          2.6865085761364598,
          2.731465136871389,
          0.6949412487888333,
          0.8850621437444958,
          1.8657857880817699,
          null,
          null,
          4.901204042103099,
          5.156197137670632,
          5.3174947855148185,
          5.7406169800487135,
          5.785797620325325,
          6.00242147377962,
          5.990293108208445,
          1.4870352786125762,
          1.8523516513999465,
          4.537317780781895,
          null,
          null,
          1.4835658026896454,
          1.5350181141935175,
          1.643491752036323,
          1.683193965700668,
          2.002945345783595,
          2.270830916973497,
          2.45920426925922,
          0.6454872021767135,
          0.9720863895680522,
          2.0508884243532792,
          null,
          null,
          3.092068742863141,
          3.5799875480549805,
          3.876987678598433,
          4.223334132066142,
          4.659159433713716,
          5.051484266371478,
          5.22989502917545,
          1.6178650780211716,
          3.0196338819429305,
          5.534907802093772,
          null,
          null,
          3.3755423795082553,
          3.555075562004712,
          3.760046041335371,
          4.174668899822974,
          4.5096281974063634,
          4.728220572793604,
          4.863158706574294,
          1.2210883810473683,
          1.938834835009698,
          4.2074431976982725,
          null,
          null,
          1.6908495407573738,
          1.7638993428453644,
          1.8475552505378743,
          1.9597352426916888,
          2.1072545975851966,
          2.232802117687761,
          2.3185756005260063,
          0.618702852479298,
          0.8361251900904906,
          1.835176093128492,
          null,
          null,
          3.0525863539987843,
          3.15007897242294,
          3.1944508460085825,
          3.2985124946512934,
          3.644169486037188,
          4.021949418932621,
          4.220418784690388,
          0.9825040920914225,
          0.8230334961932981,
          2.489541640314471,
          null,
          null,
          2.0238135162388615,
          2.0608879517842853,
          2.1196431534893847,
          2.1801337010072768,
          2.306494677368966,
          2.416832835458551,
          2.5116511691480183,
          0.7534736816649549,
          0.9760131157481238,
          2.0120386743119485,
          null,
          null,
          1.3426229546659658,
          1.4459790868861773,
          1.5553151527601723,
          1.783835230126741,
          2.1286951343130456,
          2.3703107032456274,
          2.606132946833925,
          0.47892261650277895,
          1.1045609219208914,
          2.4377466305742295,
          null,
          null,
          0.8519014112508904,
          0.9167270825771853,
          1.0378243939392249,
          1.1861435117392478,
          1.362586974452111,
          1.552047166138409,
          1.708908930090959,
          0.40561712001175904,
          0.4794448991303054,
          1.2791308915978,
          null,
          null,
          5.337271049219496,
          5.67306287479635,
          6.316241119695948,
          6.896685685123583,
          7.163258250854917,
          7.524235093135299,
          7.737694321648206,
          1.6655044677748145,
          1.8171734390343095,
          6.404321024252154,
          null,
          null,
          null,
          null,
          null,
          null,
          null,
          null,
          null,
          null,
          null,
          null,
          null,
          null,
          1.9314512282913827,
          1.9934068540722827,
          2.0999084769473164,
          2.216707485274468,
          2.3817073254260706,
          2.535422797044103,
          2.686005940183266,
          0.677470605696491,
          1.007983798694221,
          2.2433579643129042,
          null,
          null,
          1.1717595279795283,
          1.2903503073920866,
          1.447110529627264,
          1.6574224924685603,
          1.8420919384923087,
          2.226556934544863,
          2.327937243932397,
          0.645827442924172,
          0.8815755022033995,
          1.9008887390511326,
          null,
          null,
          4.03942171797579,
          4.42796900014554,
          4.710388696847722,
          5.178736969608624,
          6.018162517966976,
          6.6258652336774615,
          7.111274910652328,
          2.2780574597353813,
          3.1555196697808516,
          6.286436100570657,
          null,
          null,
          2.362979506627302,
          2.399379855186293,
          2.5909402163843036,
          2.734523912914299,
          3.1166628036486035,
          3.637896193041798,
          4.055133210553509,
          1.0458453352903403,
          1.233945499288779,
          2.861974658764435,
          null,
          null,
          null,
          null,
          null,
          null,
          null,
          null,
          null,
          null,
          null,
          null,
          null,
          null,
          null,
          null,
          null,
          9.543060621193868,
          9.990200827154514,
          10.506371519999272,
          11.279477814904032,
          13.051857822232167,
          14.306921784902702,
          14.827724750232495,
          3.4056890882378092,
          4.9368571982174,
          11.251292298419681,
          null,
          null,
          3.4611884389205327,
          3.622434851525813,
          3.820601434518257,
          4.141439308986567,
          4.463324225432803,
          4.635572644892488,
          4.698052379207394,
          1.3554311525694116,
          1.6641998487589564,
          3.4842199888668266,
          null,
          null,
          null,
          null,
          null,
          null,
          null,
          null,
          null,
          null,
          null,
          null,
          null,
          null,
          0.6114801339427339,
          0.6763774895670077,
          0.7606097088709052,
          0.8498612842466245,
          0.9924078615511815,
          1.1524846282668102,
          1.2362205622275222,
          0.36422914106060733,
          0.49930791492315235,
          1.0449695621319954,
          null,
          null,
          2.8314415670246142,
          3.122631733753538,
          3.4704994456772367,
          3.9579090890630124,
          4.624154366044064,
          4.957580812877082,
          5.352723955753143,
          1.6073367587067835,
          2.170047110907754,
          5.514054425204225,
          null,
          null,
          0.500344454271248,
          0.5468149065305093,
          0.6331304159346195,
          0.7668659100932488,
          0.9129922909085133,
          1.014137828275462,
          1.110814682542258,
          0.3431891249748174,
          0.5408184458199504,
          1.0259155660338963,
          null,
          null,
          null,
          null,
          null,
          null,
          null,
          null,
          3.2904538592049954,
          3.3972529835568444,
          3.4892812460405924,
          3.6496290687550332,
          3.847486176549774,
          3.8482376211952243,
          3.676840936894103,
          0.902212220102872,
          1.0403412755876,
          2.3955253596185195,
          null,
          null,
          0.6148013838988431,
          0.6341941259094118,
          0.6961176494541111,
          0.6802442413191047,
          0.8142393490472652,
          0.8759903816380245,
          0.8261004330801747,
          0.13731206411112187,
          0.1988385838252385,
          0.4597666075038677,
          null,
          null,
          0.28778344048867865,
          0.30858673152202876,
          0.3585188852442446,
          0.3977443362379779,
          0.4420422041442463,
          0.5133258131365834,
          0.5210215871397824,
          0.09172144533227504,
          0.11760142027674736,
          0.3574371558235285,
          null,
          null,
          null,
          null,
          null,
          null,
          null,
          null,
          null
         ],
         "yaxis": "y"
        },
        {
         "mode": "markers",
         "name": "Train Passengers",
         "type": "scatter",
         "x": [
          2013,
          2014,
          2015,
          2016,
          2017,
          2018,
          2019,
          2020,
          2021,
          2022,
          2013,
          2014,
          2015,
          2016,
          2017,
          2018,
          2019,
          2020,
          2021,
          2022,
          2013,
          2014,
          2015,
          2016,
          2017,
          2018,
          2019,
          2020,
          2021,
          2022,
          2013,
          2014,
          2015,
          2016,
          2017,
          2018,
          2019,
          2020,
          2021,
          2022,
          2013,
          2014,
          2015,
          2016,
          2017,
          2018,
          2019,
          2020,
          2021,
          2022,
          2013,
          2014,
          2015,
          2016,
          2017,
          2018,
          2019,
          2020,
          2021,
          2013,
          2014,
          2015,
          2016,
          2017,
          2018,
          2019,
          2020,
          2021,
          2013,
          2014,
          2015,
          2016,
          2017,
          2018,
          2019,
          2020,
          2021,
          2022,
          2013,
          2014,
          2015,
          2016,
          2017,
          2018,
          2019,
          2020,
          2021,
          2022,
          2013,
          2014,
          2015,
          2016,
          2017,
          2018,
          2019,
          2020,
          2021,
          2022,
          2013,
          2014,
          2015,
          2016,
          2017,
          2018,
          2019,
          2020,
          2021,
          2022,
          2013,
          2014,
          2015,
          2016,
          2017,
          2018,
          2019,
          2020,
          2021,
          2022,
          2013,
          2014,
          2015,
          2016,
          2017,
          2018,
          2019,
          2020,
          2021,
          2022,
          2013,
          2014,
          2015,
          2016,
          2017,
          2018,
          2019,
          2020,
          2021,
          2022,
          2013,
          2014,
          2015,
          2016,
          2017,
          2018,
          2019,
          2020,
          2021,
          2022,
          2013,
          2014,
          2015,
          2016,
          2017,
          2018,
          2019,
          2020,
          2021,
          2013,
          2014,
          2015,
          2016,
          2017,
          2018,
          2019,
          2020,
          2021,
          2022,
          2013,
          2014,
          2015,
          2016,
          2017,
          2018,
          2019,
          2020,
          2021,
          2022,
          2013,
          2014,
          2015,
          2016,
          2017,
          2018,
          2019,
          2020,
          2021,
          2022,
          2013,
          2014,
          2015,
          2016,
          2017,
          2018,
          2019,
          2020,
          2021,
          2022,
          2013,
          2014,
          2015,
          2016,
          2017,
          2018,
          2019,
          2020,
          2021,
          2022,
          2013,
          2014,
          2015,
          2016,
          2017,
          2018,
          2019,
          2020,
          2021,
          2022,
          2013,
          2014,
          2015,
          2016,
          2017,
          2018,
          2019,
          2020,
          2021,
          2022,
          2013,
          2014,
          2015,
          2016,
          2017,
          2018,
          2019,
          2020,
          2021,
          2022,
          2013,
          2014,
          2015,
          2016,
          2017,
          2018,
          2019,
          2020,
          2021,
          2022,
          2013,
          2014,
          2015,
          2016,
          2017,
          2018,
          2019,
          2020,
          2021,
          2022,
          2013,
          2014,
          2015,
          2016,
          2017,
          2018,
          2019,
          2020,
          2021,
          2022,
          2013,
          2014,
          2015,
          2016,
          2017,
          2018,
          2019,
          2020,
          2021,
          2022,
          2013,
          2014,
          2015,
          2016,
          2017,
          2018,
          2019,
          2020,
          2021,
          2022,
          2013,
          2014,
          2015,
          2016,
          2017,
          2018,
          2019
         ],
         "xaxis": "x2",
         "y": [
          1.2270671781122735,
          1.2028981452989063,
          1.1260434859892794,
          1.0686777761801631,
          1.0565533608462,
          1.1242008431619672,
          1.2182271250821926,
          0.5182526493461905,
          0.6220988497944174,
          1.3245454998029276,
          null,
          null,
          null,
          null,
          null,
          null,
          null,
          null,
          null,
          null,
          0.04557589814720246,
          0.03988585193626489,
          0.032490081500119825,
          0.07198987277222796,
          0.11039363073809266,
          0.1127654136136081,
          0.14914202620871111,
          0.04301241087871622,
          0.03961513749344326,
          0.23980334955564,
          null,
          null,
          null,
          null,
          null,
          null,
          null,
          null,
          null,
          null,
          0.32321791534429267,
          0.32818326590673375,
          0.39570043484346346,
          0.4800147207041075,
          0.5474145509612603,
          0.6385452290303868,
          0.696632800615974,
          0.24593370132371242,
          0.28957098519691016,
          0.7199972386793699,
          0.18811842161441422,
          0.1863993177549727,
          0.17260375767309297,
          0.16952703429885657,
          0.19208291913396355,
          0.18585050205906098,
          0.20504892042279418,
          0.1734708494123328,
          0.1120317061754207,
          2.2041441980442036,
          2.204102014577319,
          2.3041796274194017,
          2.2282181036018915,
          2.1983836887514525,
          2.265277563961745,
          2.3334156033992635,
          0.9249904212141212,
          1.103758618298318,
          0.09241206083440516,
          0.07371834576032114,
          0.041829230266109955,
          0.078270807876323,
          0.08132954808894564,
          0.08111388313384625,
          0.08453978653703899,
          0.006019672289040584,
          0,
          0,
          0.0004543961234557916,
          0.003935275877024276,
          0.002947130866793553,
          0.0019473748830184088,
          0.0020430540202984846,
          0.0015826961041935396,
          0.0007459486364012305,
          0,
          0,
          0,
          0.008260591265730166,
          0.021908230999785668,
          0.022368347260087365,
          0.022932767649784726,
          0.022996893227187124,
          0.02205388447669508,
          0.02258343407107305,
          0.00587332869467129,
          0.00820697700643446,
          0.01692918034748587,
          0.1101964112824909,
          0.09502372841558022,
          0.07821990502860783,
          0.08237190257955267,
          0.09957667194774332,
          0.1001246116090134,
          0.11580452703274549,
          0.02135633736642335,
          0.0007228315189961027,
          0.0055873564252165685,
          0.6487312948787621,
          0.6497901187286881,
          0.6097069835810814,
          0.5713373241559809,
          0.5855876028756014,
          0.5874715544172681,
          0.5929503086414056,
          0.24477045647031198,
          0.24596240176247483,
          0.43176910040491706,
          0.09525731205450783,
          0.08500500022487473,
          0.07526064322763079,
          0.07111036447879801,
          0.06980864967684614,
          0.07331640804161645,
          0.0740877758604363,
          0.03375910048014312,
          0.05252263490203414,
          0.09165511268530062,
          0.2829808418740598,
          0.26353182250529367,
          null,
          null,
          null,
          null,
          null,
          null,
          null,
          null,
          0.16681927701957078,
          0.15373496178834511,
          0.06691427084716246,
          0.07236125786717097,
          0.07838001263694817,
          0.08570732975708804,
          0.08319331843466062,
          0.02799912981121738,
          0.053931787075706644,
          0.10691691152813318,
          0.05237476938807655,
          0.05174172347946293,
          0.0571422819133723,
          0.04898991191887468,
          0.04416610846988283,
          0.04292046092937711,
          0.04786290939317203,
          0.017152489555592575,
          0.03091014612969941,
          0.18102866679789562,
          0.1542396190621144,
          0.12323441033361608,
          0.1163210155378566,
          0.11306560895311078,
          0.1303000710954213,
          0.1528174236199191,
          0.023979184636142716,
          0,
          0.0014255177658715366,
          10.63423699209927,
          10.982753602095764,
          11.302797011499969,
          11.068132005435151,
          10.847059341388633,
          10.259051004559764,
          11.734924921892054,
          6.337564765184282,
          6.58390181652041,
          9.485634423463388,
          0.15317529924771164,
          0.12590758383346623,
          0.09012655984403574,
          0.07973764790190949,
          0.08563593140100384,
          0.08581565453305687,
          0.0937515625260421,
          0.013629155909680632,
          0.0026409989737077987,
          0.007996771436811911,
          null,
          null,
          null,
          null,
          null,
          null,
          null,
          null,
          null,
          null,
          null,
          null,
          null,
          null,
          null,
          null,
          null,
          null,
          null,
          null,
          null,
          null,
          null,
          null,
          null,
          null,
          null,
          null,
          null,
          null,
          0.04839404416968024,
          0.03750869065314993,
          0.030100816158370708,
          0.030104925542459547,
          0.04076584593185826,
          0.0480031341333171,
          null,
          null,
          null,
          0.06296766470990643,
          0.012777372684208473,
          0.014960726654001836,
          0.021783506261601405,
          0.022627650408603147,
          0.024346304158280853,
          0.016810761452671342,
          0.017320875147920762,
          0.0023310229334777533,
          0.0025247003083630117,
          0.010722522184512003,
          0.011638318619601505,
          0.01127971584741422,
          0.010920630817909453,
          0.010272975218091975,
          0.009570377117146863,
          0.009010170793418745,
          0.010507633022770968,
          0.0040354210635942,
          0.00531204017652222,
          0.01585929965437755,
          1.2825593589212436,
          1.270935494787692,
          1.3017890494395659,
          1.2182498517665739,
          1.2154891475898368,
          1.1027404285391595,
          1.219137288328608,
          0.4630315943053117,
          0.536067237707378,
          null,
          0.2098288292182759,
          0.18485409383892465,
          0.1662728794875499,
          0.20298538698994473,
          0.19846119962534398,
          0.20707539866852454,
          0.203276646540837,
          0.06632119210195714,
          0.068279549753269,
          0.17369185356732694,
          0.6170950293078555,
          0.6262983643309787,
          0.6088890421922661,
          0.6160790173401457,
          0.6332627030161666,
          0.7137450579814518,
          0.7676471230387524,
          0.26402226654962474,
          0.4190644276757621,
          0.8401549152926595,
          null,
          null,
          null,
          null,
          null,
          null,
          null,
          null,
          null,
          null,
          null,
          null,
          null,
          null,
          null,
          null,
          null
         ],
         "yaxis": "y2"
        }
       ],
       "layout": {
        "height": 600,
        "template": {
         "data": {
          "bar": [
           {
            "error_x": {
             "color": "#2a3f5f"
            },
            "error_y": {
             "color": "#2a3f5f"
            },
            "marker": {
             "line": {
              "color": "#E5ECF6",
              "width": 0.5
             },
             "pattern": {
              "fillmode": "overlay",
              "size": 10,
              "solidity": 0.2
             }
            },
            "type": "bar"
           }
          ],
          "barpolar": [
           {
            "marker": {
             "line": {
              "color": "#E5ECF6",
              "width": 0.5
             },
             "pattern": {
              "fillmode": "overlay",
              "size": 10,
              "solidity": 0.2
             }
            },
            "type": "barpolar"
           }
          ],
          "carpet": [
           {
            "aaxis": {
             "endlinecolor": "#2a3f5f",
             "gridcolor": "white",
             "linecolor": "white",
             "minorgridcolor": "white",
             "startlinecolor": "#2a3f5f"
            },
            "baxis": {
             "endlinecolor": "#2a3f5f",
             "gridcolor": "white",
             "linecolor": "white",
             "minorgridcolor": "white",
             "startlinecolor": "#2a3f5f"
            },
            "type": "carpet"
           }
          ],
          "choropleth": [
           {
            "colorbar": {
             "outlinewidth": 0,
             "ticks": ""
            },
            "type": "choropleth"
           }
          ],
          "contour": [
           {
            "colorbar": {
             "outlinewidth": 0,
             "ticks": ""
            },
            "colorscale": [
             [
              0,
              "#0d0887"
             ],
             [
              0.1111111111111111,
              "#46039f"
             ],
             [
              0.2222222222222222,
              "#7201a8"
             ],
             [
              0.3333333333333333,
              "#9c179e"
             ],
             [
              0.4444444444444444,
              "#bd3786"
             ],
             [
              0.5555555555555556,
              "#d8576b"
             ],
             [
              0.6666666666666666,
              "#ed7953"
             ],
             [
              0.7777777777777778,
              "#fb9f3a"
             ],
             [
              0.8888888888888888,
              "#fdca26"
             ],
             [
              1,
              "#f0f921"
             ]
            ],
            "type": "contour"
           }
          ],
          "contourcarpet": [
           {
            "colorbar": {
             "outlinewidth": 0,
             "ticks": ""
            },
            "type": "contourcarpet"
           }
          ],
          "heatmap": [
           {
            "colorbar": {
             "outlinewidth": 0,
             "ticks": ""
            },
            "colorscale": [
             [
              0,
              "#0d0887"
             ],
             [
              0.1111111111111111,
              "#46039f"
             ],
             [
              0.2222222222222222,
              "#7201a8"
             ],
             [
              0.3333333333333333,
              "#9c179e"
             ],
             [
              0.4444444444444444,
              "#bd3786"
             ],
             [
              0.5555555555555556,
              "#d8576b"
             ],
             [
              0.6666666666666666,
              "#ed7953"
             ],
             [
              0.7777777777777778,
              "#fb9f3a"
             ],
             [
              0.8888888888888888,
              "#fdca26"
             ],
             [
              1,
              "#f0f921"
             ]
            ],
            "type": "heatmap"
           }
          ],
          "heatmapgl": [
           {
            "colorbar": {
             "outlinewidth": 0,
             "ticks": ""
            },
            "colorscale": [
             [
              0,
              "#0d0887"
             ],
             [
              0.1111111111111111,
              "#46039f"
             ],
             [
              0.2222222222222222,
              "#7201a8"
             ],
             [
              0.3333333333333333,
              "#9c179e"
             ],
             [
              0.4444444444444444,
              "#bd3786"
             ],
             [
              0.5555555555555556,
              "#d8576b"
             ],
             [
              0.6666666666666666,
              "#ed7953"
             ],
             [
              0.7777777777777778,
              "#fb9f3a"
             ],
             [
              0.8888888888888888,
              "#fdca26"
             ],
             [
              1,
              "#f0f921"
             ]
            ],
            "type": "heatmapgl"
           }
          ],
          "histogram": [
           {
            "marker": {
             "pattern": {
              "fillmode": "overlay",
              "size": 10,
              "solidity": 0.2
             }
            },
            "type": "histogram"
           }
          ],
          "histogram2d": [
           {
            "colorbar": {
             "outlinewidth": 0,
             "ticks": ""
            },
            "colorscale": [
             [
              0,
              "#0d0887"
             ],
             [
              0.1111111111111111,
              "#46039f"
             ],
             [
              0.2222222222222222,
              "#7201a8"
             ],
             [
              0.3333333333333333,
              "#9c179e"
             ],
             [
              0.4444444444444444,
              "#bd3786"
             ],
             [
              0.5555555555555556,
              "#d8576b"
             ],
             [
              0.6666666666666666,
              "#ed7953"
             ],
             [
              0.7777777777777778,
              "#fb9f3a"
             ],
             [
              0.8888888888888888,
              "#fdca26"
             ],
             [
              1,
              "#f0f921"
             ]
            ],
            "type": "histogram2d"
           }
          ],
          "histogram2dcontour": [
           {
            "colorbar": {
             "outlinewidth": 0,
             "ticks": ""
            },
            "colorscale": [
             [
              0,
              "#0d0887"
             ],
             [
              0.1111111111111111,
              "#46039f"
             ],
             [
              0.2222222222222222,
              "#7201a8"
             ],
             [
              0.3333333333333333,
              "#9c179e"
             ],
             [
              0.4444444444444444,
              "#bd3786"
             ],
             [
              0.5555555555555556,
              "#d8576b"
             ],
             [
              0.6666666666666666,
              "#ed7953"
             ],
             [
              0.7777777777777778,
              "#fb9f3a"
             ],
             [
              0.8888888888888888,
              "#fdca26"
             ],
             [
              1,
              "#f0f921"
             ]
            ],
            "type": "histogram2dcontour"
           }
          ],
          "mesh3d": [
           {
            "colorbar": {
             "outlinewidth": 0,
             "ticks": ""
            },
            "type": "mesh3d"
           }
          ],
          "parcoords": [
           {
            "line": {
             "colorbar": {
              "outlinewidth": 0,
              "ticks": ""
             }
            },
            "type": "parcoords"
           }
          ],
          "pie": [
           {
            "automargin": true,
            "type": "pie"
           }
          ],
          "scatter": [
           {
            "fillpattern": {
             "fillmode": "overlay",
             "size": 10,
             "solidity": 0.2
            },
            "type": "scatter"
           }
          ],
          "scatter3d": [
           {
            "line": {
             "colorbar": {
              "outlinewidth": 0,
              "ticks": ""
             }
            },
            "marker": {
             "colorbar": {
              "outlinewidth": 0,
              "ticks": ""
             }
            },
            "type": "scatter3d"
           }
          ],
          "scattercarpet": [
           {
            "marker": {
             "colorbar": {
              "outlinewidth": 0,
              "ticks": ""
             }
            },
            "type": "scattercarpet"
           }
          ],
          "scattergeo": [
           {
            "marker": {
             "colorbar": {
              "outlinewidth": 0,
              "ticks": ""
             }
            },
            "type": "scattergeo"
           }
          ],
          "scattergl": [
           {
            "marker": {
             "colorbar": {
              "outlinewidth": 0,
              "ticks": ""
             }
            },
            "type": "scattergl"
           }
          ],
          "scattermapbox": [
           {
            "marker": {
             "colorbar": {
              "outlinewidth": 0,
              "ticks": ""
             }
            },
            "type": "scattermapbox"
           }
          ],
          "scatterpolar": [
           {
            "marker": {
             "colorbar": {
              "outlinewidth": 0,
              "ticks": ""
             }
            },
            "type": "scatterpolar"
           }
          ],
          "scatterpolargl": [
           {
            "marker": {
             "colorbar": {
              "outlinewidth": 0,
              "ticks": ""
             }
            },
            "type": "scatterpolargl"
           }
          ],
          "scatterternary": [
           {
            "marker": {
             "colorbar": {
              "outlinewidth": 0,
              "ticks": ""
             }
            },
            "type": "scatterternary"
           }
          ],
          "surface": [
           {
            "colorbar": {
             "outlinewidth": 0,
             "ticks": ""
            },
            "colorscale": [
             [
              0,
              "#0d0887"
             ],
             [
              0.1111111111111111,
              "#46039f"
             ],
             [
              0.2222222222222222,
              "#7201a8"
             ],
             [
              0.3333333333333333,
              "#9c179e"
             ],
             [
              0.4444444444444444,
              "#bd3786"
             ],
             [
              0.5555555555555556,
              "#d8576b"
             ],
             [
              0.6666666666666666,
              "#ed7953"
             ],
             [
              0.7777777777777778,
              "#fb9f3a"
             ],
             [
              0.8888888888888888,
              "#fdca26"
             ],
             [
              1,
              "#f0f921"
             ]
            ],
            "type": "surface"
           }
          ],
          "table": [
           {
            "cells": {
             "fill": {
              "color": "#EBF0F8"
             },
             "line": {
              "color": "white"
             }
            },
            "header": {
             "fill": {
              "color": "#C8D4E3"
             },
             "line": {
              "color": "white"
             }
            },
            "type": "table"
           }
          ]
         },
         "layout": {
          "annotationdefaults": {
           "arrowcolor": "#2a3f5f",
           "arrowhead": 0,
           "arrowwidth": 1
          },
          "autotypenumbers": "strict",
          "coloraxis": {
           "colorbar": {
            "outlinewidth": 0,
            "ticks": ""
           }
          },
          "colorscale": {
           "diverging": [
            [
             0,
             "#8e0152"
            ],
            [
             0.1,
             "#c51b7d"
            ],
            [
             0.2,
             "#de77ae"
            ],
            [
             0.3,
             "#f1b6da"
            ],
            [
             0.4,
             "#fde0ef"
            ],
            [
             0.5,
             "#f7f7f7"
            ],
            [
             0.6,
             "#e6f5d0"
            ],
            [
             0.7,
             "#b8e186"
            ],
            [
             0.8,
             "#7fbc41"
            ],
            [
             0.9,
             "#4d9221"
            ],
            [
             1,
             "#276419"
            ]
           ],
           "sequential": [
            [
             0,
             "#0d0887"
            ],
            [
             0.1111111111111111,
             "#46039f"
            ],
            [
             0.2222222222222222,
             "#7201a8"
            ],
            [
             0.3333333333333333,
             "#9c179e"
            ],
            [
             0.4444444444444444,
             "#bd3786"
            ],
            [
             0.5555555555555556,
             "#d8576b"
            ],
            [
             0.6666666666666666,
             "#ed7953"
            ],
            [
             0.7777777777777778,
             "#fb9f3a"
            ],
            [
             0.8888888888888888,
             "#fdca26"
            ],
            [
             1,
             "#f0f921"
            ]
           ],
           "sequentialminus": [
            [
             0,
             "#0d0887"
            ],
            [
             0.1111111111111111,
             "#46039f"
            ],
            [
             0.2222222222222222,
             "#7201a8"
            ],
            [
             0.3333333333333333,
             "#9c179e"
            ],
            [
             0.4444444444444444,
             "#bd3786"
            ],
            [
             0.5555555555555556,
             "#d8576b"
            ],
            [
             0.6666666666666666,
             "#ed7953"
            ],
            [
             0.7777777777777778,
             "#fb9f3a"
            ],
            [
             0.8888888888888888,
             "#fdca26"
            ],
            [
             1,
             "#f0f921"
            ]
           ]
          },
          "colorway": [
           "#636efa",
           "#EF553B",
           "#00cc96",
           "#ab63fa",
           "#FFA15A",
           "#19d3f3",
           "#FF6692",
           "#B6E880",
           "#FF97FF",
           "#FECB52"
          ],
          "font": {
           "color": "#2a3f5f"
          },
          "geo": {
           "bgcolor": "white",
           "lakecolor": "white",
           "landcolor": "#E5ECF6",
           "showlakes": true,
           "showland": true,
           "subunitcolor": "white"
          },
          "hoverlabel": {
           "align": "left"
          },
          "hovermode": "closest",
          "mapbox": {
           "style": "light"
          },
          "paper_bgcolor": "white",
          "plot_bgcolor": "#E5ECF6",
          "polar": {
           "angularaxis": {
            "gridcolor": "white",
            "linecolor": "white",
            "ticks": ""
           },
           "bgcolor": "#E5ECF6",
           "radialaxis": {
            "gridcolor": "white",
            "linecolor": "white",
            "ticks": ""
           }
          },
          "scene": {
           "xaxis": {
            "backgroundcolor": "#E5ECF6",
            "gridcolor": "white",
            "gridwidth": 2,
            "linecolor": "white",
            "showbackground": true,
            "ticks": "",
            "zerolinecolor": "white"
           },
           "yaxis": {
            "backgroundcolor": "#E5ECF6",
            "gridcolor": "white",
            "gridwidth": 2,
            "linecolor": "white",
            "showbackground": true,
            "ticks": "",
            "zerolinecolor": "white"
           },
           "zaxis": {
            "backgroundcolor": "#E5ECF6",
            "gridcolor": "white",
            "gridwidth": 2,
            "linecolor": "white",
            "showbackground": true,
            "ticks": "",
            "zerolinecolor": "white"
           }
          },
          "shapedefaults": {
           "line": {
            "color": "#2a3f5f"
           }
          },
          "ternary": {
           "aaxis": {
            "gridcolor": "white",
            "linecolor": "white",
            "ticks": ""
           },
           "baxis": {
            "gridcolor": "white",
            "linecolor": "white",
            "ticks": ""
           },
           "bgcolor": "#E5ECF6",
           "caxis": {
            "gridcolor": "white",
            "linecolor": "white",
            "ticks": ""
           }
          },
          "title": {
           "x": 0.05
          },
          "xaxis": {
           "automargin": true,
           "gridcolor": "white",
           "linecolor": "white",
           "ticks": "",
           "title": {
            "standoff": 15
           },
           "zerolinecolor": "white",
           "zerolinewidth": 2
          },
          "yaxis": {
           "automargin": true,
           "gridcolor": "white",
           "linecolor": "white",
           "ticks": "",
           "title": {
            "standoff": 15
           },
           "zerolinecolor": "white",
           "zerolinewidth": 2
          }
         }
        },
        "title": {
         "text": "Per Capita Air vs Train Passengers Over Time"
        },
        "width": 800,
        "xaxis": {
         "anchor": "y",
         "domain": [
          0,
          1
         ]
        },
        "xaxis2": {
         "anchor": "y2",
         "domain": [
          0,
          1
         ]
        },
        "yaxis": {
         "anchor": "x",
         "domain": [
          0.575,
          1
         ]
        },
        "yaxis2": {
         "anchor": "x2",
         "domain": [
          0,
          0.425
         ]
        }
       }
      }
     },
     "metadata": {},
     "output_type": "display_data"
    }
   ],
   "source": [
    "import plotly.graph_objects as go\n",
    "from plotly.subplots import make_subplots\n",
    "\n",
    "# Create subplot with 2 rows\n",
    "fig = make_subplots(rows=2, cols=1)\n",
    "\n",
    "# Add line plot for air passengers in the first row\n",
    "fig.add_trace(\n",
    "    go.Scatter(x=df_air_pas['TIME_PERIOD'], y=df_air_pas['per_capita'], mode='lines', name='Air Passengers'),\n",
    "    row=1, col=1\n",
    ")\n",
    "\n",
    "# Add scatter plot for train passengers in the second row\n",
    "fig.add_trace(\n",
    "    go.Scatter(x=df_train_pas['TIME_PERIOD'], y=df_train_pas['per_capita'], mode='markers', name='Train Passengers'),\n",
    "    row=2, col=1\n",
    ")\n",
    "\n",
    "fig.update_layout(height=600, width=800, title_text=\"Per Capita Air vs Train Passengers Over Time\")\n",
    "fig.show()"
   ]
  }
 ],
 "metadata": {
  "kernelspec": {
   "display_name": "Python 3 (ipykernel)",
   "language": "python",
   "name": "python3"
  },
  "language_info": {
   "codemirror_mode": {
    "name": "ipython",
    "version": 3
   },
   "file_extension": ".py",
   "mimetype": "text/x-python",
   "name": "python",
   "nbconvert_exporter": "python",
   "pygments_lexer": "ipython3",
   "version": "3.9.18"
  },
  "vscode": {
   "interpreter": {
    "hash": "31f2aee4e71d21fbe5cf8b01ff0e069b9275f58929596ceb00d14d90e3e16cd6"
   }
  }
 },
 "nbformat": 4,
 "nbformat_minor": 4
}
