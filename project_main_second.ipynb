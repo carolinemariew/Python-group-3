{
 "cells": [
  {
   "cell_type": "markdown",
   "metadata": {},
   "source": [
    "# Project Group - 3\n",
    "\n",
    "**Members & student numbers:** <br>\n",
    "Caroline Aalders - 5230578 <br>\n",
    "Pangiotis Papadopoulos - 5054443 <br>\n",
    "Vendankur Kedar - 5693136 <br>\n",
    "Thieme Brandwagt - 5232910 <br>\n"
   ]
  },
  {
   "cell_type": "markdown",
   "metadata": {},
   "source": [
    "# Introduction"
   ]
  },
  {
   "cell_type": "markdown",
   "metadata": {},
   "source": [
    "The European Union has a big focus on sustainable with the European Green Deal that has been presented. The European union thrives to become climate neutral by the year 2050. When focusing on transport one of the goals is to have high-speed rail traffic doubles across Europe (European Commission, 2020). Therefore, in the project the focus is going to be the modal shift from air travel to international train travel in the last ten years. To focus more on high speed railway, a case study of France is going to be provided. France has multiple domestic flights and high speed train. Therefore, a thorough analysis can be made\n",
    "\n",
    "References: <br>\n",
    "1. European Commission. (2020). The Transport and Mobility Sector. In European Commission.\n"
   ]
  },
  {
   "cell_type": "markdown",
   "metadata": {},
   "source": [
    "# Research Objective\n"
   ]
  },
  {
   "cell_type": "markdown",
   "metadata": {},
   "source": [
    "**Our main research question:** <br>\n",
    "What is the trend in the modal shift from air travel to international train travel from the last ten years within the European Union?\n",
    "\n",
    "**Our sub research questions:** <br>\n",
    "What is the trend of air travel in the last ten years within the European Union?<br>\n",
    "What is the trend of train travel in the last ten years within the European Union?<br>\n",
    "What is the correlation between air travel and train travel in the last ten years within the European Union?<br>\n",
    "What is the trend of the modal shift of highspeed train in France - a case study?<br>\n",
    "\n",
    "\n",
    "\n",
    "\n",
    "\n"
   ]
  },
  {
   "cell_type": "markdown",
   "metadata": {},
   "source": [
    "# Contribution Statement\n"
   ]
  },
  {
   "cell_type": "markdown",
   "metadata": {},
   "source": [
    "**Caroline Aalders**: Manager of background research.\n",
    "\n",
    "**Vedankur Kedar**: Manager of data visualisation in graphs (and possibly maps).\n",
    "\n",
    "**Panagiotis Papapoulos**: Manager of data modelling and coding logic.\n",
    "\n",
    "**Thieme Brandwagt**: Manager of conceptualisation of theory and relevant policy."
   ]
  },
  {
   "cell_type": "markdown",
   "metadata": {},
   "source": [
    "# Data Considered"
   ]
  },
  {
   "cell_type": "markdown",
   "metadata": {},
   "source": [
    "1. **Data on W.I.P. EU transport policy:** https    ://www.consilium.europa.eu/en/policies/?filters=1650 (Relevant: Clean and sustainable mobility, European Green Deal, Rail Transport Policy)\n",
    "2. **Data on historal EU rail policy directives:** https://www.europarl.europa.eu/factsheets/en/sheet/130/rail-transport#:~:text=The%20directive%20was%20amended%20by%20Directive%202001%2F13%2FEC%20of,Directive%202012%2F34%2FEU%20of%2021%20November%202012%20establishing%20\n",
    "3. **Emission Trading Scheme and aviation:** https://climate.ec.europa.eu/eu-action/aviation-and-eu-ets_en\n",
    "4. **Total amount of aviation passengers, excluding international flights.** https://ec.europa.eu/eurostat/databrowser/view/TTR00012/default/line?lang=en\n",
    "5. **International flights:** https://ec.europa.eu/eurostat/statistics-explained/index.php?title=Air_transport_statistics#Intra-EU_passenger_transport_was_almost_at_the_same_level_as_extra-EU_traffic_in_2021 \n",
    "6. **Passenger flight per region:**\n",
    "https://ec.europa.eu/eurostat/databrowser/view/TRAN_R_AVPA_NM/default/line?lang=en \n",
    "7. **Specific airports:** https://www.eurocontrol.int/Economics/DailyOperatedSchedules-Airports.html\n",
    "8. **Rail fares:** https://data.europa.eu/data/datasets/fares?locale=nl\n",
    "9. **Plane fares:** https://old.datahub.io/dataset/european-flight-price-data\n",
    "10. **Other EU airline data:** https://ec.europa.eu/eurostat/web/main/data/database \n",
    "11. **Passengers Transported:** https://ec.europa.eu/eurostat/databrowser/view/RAIL_PA_TOTAL/default/table?lang=en\n",
    "12. **Passengers transported (detailed reporting only) - (quarterly data):** https://ec.europa.eu/eurostat/databrowser/view/RAIL_PA_QUARTAL/default/table?lang=en\n",
    "13. **Passenger transport by type of transport (detailed reporting only):** https://ec.europa.eu/eurostat/databrowser/view/RAIL_PA_TYPEPAS/default/table?lang=en\n",
    "14. **International transport of passengers from the reporting country to the country of disembarkation:** https://ec.europa.eu/eurostat/databrowser/view/RAIL_PA_INTGONG/default/table?lang=en\n",
    "15. **International transport of passengers from the country of embarkation to the reporting country:** https://ec.europa.eu/eurostat/databrowser/view/RAIL_PA_INTCMNG/default/table?lang=en\n",
    "16. **Railway transport - national and international railway passengers transport by loading/unloading NUTS 2 region:** https://ec.europa.eu/eurostat/databrowser/view/TRAN_R_RAPA/default/table?lang=en\n",
    "17. **Passengers by speed of train:** https://ec.europa.eu/eurostat/databrowser/view/RAIL_PA_SPEED/default/table?lang=en\n",
    "18. **Passenger cars in accompanied passenger car railway transport, by type of transport:** https://ec.europa.eu/eurostat/databrowser/view/RAIL_PA_NBCAR/default/table?lang=en\n",
    "19. **Passengers in accompanied passenger car railway transport, by type of transport:** https://ec.europa.eu/eurostat/databrowser/view/RAIL_PA_NBPASS/default/table?lang=en"
   ]
  },
  {
   "cell_type": "markdown",
   "metadata": {},
   "source": [
    "# Data Used"
   ]
  },
  {
   "attachments": {
    "image.png": {
     "image/png": "[encoded data removed]"
    }
   },
   "cell_type": "markdown",
   "metadata": {},
   "source": [
    "After collecting a lot of datasets we narrowed it down to three datasets. \n",
    "1. **Air travel within Europe**\n",
    "https://ec.europa.eu/eurostat/databrowser/view/TTR00012/default/line?lang=en  \n",
    "2. **International train travel within Europe**\n",
    "https://ec.europa.eu/eurostat/databrowser/view/rail_pa_typepas__custom_7854806/default/table?lang=en \n",
    "3. **High speed train travel France** https://ec.europa.eu/eurostat/databrowser/view/RAIL_PA_SPEED/default/table?lang=en \n",
    "\n",
    "The data collected for air travel within Europe accounts for flights from the EU to outside the EU, flights within the EU and domestic flights. In order to make a distinction between the different catagorie the following distrubition has been used:<br>\n",
    "![image.png](attachment:image.png) <br>\n",
    "https://ec.europa.eu/eurostat/statistics-explained/index.php?title=Air_transport_statistics\n",
    "\n",
    "**Note** <br>\n",
    "Not all the datasets are complete. The datasets for international train travel lacks data of the following countries: Hungary, The Netherlands and Belgium. Therefore, the analysis will not represent the reality one hunderd procent. \n"
   ]
  },
  {
   "cell_type": "markdown",
   "metadata": {},
   "source": [
    "# Data Pipeline"
   ]
  },
  {
   "cell_type": "markdown",
   "metadata": {},
   "source": [
    "All the data needs to be combined in a graph over time with stamps for places when policies have changed. The passenger number difference is the greatest indicator of our main question. We could try to find other influencing factors. Like ticket price and the covid pandemic. \n",
    "\n",
    "Steps:\n",
    "1. Data collection\n",
    "2. Data cleaning and transformation\n",
    "3. Data integration into a single dataset\n",
    "4. Data aggregation for the most interesting time periods\n",
    "5. Data analysis\n",
    "6. Data enrichment with external factors, such as COVID events\n",
    "7. Data presentation in graphs"
   ]
  },
  {
   "cell_type": "markdown",
   "metadata": {},
   "source": [
    "# Part 1\n",
    "Comparison passengers between air travel and train travel in Europe"
   ]
  },
  {
   "cell_type": "code",
   "execution_count": 5,
   "metadata": {},
   "outputs": [],
   "source": [
    "import pandas as pd \n",
    "import matplotlib.pyplot as plt"
   ]
  },
  {
   "cell_type": "code",

   "metadata": {},
   "outputs": [
    {
     "data": {
      "text/html": [
       "<div>\n",
       "<style scoped>\n",
       "    .dataframe tbody tr th:only-of-type {\n",
       "        vertical-align: middle;\n",
       "    }\n",
       "\n",
       "    .dataframe tbody tr th {\n",
       "        vertical-align: top;\n",
       "    }\n",
       "\n",
       "    .dataframe thead th {\n",
       "        text-align: right;\n",
       "    }\n",
       "</style>\n",
       "<table border=\"1\" class=\"dataframe\">\n",
       "  <thead>\n",
       "    <tr style=\"text-align: right;\">\n",
       "      <th></th>\n",
       "      <th>DATAFLOW</th>\n",
       "      <th>LAST UPDATE</th>\n",
       "      <th>freq</th>\n",
       "      <th>unit</th>\n",
       "      <th>tra_meas</th>\n",
       "      <th>tra_cov</th>\n",
       "      <th>schedule</th>\n",
       "      <th>geo</th>\n",
       "      <th>TIME_PERIOD</th>\n",
       "      <th>OBS_VALUE</th>\n",
       "      <th>OBS_FLAG</th>\n",
       "    </tr>\n",
       "  </thead>\n",
       "  <tbody>\n",
       "    <tr>\n",
       "      <th>0</th>\n",
       "      <td>ESTAT:TTR00012(1.0)</td>\n",
       "      <td>05/10/23 23:00:00</td>\n",
       "      <td>A</td>\n",
       "      <td>PAS</td>\n",
       "      <td>PAS_CRD</td>\n",
       "      <td>TOTAL</td>\n",
       "      <td>TOT</td>\n",
       "      <td>AT</td>\n",
       "      <td>2011</td>\n",
       "      <td>25137612</td>\n",
       "      <td>NaN</td>\n",
       "    </tr>\n",
       "    <tr>\n",
       "      <th>1</th>\n",
       "      <td>ESTAT:TTR00012(1.0)</td>\n",
       "      <td>05/10/23 23:00:00</td>\n",
       "      <td>A</td>\n",
       "      <td>PAS</td>\n",
       "      <td>PAS_CRD</td>\n",
       "      <td>TOTAL</td>\n",
       "      <td>TOT</td>\n",
       "      <td>AT</td>\n",
       "      <td>2012</td>\n",
       "      <td>25965977</td>\n",
       "      <td>NaN</td>\n",
       "    </tr>\n",
       "    <tr>\n",
       "      <th>2</th>\n",
       "      <td>ESTAT:TTR00012(1.0)</td>\n",
       "      <td>05/10/23 23:00:00</td>\n",
       "      <td>A</td>\n",
       "      <td>PAS</td>\n",
       "      <td>PAS_CRD</td>\n",
       "      <td>TOTAL</td>\n",
       "      <td>TOT</td>\n",
       "      <td>AT</td>\n",
       "      <td>2013</td>\n",
       "      <td>25749724</td>\n",
       "      <td>NaN</td>\n",
       "    </tr>\n",
       "    <tr>\n",
       "      <th>3</th>\n",
       "      <td>ESTAT:TTR00012(1.0)</td>\n",
       "      <td>05/10/23 23:00:00</td>\n",
       "      <td>A</td>\n",
       "      <td>PAS</td>\n",
       "      <td>PAS_CRD</td>\n",
       "      <td>TOTAL</td>\n",
       "      <td>TOT</td>\n",
       "      <td>AT</td>\n",
       "      <td>2014</td>\n",
       "      <td>26378676</td>\n",
       "      <td>NaN</td>\n",
       "    </tr>\n",
       "    <tr>\n",
       "      <th>4</th>\n",
       "      <td>ESTAT:TTR00012(1.0)</td>\n",
       "      <td>05/10/23 23:00:00</td>\n",
       "      <td>A</td>\n",
       "      <td>PAS</td>\n",
       "      <td>PAS_CRD</td>\n",
       "      <td>TOTAL</td>\n",
       "      <td>TOT</td>\n",
       "      <td>AT</td>\n",
       "      <td>2015</td>\n",
       "      <td>26754007</td>\n",
       "      <td>NaN</td>\n",
       "    </tr>\n",
       "    <tr>\n",

       "      <th>...</th>\n",
       "      <td>...</td>\n",
       "      <td>...</td>\n",
       "      <td>...</td>\n",
       "      <td>...</td>\n",
       "      <td>...</td>\n",
       "      <td>...</td>\n",
       "      <td>...</td>\n",
       "      <td>...</td>\n",
       "      <td>...</td>\n",
       "      <td>...</td>\n",
       "      <td>...</td>\n",
       "    </tr>\n",
       "    <tr>\n",
       "      <th>398</th>\n",

       "      <td>ESTAT:TTR00012(1.0)</td>\n",
       "      <td>05/10/23 23:00:00</td>\n",
       "      <td>A</td>\n",
       "      <td>PAS</td>\n",
       "      <td>PAS_CRD</td>\n",
       "      <td>TOTAL</td>\n",
       "      <td>TOT</td>\n",

       "      <td>UK</td>\n",
       "      <td>2015</td>\n",
       "      <td>232270437</td>\n",
       "      <td>NaN</td>\n",
       "    </tr>\n",
       "    <tr>\n",
       "      <th>399</th>\n",

       "      <td>ESTAT:TTR00012(1.0)</td>\n",
       "      <td>05/10/23 23:00:00</td>\n",
       "      <td>A</td>\n",
       "      <td>PAS</td>\n",
       "      <td>PAS_CRD</td>\n",
       "      <td>TOTAL</td>\n",
       "      <td>TOT</td>\n",

       "      <td>UK</td>\n",
       "      <td>2016</td>\n",
       "      <td>248868873</td>\n",
       "      <td>NaN</td>\n",
       "    </tr>\n",
       "    <tr>\n",
       "      <th>400</th>\n",

       "      <td>ESTAT:TTR00012(1.0)</td>\n",
       "      <td>05/10/23 23:00:00</td>\n",
       "      <td>A</td>\n",
       "      <td>PAS</td>\n",
       "      <td>PAS_CRD</td>\n",
       "      <td>TOTAL</td>\n",
       "      <td>TOT</td>\n",

       "      <td>UK</td>\n",
       "      <td>2017</td>\n",
       "      <td>264629454</td>\n",
       "      <td>NaN</td>\n",
       "    </tr>\n",
       "    <tr>\n",
       "      <th>401</th>\n",

       "      <td>ESTAT:TTR00012(1.0)</td>\n",
       "      <td>05/10/23 23:00:00</td>\n",
       "      <td>A</td>\n",
       "      <td>PAS</td>\n",
       "      <td>PAS_CRD</td>\n",
       "      <td>TOTAL</td>\n",
       "      <td>TOT</td>\n",

       "      <td>UK</td>\n",
       "      <td>2018</td>\n",
       "      <td>272190155</td>\n",
       "      <td>NaN</td>\n",
       "    </tr>\n",
       "    <tr>\n",
       "      <th>402</th>\n",

       "      <td>ESTAT:TTR00012(1.0)</td>\n",
       "      <td>05/10/23 23:00:00</td>\n",
       "      <td>A</td>\n",
       "      <td>PAS</td>\n",
       "      <td>PAS_CRD</td>\n",
       "      <td>TOTAL</td>\n",
       "      <td>TOT</td>\n",

       "      <td>UK</td>\n",
       "      <td>2019</td>\n",
       "      <td>277432380</td>\n",
       "      <td>NaN</td>\n",
       "    </tr>\n",
       "  </tbody>\n",
       "</table>\n",
       "<p>403 rows × 11 columns</p>\n",
       "</div>"
      ],
      "text/plain": [
       "                DATAFLOW        LAST UPDATE freq unit tra_meas tra_cov  \\\n",
       "0    ESTAT:TTR00012(1.0)  05/10/23 23:00:00    A  PAS  PAS_CRD   TOTAL   \n",
       "1    ESTAT:TTR00012(1.0)  05/10/23 23:00:00    A  PAS  PAS_CRD   TOTAL   \n",
       "2    ESTAT:TTR00012(1.0)  05/10/23 23:00:00    A  PAS  PAS_CRD   TOTAL   \n",
       "3    ESTAT:TTR00012(1.0)  05/10/23 23:00:00    A  PAS  PAS_CRD   TOTAL   \n",
       "4    ESTAT:TTR00012(1.0)  05/10/23 23:00:00    A  PAS  PAS_CRD   TOTAL   \n",
       "..                   ...                ...  ...  ...      ...     ...   \n",
       "398  ESTAT:TTR00012(1.0)  05/10/23 23:00:00    A  PAS  PAS_CRD   TOTAL   \n",
       "399  ESTAT:TTR00012(1.0)  05/10/23 23:00:00    A  PAS  PAS_CRD   TOTAL   \n",
       "400  ESTAT:TTR00012(1.0)  05/10/23 23:00:00    A  PAS  PAS_CRD   TOTAL   \n",
       "401  ESTAT:TTR00012(1.0)  05/10/23 23:00:00    A  PAS  PAS_CRD   TOTAL   \n",
       "402  ESTAT:TTR00012(1.0)  05/10/23 23:00:00    A  PAS  PAS_CRD   TOTAL   \n",
       "\n",
       "    schedule geo  TIME_PERIOD  OBS_VALUE  OBS_FLAG  \n",
       "0        TOT  AT         2011   25137612       NaN  \n",
       "1        TOT  AT         2012   25965977       NaN  \n",
       "2        TOT  AT         2013   25749724       NaN  \n",
       "3        TOT  AT         2014   26378676       NaN  \n",
       "4        TOT  AT         2015   26754007       NaN  \n",
       "..       ...  ..          ...        ...       ...  \n",
       "398      TOT  UK         2015  232270437       NaN  \n",
       "399      TOT  UK         2016  248868873       NaN  \n",
       "400      TOT  UK         2017  264629454       NaN  \n",
       "401      TOT  UK         2018  272190155       NaN  \n",
       "402      TOT  UK         2019  277432380       NaN  \n",
       "\n",
       "[403 rows x 11 columns]"
      ]
     },
     "execution_count": 10,
     "metadata": {},
     "output_type": "execute_result"
    }
   ],
   "source": [
    "df_air_pas = pd.read_csv('Datasets/Air_transport_of_passengers_by_country.csv')\n",
    "df_air_pas\n",
    "#https://ec.europa.eu/eurostat/databrowser/view/TTR00012/default/table?lang=en "
   ]
  },
  {
   "cell_type": "code",
   "execution_count": 11,
   "metadata": {},
   "outputs": [
    {
     "data": {
      "text/html": [
       "<div>\n",
       "<style scoped>\n",
       "    .dataframe tbody tr th:only-of-type {\n",
       "        vertical-align: middle;\n",
       "    }\n",
       "\n",
       "    .dataframe tbody tr th {\n",
       "        vertical-align: top;\n",
       "    }\n",
       "\n",
       "    .dataframe thead th {\n",
       "        text-align: right;\n",
       "    }\n",
       "</style>\n",
       "<table border=\"1\" class=\"dataframe\">\n",
       "  <thead>\n",
       "    <tr style=\"text-align: right;\">\n",
       "      <th></th>\n",
       "      <th>DATAFLOW</th>\n",
       "      <th>LAST UPDATE</th>\n",
       "      <th>freq</th>\n",
       "      <th>unit</th>\n",
       "      <th>tra_cov</th>\n",
       "      <th>geo</th>\n",
       "      <th>TIME_PERIOD</th>\n",
       "      <th>OBS_VALUE</th>\n",
       "      <th>OBS_FLAG</th>\n",
       "    </tr>\n",
       "  </thead>\n",
       "  <tbody>\n",
       "    <tr>\n",
       "      <th>0</th>\n",
       "      <td>ESTAT:RAIL_PA_TYPEPAS(1.0)</td>\n",
       "      <td>13/10/23 23:00:00</td>\n",
       "      <td>A</td>\n",
       "      <td>THS_PAS</td>\n",
       "      <td>INTL</td>\n",
       "      <td>AT</td>\n",
       "      <td>2013</td>\n",
       "      <td>10371.0</td>\n",
       "      <td>NaN</td>\n",
       "    </tr>\n",
       "    <tr>\n",
       "      <th>1</th>\n",
       "      <td>ESTAT:RAIL_PA_TYPEPAS(1.0)</td>\n",
       "      <td>13/10/23 23:00:00</td>\n",
       "      <td>A</td>\n",
       "      <td>THS_PAS</td>\n",
       "      <td>INTL</td>\n",
       "      <td>AT</td>\n",
       "      <td>2014</td>\n",
       "      <td>10234.0</td>\n",
       "      <td>NaN</td>\n",
       "    </tr>\n",
       "    <tr>\n",
       "      <th>2</th>\n",
       "      <td>ESTAT:RAIL_PA_TYPEPAS(1.0)</td>\n",
       "      <td>13/10/23 23:00:00</td>\n",
       "      <td>A</td>\n",
       "      <td>THS_PAS</td>\n",
       "      <td>INTL</td>\n",
       "      <td>AT</td>\n",
       "      <td>2015</td>\n",
       "      <td>9667.0</td>\n",
       "      <td>NaN</td>\n",
       "    </tr>\n",
       "    <tr>\n",
       "      <th>3</th>\n",
       "      <td>ESTAT:RAIL_PA_TYPEPAS(1.0)</td>\n",
       "      <td>13/10/23 23:00:00</td>\n",
       "      <td>A</td>\n",
       "      <td>THS_PAS</td>\n",
       "      <td>INTL</td>\n",
       "      <td>AT</td>\n",
       "      <td>2016</td>\n",
       "      <td>9298.0</td>\n",
       "      <td>NaN</td>\n",
       "    </tr>\n",
       "    <tr>\n",
       "      <th>4</th>\n",
       "      <td>ESTAT:RAIL_PA_TYPEPAS(1.0)</td>\n",
       "      <td>13/10/23 23:00:00</td>\n",
       "      <td>A</td>\n",
       "      <td>THS_PAS</td>\n",
       "      <td>INTL</td>\n",
       "      <td>AT</td>\n",
       "      <td>2017</td>\n",
       "      <td>9269.0</td>\n",
       "      <td>NaN</td>\n",
       "    </tr>\n",
       "    <tr>\n",
       "      <th>...</th>\n",
       "      <td>...</td>\n",
       "      <td>...</td>\n",
       "      <td>...</td>\n",
       "      <td>...</td>\n",
       "      <td>...</td>\n",
       "      <td>...</td>\n",
       "      <td>...</td>\n",
       "      <td>...</td>\n",
       "      <td>...</td>\n",
       "    </tr>\n",
       "    <tr>\n",
       "      <th>289</th>\n",
       "      <td>ESTAT:RAIL_PA_TYPEPAS(1.0)</td>\n",
       "      <td>13/10/23 23:00:00</td>\n",
       "      <td>A</td>\n",
       "      <td>THS_PAS</td>\n",
       "      <td>INTL</td>\n",
       "      <td>UK</td>\n",
       "      <td>2015</td>\n",
       "      <td>19847.0</td>\n",
       "      <td>NaN</td>\n",
       "    </tr>\n",
       "    <tr>\n",
       "      <th>290</th>\n",
       "      <td>ESTAT:RAIL_PA_TYPEPAS(1.0)</td>\n",
       "      <td>13/10/23 23:00:00</td>\n",
       "      <td>A</td>\n",
       "      <td>THS_PAS</td>\n",
       "      <td>INTL</td>\n",
       "      <td>UK</td>\n",
       "      <td>2016</td>\n",
       "      <td>19428.0</td>\n",
       "      <td>NaN</td>\n",
       "    </tr>\n",
       "    <tr>\n",
       "      <th>291</th>\n",
       "      <td>ESTAT:RAIL_PA_TYPEPAS(1.0)</td>\n",
       "      <td>13/10/23 23:00:00</td>\n",
       "      <td>A</td>\n",
       "      <td>THS_PAS</td>\n",
       "      <td>INTL</td>\n",
       "      <td>UK</td>\n",
       "      <td>2017</td>\n",
       "      <td>19649.0</td>\n",
       "      <td>NaN</td>\n",
       "    </tr>\n",
       "    <tr>\n",
       "      <th>292</th>\n",
       "      <td>ESTAT:RAIL_PA_TYPEPAS(1.0)</td>\n",
       "      <td>13/10/23 23:00:00</td>\n",
       "      <td>A</td>\n",
       "      <td>THS_PAS</td>\n",
       "      <td>INTL</td>\n",
       "      <td>UK</td>\n",
       "      <td>2018</td>\n",
       "      <td>20521.0</td>\n",
       "      <td>NaN</td>\n",
       "    </tr>\n",
       "    <tr>\n",
       "      <th>293</th>\n",
       "      <td>ESTAT:RAIL_PA_TYPEPAS(1.0)</td>\n",
       "      <td>13/10/23 23:00:00</td>\n",
       "      <td>A</td>\n",
       "      <td>THS_PAS</td>\n",
       "      <td>INTL</td>\n",
       "      <td>UK</td>\n",
       "      <td>2019</td>\n",
       "      <td>20541.0</td>\n",

       "      <td>NaN</td>\n",
       "    </tr>\n",
       "  </tbody>\n",
       "</table>\n",

       "<p>294 rows × 9 columns</p>\n",
       "</div>"
      ],
      "text/plain": [
       "                       DATAFLOW        LAST UPDATE freq     unit tra_cov geo  \\\n",
       "0    ESTAT:RAIL_PA_TYPEPAS(1.0)  13/10/23 23:00:00    A  THS_PAS    INTL  AT   \n",
       "1    ESTAT:RAIL_PA_TYPEPAS(1.0)  13/10/23 23:00:00    A  THS_PAS    INTL  AT   \n",
       "2    ESTAT:RAIL_PA_TYPEPAS(1.0)  13/10/23 23:00:00    A  THS_PAS    INTL  AT   \n",
       "3    ESTAT:RAIL_PA_TYPEPAS(1.0)  13/10/23 23:00:00    A  THS_PAS    INTL  AT   \n",
       "4    ESTAT:RAIL_PA_TYPEPAS(1.0)  13/10/23 23:00:00    A  THS_PAS    INTL  AT   \n",
       "..                          ...                ...  ...      ...     ...  ..   \n",
       "289  ESTAT:RAIL_PA_TYPEPAS(1.0)  13/10/23 23:00:00    A  THS_PAS    INTL  UK   \n",
       "290  ESTAT:RAIL_PA_TYPEPAS(1.0)  13/10/23 23:00:00    A  THS_PAS    INTL  UK   \n",
       "291  ESTAT:RAIL_PA_TYPEPAS(1.0)  13/10/23 23:00:00    A  THS_PAS    INTL  UK   \n",
       "292  ESTAT:RAIL_PA_TYPEPAS(1.0)  13/10/23 23:00:00    A  THS_PAS    INTL  UK   \n",
       "293  ESTAT:RAIL_PA_TYPEPAS(1.0)  13/10/23 23:00:00    A  THS_PAS    INTL  UK   \n",
       "\n",
       "     TIME_PERIOD  OBS_VALUE OBS_FLAG  \n",
       "0           2013    10371.0      NaN  \n",
       "1           2014    10234.0      NaN  \n",
       "2           2015     9667.0      NaN  \n",
       "3           2016     9298.0      NaN  \n",
       "4           2017     9269.0      NaN  \n",
       "..           ...        ...      ...  \n",
       "289         2015    19847.0      NaN  \n",
       "290         2016    19428.0      NaN  \n",
       "291         2017    19649.0      NaN  \n",
       "292         2018    20521.0      NaN  \n",
       "293         2019    20541.0      NaN  \n",
       "\n",
       "[294 rows x 9 columns]"
      ]
     },

     "metadata": {},
     "output_type": "execute_result"
    }
   ],
   "source": [

    "df_train_pas = pd.read_csv('Datasets/rail_int_per_thousand_pas.csv')\n",
    "df_train_pas"
   ]
  },
  {
   "cell_type": "code",
   "execution_count": 16,
   "metadata": {},
   "outputs": [],
   "source": [
    "df_air_pas['Inter_EU'] = df_air_pas['OBS_VALUE'] * 0.378 #amount of international flights within Europe\n",
    "year_pas_data_air = df_air_pas.groupby('TIME_PERIOD')['Inter_EU'].sum().reset_index() #passenger data of air travel is grouped per year\n",
    "#Domestic flights and flights from the EU to outside the EU are excluded\n",
    "\n",
    "df_train_pas['Total_Passengers'] = df_train_pas['OBS_VALUE'] * 1000 #the dataset is per thousand passengers\n",
    "year_pas_data_train = df_train_pas.groupby('TIME_PERIOD')['Total_Passengers'].sum().reset_index() #passenger data of train travel is grouped per year\n"
   ]
  },
  {
   "cell_type": "code",
   "execution_count": 17,
   "metadata": {},
   "outputs": [
    {
     "data": {
      "image/png": "[encoded data removed]",
      "text/plain": [
       "<Figure size 1000x600 with 1 Axes>"
      ]
     },
     "metadata": {},
     "output_type": "display_data"
    }
   ],
   "source": [
    "fig, ax = plt.subplots(figsize=(10, 6)) #plotting the comparison of flight within the EU and international train travel\n",
    "\n",
    "ax.plot(year_pas_data_air['TIME_PERIOD'], year_pas_data_air['Inter_EU'], label='Air travel', marker='o')\n",
    "ax.plot(year_pas_data_train['TIME_PERIOD'], year_pas_data_train['Total_Passengers'], label='Railway travel', marker='s')\n",
    "\n",
    "ax.set_xlabel('Year')\n",
    "ax.set_ylabel('Total Passengers')\n",
    "ax.set_title('Comparison inter EU air and railway passengers from 2013 until 2022')\n",
    "ax.grid(True)\n",
    "ax.legend()\n",
    "\n",
    "plt.show()"

   ]
  },
  {
   "cell_type": "markdown",
   "metadata": {},
   "source": [
    "When looking at the comparison between inter EU air passengers and railway passengers, a few things stand out. First of all the increase over the last ten years. Air travel shows a significant increase in the amount of passengers, where on the other hand the railway travel stays almost constant until COVID-19. Moreover, there is a difference in the recovery after COVID-19. When looking at air travel passengers the amount of passengers is going back to the amount before COVID-19. This is not the case for railway passengers. This is still not even half way back to the level before COVID-19. This raises questions about the goals of the EU concerning of having doubled the amount of highspeed trains in the EU by 2030.   "
   ]
  }
 ],
 "metadata": {
  "kernelspec": {
   "display_name": "Python 3 (ipykernel)",
   "language": "python",
   "name": "python3"
  },
  "language_info": {
   "codemirror_mode": {
    "name": "ipython",
    "version": 3
   },
   "file_extension": ".py",
   "mimetype": "text/x-python",
   "name": "python",
   "nbconvert_exporter": "python",
   "pygments_lexer": "ipython3",
   "version": "3.11.5"
  },
  "vscode": {
   "interpreter": {
    "hash": "31f2aee4e71d21fbe5cf8b01ff0e069b9275f58929596ceb00d14d90e3e16cd6"
   }
  }
 },
 "nbformat": 4,
 "nbformat_minor": 4
}
